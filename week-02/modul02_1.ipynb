{
 "cells": [
  {
   "cell_type": "markdown",
   "metadata": {},
   "source": [
    "## **Job Sheet 2: Ekstraksi Fitur**\n",
    "### **Praktikum 1**\n",
    "Pra Pengolahan Data - Data Terstruktur\n",
    "<hr>\n",
    "\n",
    "**Data Imputation**\n",
    "Mencoba melakukan data imputation terhadap data yang hilang (Missing Values). Dataset yang digunakna adalah dataset Titanic"
   ]
  },
  {
   "cell_type": "code",
   "execution_count": null,
   "metadata": {},
   "outputs": [],
   "source": []
  }
 ],
 "metadata": {
  "language_info": {
   "name": "python"
  },
  "orig_nbformat": 4
 },
 "nbformat": 4,
 "nbformat_minor": 2
}
