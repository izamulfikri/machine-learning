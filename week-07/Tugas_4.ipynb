{
 "cells": [
  {
   "cell_type": "markdown",
   "metadata": {},
   "source": [
    "# Tugas 4\n",
    "Penerapan metode Self-Organizing Map (SOM) untuk segmentasi citra Lain"
   ]
  },
  {
   "cell_type": "markdown",
   "metadata": {},
   "source": [
    "instalasi minisom"
   ]
  },
  {
   "cell_type": "code",
   "execution_count": 1,
   "metadata": {},
   "outputs": [
    {
     "name": "stdout",
     "output_type": "stream",
     "text": [
      "Requirement already satisfied: minisom in c:\\users\\izam\\anaconda3\\lib\\site-packages (2.3.1)\n",
      "Note: you may need to restart the kernel to use updated packages.\n"
     ]
    }
   ],
   "source": [
    "pip install minisom"
   ]
  },
  {
   "cell_type": "code",
   "execution_count": 2,
   "metadata": {},
   "outputs": [
    {
     "name": "stderr",
     "output_type": "stream",
     "text": [
      "c:\\Users\\izam\\anaconda3\\Lib\\site-packages\\paramiko\\transport.py:219: CryptographyDeprecationWarning: Blowfish has been deprecated\n",
      "  \"class\": algorithms.Blowfish,\n"
     ]
    }
   ],
   "source": [
    "import numpy as np\n",
    "import matplotlib.pyplot as plt\n",
    "from skimage import io"
   ]
  },
  {
   "cell_type": "code",
   "execution_count": 3,
   "metadata": {},
   "outputs": [],
   "source": [
    "# Fungsi untuk menginisialisasi bobot SOM\n",
    "def initialize_weights(input_shape, output_shape):\n",
    "    return np.random.rand(output_shape[0], output_shape[1], input_shape[2])"
   ]
  },
  {
   "cell_type": "code",
   "execution_count": 4,
   "metadata": {},
   "outputs": [],
   "source": [
    "# Fungsi untuk menghitung jarak antara vektor input dan bobot SOM\n",
    "def calculate_distance(input_vector, weights):\n",
    "    return np.linalg.norm(input_vector - weights, axis=2)"
   ]
  },
  {
   "cell_type": "code",
   "execution_count": 5,
   "metadata": {},
   "outputs": [],
   "source": [
    "# Fungsi untuk menemukan indeks unit pemenang (unit dengan bobot terdekat)\n",
    "def find_winner_unit_in_image(input_vector, weights):\n",
    "    distances = calculate_distance(input_vector, weights)\n",
    "    return np.unravel_index(np.argmin(distances), distances.shape)"
   ]
  },
  {
   "cell_type": "code",
   "execution_count": 6,
   "metadata": {},
   "outputs": [],
   "source": [
    "# Fungsi untuk memperbarui bobot SOM\n",
    "def update_weights(input_vector, weights, winner, learning_rate, neighborhood_radius):\n",
    "    distances = np.linalg.norm(np.indices(weights.shape[:2]).T - np.array(winner).reshape(1, -1), axis=2)\n",
    "    influence = np.exp(-distances / (2 * neighborhood_radius**2))\n",
    "    weights += learning_rate * influence[:, :, np.newaxis] * (input_vector - weights)"
   ]
  },
  {
   "cell_type": "code",
   "execution_count": 7,
   "metadata": {},
   "outputs": [],
   "source": [
    "# Fungsi untuk melatih SOM\n",
    "def train_som(image, num_epochs, initial_learning_rate, initial_neighborhood_radius):\n",
    "    input_shape = image.shape\n",
    "    som_shape = (10, 10, input_shape[2])  # Ukuran SOM sesuai dengan jumlah saluran warna\n",
    "    weights = initialize_weights(input_shape, som_shape)\n",
    "\n",
    "    for epoch in range(num_epochs):\n",
    "        # Update parameter pembelajaran dan radius tetangga\n",
    "        learning_rate = initial_learning_rate * np.exp(-epoch / num_epochs)\n",
    "        neighborhood_radius = initial_neighborhood_radius * np.exp(-epoch / num_epochs)\n",
    "        # Pemrosesan SOM\n",
    "        for i in range(input_shape[0]):\n",
    "            for j in range(input_shape[1]):\n",
    "                input_vector = image[i, j, :]\n",
    "                winner = find_winner_unit_in_image(input_vector, weights)\n",
    "                update_weights(input_vector, weights, winner, learning_rate, neighborhood_radius)\n",
    "\n",
    "    return weights"
   ]
  },
  {
   "cell_type": "code",
   "execution_count": 8,
   "metadata": {},
   "outputs": [],
   "source": [
    "# Load citra Napoleon (Anda bisa mengganti ini dengan citra lain jika diperlukan)\n",
    "Napoleon_path = \"img/napoleon.jpg\"\n",
    "Napoleon = io.imread(Napoleon_path) / 255.0  # Normalisasi intensitas piksel menjadi rentang [0, 1]"
   ]
  },
  {
   "cell_type": "code",
   "execution_count": 9,
   "metadata": {},
   "outputs": [],
   "source": [
    "# Latih SOM\n",
    "num_epochs = 100\n",
    "initial_learning_rate = 0.1\n",
    "initial_neighborhood_radius = 5\n",
    "trained_weights = train_som(Napoleon, num_epochs, initial_learning_rate, initial_neighborhood_radius)"
   ]
  },
  {
   "cell_type": "code",
   "execution_count": 10,
   "metadata": {},
   "outputs": [
    {
     "data": {
      "image/png": "[encoded data removed]",
      "text/plain": [
       "<Figure size 640x480 with 1 Axes>"
      ]
     },
     "metadata": {},
     "output_type": "display_data"
    }
   ],
   "source": [
    "# Visualisasi bobot SOM\n",
    "plt.imshow(trained_weights)\n",
    "plt.title('Trained SOM Weights for Lena')\n",
    "plt.show()"
   ]
  }
 ],
 "metadata": {
  "kernelspec": {
   "display_name": "base",
   "language": "python",
   "name": "python3"
  },
  "language_info": {
   "codemirror_mode": {
    "name": "ipython",
    "version": 3
   },
   "file_extension": ".py",
   "mimetype": "text/x-python",
   "name": "python",
   "nbconvert_exporter": "python",
   "pygments_lexer": "ipython3",
   "version": "3.11.4"
  }
 },
 "nbformat": 4,
 "nbformat_minor": 2
}
