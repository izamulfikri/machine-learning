{
  "nbformat": 4,
  "nbformat_minor": 0,
  "metadata": {
    "colab": {
      "provenance": [],
      "gpuType": "T4",
      "include_colab_link": true
    },
    "kernelspec": {
      "name": "python3",
      "display_name": "Python 3"
    },
    "language_info": {
      "name": "python"
    },
    "accelerator": "GPU"
  },
  "cells": [
    {
      "cell_type": "markdown",
      "metadata": {
        "id": "view-in-github",
        "colab_type": "text"
      },
      "source": [
        "<a href=\"https://colab.research.google.com/github/zenosance/machine-learning/blob/main/week10.ipynb\" target=\"_parent\"><img src=\"https://colab.research.google.com/assets/colab-badge.svg\" alt=\"Open In Colab\"/></a>"
      ]
    },
    {
      "cell_type": "markdown",
      "source": [
        "# Praktikum 1\n",
        "\n",
        "RNN untuk Analisis Sentimen\n",
        "\n",
        "## Setup\n",
        "\n",
        "Impor matplotlib dan buat fungsi pembantu untuk memplot grafik:\n"
      ],
      "metadata": {
        "id": "Hgc6sLNfFWku"
      }
    },
    {
      "cell_type": "code",
      "execution_count": null,
      "metadata": {
        "id": "TUU2OVNjFSjY"
      },
      "outputs": [],
      "source": [
        "import numpy as np\n",
        "import tensorflow_datasets as tfds\n",
        "import tensorflow as tf\n",
        "\n",
        "tfds.disable_progress_bar()"
      ]
    },
    {
      "cell_type": "code",
      "source": [
        "import matplotlib.pyplot as plt\n",
        "\n",
        "def plot_graphs(history, metric):\n",
        "   plt.plot(history.history[metric])\n",
        "   plt.plot(history.history['val_'+metric], '')\n",
        "   plt.xlabel(\"Epochs\")\n",
        "   plt.ylabel(metric)\n",
        "   plt.legend([metric, 'val_'+metric])"
      ],
      "metadata": {
        "id": "6frjp2ryFivf"
      },
      "execution_count": null,
      "outputs": []
    },
    {
      "cell_type": "markdown",
      "source": [
        "## Setup input pipeline\n",
        "\n",
        "Dataset ulasan film IMDB adalah kumpulan data klasifikasi biner—semua ulasan memiliki sentimen positif atau negatif.\n",
        "Download dataset menggunakan [TFDS](https://www.tensorflow.org/datasets). [Lihat loading text tutorial](https://www.tensorflow.org/tutorials/load_data/text) jika ingin me load data secara manual"
      ],
      "metadata": {
        "id": "WBaO4eXMFulR"
      }
    },
    {
      "cell_type": "code",
      "source": [
        "dataset, info = tfds.load('imdb_reviews', with_info=True,\n",
        "                          as_supervised=True)\n",
        "train_dataset, test_dataset = dataset['train'], dataset['test']\n",
        "\n",
        "train_dataset.element_spec"
      ],
      "metadata": {
        "id": "MbpLWPNYFjUr",
        "outputId": "8ad18e07-2d06-48fe-da1d-15b70b6ba8a6",
        "colab": {
          "base_uri": "https://localhost:8080/"
        }
      },
      "execution_count": null,
      "outputs": [
        {
          "output_type": "stream",
          "name": "stdout",
          "text": [
            "Downloading and preparing dataset 80.23 MiB (download: 80.23 MiB, generated: Unknown size, total: 80.23 MiB) to /root/tensorflow_datasets/imdb_reviews/plain_text/1.0.0...\n",
            "Dataset imdb_reviews downloaded and prepared to /root/tensorflow_datasets/imdb_reviews/plain_text/1.0.0. Subsequent calls will reuse this data.\n"
          ]
        },
        {
          "output_type": "execute_result",
          "data": {
            "text/plain": [
              "(TensorSpec(shape=(), dtype=tf.string, name=None),\n",
              " TensorSpec(shape=(), dtype=tf.int64, name=None))"
            ]
          },
          "metadata": {},
          "execution_count": 4
        }
      ]
    },
    {
      "cell_type": "markdown",
      "source": [
        "Awalnya ini mengembalikan dataset (teks, pasangan label):"
      ],
      "metadata": {
        "id": "rYWgrTmnGFqT"
      }
    },
    {
      "cell_type": "code",
      "source": [
        "for example, label in train_dataset.take(1):\n",
        "  print('text: ', example.numpy())\n",
        "  print('label: ', label.numpy())"
      ],
      "metadata": {
        "id": "_W8EWlUZGDVE",
        "outputId": "0eb8fb73-a9f6-4f7b-a3a9-c554b4b90aa8",
        "colab": {
          "base_uri": "https://localhost:8080/"
        }
      },
      "execution_count": null,
      "outputs": [
        {
          "output_type": "stream",
          "name": "stdout",
          "text": [
            "text:  b\"This was an absolutely terrible movie. Don't be lured in by Christopher Walken or Michael Ironside. Both are great actors, but this must simply be their worst role in history. Even their great acting could not redeem this movie's ridiculous storyline. This movie is an early nineties US propaganda piece. The most pathetic scenes were those when the Columbian rebels were making their cases for revolutions. Maria Conchita Alonso appeared phony, and her pseudo-love affair with Walken was nothing but a pathetic emotional plug in a movie that was devoid of any real meaning. I am disappointed that there are movies like this, ruining actor's like Christopher Walken's good name. I could barely sit through it.\"\n",
            "label:  0\n"
          ]
        }
      ]
    },
    {
      "cell_type": "markdown",
      "source": [
        "Berikutnya acak data untuk pelatihan dan membuat kumpulan pasangan (teks, label) ini:"
      ],
      "metadata": {
        "id": "7bNflxW_GJBz"
      }
    },
    {
      "cell_type": "code",
      "source": [
        "BUFFER_SIZE = 10000\n",
        "BATCH_SIZE = 64\n",
        "\n",
        "train_dataset = train_dataset.shuffle(BUFFER_SIZE).batch(BATCH_SIZE).prefetch(tf.data.AUTOTUNE)\n",
        "test_dataset = test_dataset.batch(BATCH_SIZE).prefetch(tf.data.AUTOTUNE)\n",
        "\n",
        "for example, label in train_dataset.take(1):\n",
        "  print('texts: ', example.numpy()[:3])\n",
        "  print()\n",
        "  print('labels: ', label.numpy()[:3])\n"
      ],
      "metadata": {
        "id": "mTDKFwwHGHc8",
        "outputId": "d16c3428-c168-4bc3-c115-07779b932800",
        "colab": {
          "base_uri": "https://localhost:8080/"
        }
      },
      "execution_count": null,
      "outputs": [
        {
          "output_type": "stream",
          "name": "stdout",
          "text": [
            "texts:  [b'Since Douglas MacArthur affected more human lives\\xc2\\x97for the better\\xc2\\x97than any other American not elected President, he deserved a better film biography. Not that Universal\\'s \"MacArthur\" is bad. It\\'s just not all it should have been.<br /><br />Oddly enough, the potential was there. From the very early \"Star Trek\" episode \"The Corbomite Maneuver\" (1966) to the recent HBO films \"Something the Lord Made\" (2OO4) and \"Warm Springs\" (2OO5), director Joseph Sargent has emerged as one of the most expressively human directors in film, a man capable of subtly shaping the emotional shadings of his actors\\' performances, and carrying the audience exactly where he wants them to go. The producer, Frank McCarthy, also gave us \"Patton\" (197O), the legendary Jerry Goldsmith scored both films, and Universal widely touted the fact that the film was \"four years in preparation and production.\" Yet for all of this, \"MacArthur\" is perfectly adequate\\xc2\\x97and not much more than that.<br /><br />The film begins in early 1942, shortly before the beleaguered general was ordered\\xc2\\x97by President Franklin D. Roosevelt (Dan O\\'Herlihy)\\xc2\\x97to flee the Philippines to avoid capture by the Japanese. Thus, this film omits: <br /><br />\\xc2\\xb7 MacArthur\\'s birth in 188O in a frontier barracks in Arkansas still subject to attack by Native American tribesmen\\xc2\\x97thus establishing that his remarkable life spanned the distance from bows-and-arrows to thermonuclear weapons; <br /><br />\\xc2\\xb7 his graduation from West Point\\xc2\\x97first in a class of 95, <br /><br />\\xc2\\xb7 how he joined his famous father, General Arthur MacArthur (who had earned the Medal of Honor at Missionary Ridge in the Civil War) on assignments in Japan, China and, most importantly, in the Philippines; <br /><br />\\xc2\\xb7 his heroic exploits in the 1914 excursion into Vera Cruz; <br /><br />\\xc2\\xb7 how he leaped about the trenches of World War One like a mountain goat, often wounded, and promoted with blinding speed to Brigadier General; <br /><br />\\xc2\\xb7 his postwar service as West Point\\'s youngest\\xc2\\x97and most progressive\\xc2\\x97commandant; <br /><br />\\xc2\\xb7 his participation in the court-martial of Billy Mitchell in 1924; <br /><br />\\xc2\\xb7 his routing of the Bonus Marchers in 1932; <br /><br />\\xc2\\xb7 his efforts to sustain a woefully-underfunded Army as Chief of Staff in the early 193O\\'s; <br /><br />\\xc2\\xb7 his retirement from the U.S. Army to become Field Marshal (!) of the Army of the Philippines; <br /><br />\\xc2\\xb7 and the reactivation of his commission by FDR shortly before the outbreak of the Second World War.<br /><br />All this is omitted in favor of prolonged footage of MacArthur trying to fight off seasickness while being evacuated by PT boat\\xc2\\x97thus, we know that \"General Mac\" is a legend, but not why; nor can we appreciate why the allegations of cowardice were so wounding to \"Dugout Doug\"\\xc2\\x97and so patently unfounded.<br /><br />The remainder of his career is presently straightforwardly: His island-hopping \"Hit \\'em where they ain\\'t\" campaign, the fulfillment of his pledge to the Filipinos\\xc2\\x97 \"I shall return!\"\\xc2\\x97his crowning achievement, the winning of the peace in postwar Japan, then the difference of opinion with President Harry Truman (a properly feisty Ed Flanders) over the conduct of the Korean conflict which resulted in his outright firing, and finally, his proclamation to Congress that \"old soldiers\\xc2\\x85simply fade away,\" after which he did just that. All quite historically accurate, and all presented with a very deliberate lack of commentary.<br /><br />Sargent and the producers almost painfully distance themselves from adorning the historical record with their own approval or disapproval: If MacArthur\\'s actions appear noble, let them be presented as such; if they appear egotistical or bombastic, let those conceptions register sans comment. Since Joe Sargent is quite expert at subtly manipulating his audience\\'s reactions\\xc2\\x97again, see Warm Springs\\xc2\\x97this refusal to offer comment appears quite intentional. Historically, that may be commendable, but it almost defeats the efforts of the viewer to place this extraordinary man in any kind of rational perspective.<br /><br />And finally, there is a sort of \"made on the cheap\" feel to the film, as there is to \"Midway,\" released about the same time. Both films were relegated to \"television\" directors--Sargent in this case, Jack Smight on \"Midway,\" and both have a made-for-TV-look. Even Jerry Goldsmith\\'s march, while perfectly serviceable, lack the subtle undertones and the grandeur of his \"Patton\" theme--just another way in which a larger-than-life man is memorialized by a very ordinary film.<br /><br />There was vanity and pettiness in this man, inarguably; there was also greatness\\xc2\\x97and love him or loathe him, one must acknowledge the fact that MacArthur did what no military commander before him had done: he won the peace.<br /><br />In the end, \"MacArthur\"\\xc2\\x97like so many film biographies\\xc2\\x97is a good place to begin research into this remarkable man, but a poor place to end it.'\n",
            " b'I can\\'t say this is the worst movie ever made, but personally I think of it that way because when it was originally released in theaters, (1) the initial buzz was positive enough that my girlfriend insisted we go see it, and we actually STOOD IN LINE to get tickets, and (2) it\\'s still the only \"serious\" film I recall where the audience started snickering at a certain point and basically laughed at the movie the rest of the way through. Once we reached the infamous (and interminable) snake fight scene, I think everyone gave up.<br /><br />The only positive I can concede is the lush location shooting. Oh, and there\\'s also Bo\\'s breasts, although her acting is so wooden that the nudity is unerotic and doesn\\'t rate much more than a Playboy pictorial.<br /><br />The \"dramatic tension\" in this film is between Bo\\'s terrible acting and her husband\\'s horrible direction. The snake fight has to be one of the most incompetent \"action\" sequences ever filmed. However, this is one of those films that\\'s bad enough, it may be worth watching on the level of unintentional humor. Definitely the worst film I ever paid to see.'\n",
            " b\"Yes, this is an ultra-low budget movie. So the acting isn't award winning material and at times the action is slow-paced because the filmmakers are shooting longer sequences and not a million instants that then get edited into a movie. This film makes up for that with an outstanding script that takes vampirism seriously, explains it and develops a full plot out of it. Aside from the vampire story, we get detailed genetics info, legal and law enforcement, martial arts action, philosophical musings, and some good metal music. Kudos go to Dylan O'Leary, the director/writer/main actor. It is beyond me how this man could have fulfilled all these roles and do them so well. I think to appreciate this movie, you have to be well-versed in all sorts of themes to see that the writer did a lot of research and knows about all these things. There are some great camera work, too, interesting camera angles and one underwater vampire attack- something I haven't seen before, but which pays homage to the underwater zombie attack in Fulci's Zombi. The casting is good, in so far as the sexy female is sexy indeed. The main vampire also looks perfect for the role. The female victim looks vulnerable. My only complaint is that for a low budget horror flick, there should have been more nudity. If you want to see an original vampire movie with a great story, this flick is for you. I'm looking forward to seeing future projects by Mr. O'Leary.\"]\n",
            "\n",
            "labels:  [1 0 1]\n"
          ]
        }
      ]
    },
    {
      "cell_type": "markdown",
      "source": [
        "## Buat Teks Encoder\n",
        "\n",
        "Teks mentah yang dimuat oleh tfds perlu diproses sebelum dapat digunakan dalam model. Cara termudah memproses teks untuk pelatihan adalah menggunakan lapisan TextVectorization. Lapisan ini memiliki banyak kemampuan, namun pada tutorial ini menggunakan perilaku default. Buat lapisan tersebut, dan teruskan teks kumpulan data ke metode .adapt lapisan:"
      ],
      "metadata": {
        "id": "bUMH-znGGR68"
      }
    },
    {
      "cell_type": "code",
      "source": [
        "VOCAB_SIZE = 1000\n",
        "encoder = tf.keras.layers.TextVectorization(\n",
        "    max_tokens=VOCAB_SIZE)\n",
        "encoder.adapt(train_dataset.map(lambda text, label: text))"
      ],
      "metadata": {
        "id": "0NwJ9hX5GKwj"
      },
      "execution_count": null,
      "outputs": []
    },
    {
      "cell_type": "markdown",
      "source": [
        "Metode .adapt mengatur kosakata lapisan. 20 token pertama dapat dilihat dengan kode berikut. Setelah padding dan token yang tidak diketahui, mereka diurutkan berdasarkan frekuensi:"
      ],
      "metadata": {
        "id": "L1RJl_YnGYRM"
      }
    },
    {
      "cell_type": "code",
      "source": [
        "vocab=np.array(encoder.get_vocabulary())\n",
        "vocab[:20]"
      ],
      "metadata": {
        "id": "pRaD-nIQGXJ8",
        "outputId": "a0a1f1ce-e2b4-4639-a64f-aac82df3d717",
        "colab": {
          "base_uri": "https://localhost:8080/"
        }
      },
      "execution_count": null,
      "outputs": [
        {
          "output_type": "execute_result",
          "data": {
            "text/plain": [
              "array(['', '[UNK]', 'the', 'and', 'a', 'of', 'to', 'is', 'in', 'it', 'i',\n",
              "       'this', 'that', 'br', 'was', 'as', 'for', 'with', 'movie', 'but'],\n",
              "      dtype='<U14')"
            ]
          },
          "metadata": {},
          "execution_count": 8
        }
      ]
    },
    {
      "cell_type": "markdown",
      "source": [
        "Setelah kosakata diatur, lapisan dapat mengkodekan teks ke dalam indeks. Tensor indeks diberi bantalan 0 ke urutan terpanjang dalam batch (kecuali jika Anda menetapkan output_sequence_length tetap):"
      ],
      "metadata": {
        "id": "me4UJZdSGfhF"
      }
    },
    {
      "cell_type": "code",
      "source": [
        "encoded_example=encoder(example)[:3].numpy()\n",
        "encoded_example"
      ],
      "metadata": {
        "id": "zy1FkQkIGZV_",
        "outputId": "bfadbb85-a75e-4456-b5f9-fb6deb2a1baf",
        "colab": {
          "base_uri": "https://localhost:8080/"
        }
      },
      "execution_count": null,
      "outputs": [
        {
          "output_type": "execute_result",
          "data": {
            "text/plain": [
              "array([[231,   1,   1, ...,   0,   0,   0],\n",
              "       [ 10, 175, 130, ...,   0,   0,   0],\n",
              "       [414,  11,   7, ...,   0,   0,   0]])"
            ]
          },
          "metadata": {},
          "execution_count": 9
        }
      ]
    },
    {
      "cell_type": "markdown",
      "source": [
        "Dengan pengaturan default, prosesnya tidak dapat dibalik sepenuhnya. Ada dua alasan utama untuk itu:\n",
        "-Nilai default untuk argumen standarisasi preprocessing.TextVectorization adalah \"lower_and_strip_punctuation\".\n",
        "-Ukuran kosa kata yang terbatas dan kurangnya fallback berbasis karakter menghasilkan beberapa token yang tidak diketahui."
      ],
      "metadata": {
        "id": "nefjyfobGiKW"
      }
    },
    {
      "cell_type": "code",
      "source": [
        "for n in range(3):\n",
        "  print(\"Original: \", example[n].numpy())\n",
        "  print(\"Round-trip: \", \" \".join(vocab[encoded_example[n]]))\n",
        "  print()"
      ],
      "metadata": {
        "id": "oD3Tdd2BGgbK",
        "outputId": "2cfa33eb-d9aa-4ed2-8deb-3d12a5c23bbe",
        "colab": {
          "base_uri": "https://localhost:8080/"
        }
      },
      "execution_count": null,
      "outputs": [
        {
          "output_type": "stream",
          "name": "stdout",
          "text": [
            "Original:  b'Since Douglas MacArthur affected more human lives\\xc2\\x97for the better\\xc2\\x97than any other American not elected President, he deserved a better film biography. Not that Universal\\'s \"MacArthur\" is bad. It\\'s just not all it should have been.<br /><br />Oddly enough, the potential was there. From the very early \"Star Trek\" episode \"The Corbomite Maneuver\" (1966) to the recent HBO films \"Something the Lord Made\" (2OO4) and \"Warm Springs\" (2OO5), director Joseph Sargent has emerged as one of the most expressively human directors in film, a man capable of subtly shaping the emotional shadings of his actors\\' performances, and carrying the audience exactly where he wants them to go. The producer, Frank McCarthy, also gave us \"Patton\" (197O), the legendary Jerry Goldsmith scored both films, and Universal widely touted the fact that the film was \"four years in preparation and production.\" Yet for all of this, \"MacArthur\" is perfectly adequate\\xc2\\x97and not much more than that.<br /><br />The film begins in early 1942, shortly before the beleaguered general was ordered\\xc2\\x97by President Franklin D. Roosevelt (Dan O\\'Herlihy)\\xc2\\x97to flee the Philippines to avoid capture by the Japanese. Thus, this film omits: <br /><br />\\xc2\\xb7 MacArthur\\'s birth in 188O in a frontier barracks in Arkansas still subject to attack by Native American tribesmen\\xc2\\x97thus establishing that his remarkable life spanned the distance from bows-and-arrows to thermonuclear weapons; <br /><br />\\xc2\\xb7 his graduation from West Point\\xc2\\x97first in a class of 95, <br /><br />\\xc2\\xb7 how he joined his famous father, General Arthur MacArthur (who had earned the Medal of Honor at Missionary Ridge in the Civil War) on assignments in Japan, China and, most importantly, in the Philippines; <br /><br />\\xc2\\xb7 his heroic exploits in the 1914 excursion into Vera Cruz; <br /><br />\\xc2\\xb7 how he leaped about the trenches of World War One like a mountain goat, often wounded, and promoted with blinding speed to Brigadier General; <br /><br />\\xc2\\xb7 his postwar service as West Point\\'s youngest\\xc2\\x97and most progressive\\xc2\\x97commandant; <br /><br />\\xc2\\xb7 his participation in the court-martial of Billy Mitchell in 1924; <br /><br />\\xc2\\xb7 his routing of the Bonus Marchers in 1932; <br /><br />\\xc2\\xb7 his efforts to sustain a woefully-underfunded Army as Chief of Staff in the early 193O\\'s; <br /><br />\\xc2\\xb7 his retirement from the U.S. Army to become Field Marshal (!) of the Army of the Philippines; <br /><br />\\xc2\\xb7 and the reactivation of his commission by FDR shortly before the outbreak of the Second World War.<br /><br />All this is omitted in favor of prolonged footage of MacArthur trying to fight off seasickness while being evacuated by PT boat\\xc2\\x97thus, we know that \"General Mac\" is a legend, but not why; nor can we appreciate why the allegations of cowardice were so wounding to \"Dugout Doug\"\\xc2\\x97and so patently unfounded.<br /><br />The remainder of his career is presently straightforwardly: His island-hopping \"Hit \\'em where they ain\\'t\" campaign, the fulfillment of his pledge to the Filipinos\\xc2\\x97 \"I shall return!\"\\xc2\\x97his crowning achievement, the winning of the peace in postwar Japan, then the difference of opinion with President Harry Truman (a properly feisty Ed Flanders) over the conduct of the Korean conflict which resulted in his outright firing, and finally, his proclamation to Congress that \"old soldiers\\xc2\\x85simply fade away,\" after which he did just that. All quite historically accurate, and all presented with a very deliberate lack of commentary.<br /><br />Sargent and the producers almost painfully distance themselves from adorning the historical record with their own approval or disapproval: If MacArthur\\'s actions appear noble, let them be presented as such; if they appear egotistical or bombastic, let those conceptions register sans comment. Since Joe Sargent is quite expert at subtly manipulating his audience\\'s reactions\\xc2\\x97again, see Warm Springs\\xc2\\x97this refusal to offer comment appears quite intentional. Historically, that may be commendable, but it almost defeats the efforts of the viewer to place this extraordinary man in any kind of rational perspective.<br /><br />And finally, there is a sort of \"made on the cheap\" feel to the film, as there is to \"Midway,\" released about the same time. Both films were relegated to \"television\" directors--Sargent in this case, Jack Smight on \"Midway,\" and both have a made-for-TV-look. Even Jerry Goldsmith\\'s march, while perfectly serviceable, lack the subtle undertones and the grandeur of his \"Patton\" theme--just another way in which a larger-than-life man is memorialized by a very ordinary film.<br /><br />There was vanity and pettiness in this man, inarguably; there was also greatness\\xc2\\x97and love him or loathe him, one must acknowledge the fact that MacArthur did what no military commander before him had done: he won the peace.<br /><br />In the end, \"MacArthur\"\\xc2\\x97like so many film biographies\\xc2\\x97is a good place to begin research into this remarkable man, but a poor place to end it.'\n",
            "Round-trip:  since [UNK] [UNK] [UNK] more human [UNK] the [UNK] any other american not [UNK] [UNK] he [UNK] a better film [UNK] not that [UNK] [UNK] is bad its just not all it should have [UNK] br [UNK] enough the potential was there from the very early star [UNK] episode the [UNK] [UNK] [UNK] to the [UNK] [UNK] films something the [UNK] made [UNK] and [UNK] [UNK] [UNK] director [UNK] [UNK] has [UNK] as one of the most [UNK] human directors in film a man [UNK] of [UNK] [UNK] the emotional [UNK] of his actors performances and [UNK] the audience exactly where he wants them to go the [UNK] [UNK] [UNK] also gave us [UNK] [UNK] the [UNK] [UNK] [UNK] [UNK] both films and [UNK] [UNK] [UNK] the fact that the film was four years in [UNK] and production yet for all of this [UNK] is perfectly [UNK] not much more than [UNK] br the film begins in early [UNK] [UNK] before the [UNK] general was [UNK] [UNK] [UNK] [UNK] [UNK] [UNK] [UNK] [UNK] the [UNK] to avoid [UNK] by the japanese [UNK] this film [UNK] br br [UNK] [UNK] [UNK] in [UNK] in a [UNK] [UNK] in [UNK] still subject to [UNK] by [UNK] american [UNK] [UNK] that his [UNK] life [UNK] the [UNK] from [UNK] to [UNK] [UNK] br br [UNK] his [UNK] from [UNK] [UNK] in a class of [UNK] br br [UNK] how he [UNK] his famous father general [UNK] [UNK] who had [UNK] the [UNK] of [UNK] at [UNK] [UNK] in the [UNK] war on [UNK] in [UNK] [UNK] and most [UNK] in the [UNK] br br [UNK] his [UNK] [UNK] in the [UNK] [UNK] into [UNK] [UNK] br br [UNK] how he [UNK] about the [UNK] of world war one like a [UNK] [UNK] often [UNK] and [UNK] with [UNK] [UNK] to [UNK] general br br [UNK] his [UNK] [UNK] as [UNK] points [UNK] most [UNK] br br [UNK] his [UNK] in the [UNK] of [UNK] [UNK] in [UNK] br br [UNK] his [UNK] of the [UNK] [UNK] in [UNK] br br [UNK] his [UNK] to [UNK] a [UNK] [UNK] as [UNK] of [UNK] in the early [UNK] br br [UNK] his [UNK] from the us [UNK] to become [UNK] [UNK] of the [UNK] of the [UNK] br br [UNK] and the [UNK] of his [UNK] by [UNK] [UNK] before the [UNK] of the second world [UNK] br all this is [UNK] in [UNK] of [UNK] footage of [UNK] trying to fight off [UNK] while being [UNK] by [UNK] [UNK] we know that general [UNK] is a [UNK] but not why nor can we [UNK] why the [UNK] of [UNK] were so [UNK] to [UNK] [UNK] so [UNK] [UNK] br the [UNK] of his career is [UNK] [UNK] his [UNK] hit [UNK] where they [UNK] [UNK] the [UNK] of his [UNK] to the [UNK] i [UNK] [UNK] [UNK] [UNK] the [UNK] of the [UNK] in [UNK] [UNK] then the [UNK] of opinion with [UNK] [UNK] [UNK] a [UNK] [UNK] [UNK] [UNK] over the [UNK] of the [UNK] [UNK] which [UNK] in his [UNK] [UNK] and finally his [UNK] to [UNK] that old [UNK] [UNK] away after which he did just that all quite [UNK] [UNK] and all [UNK] with a very [UNK] lack of [UNK] br [UNK] and the [UNK] almost [UNK] [UNK] themselves from [UNK] the [UNK] [UNK] with their own [UNK] or [UNK] if [UNK] [UNK] appear [UNK] let them be [UNK] as such if they appear [UNK] or [UNK] let those [UNK] [UNK] [UNK] comment since joe [UNK] is quite [UNK] at [UNK] [UNK] his [UNK] [UNK] see [UNK] [UNK] [UNK] to [UNK] comment appears quite [UNK] [UNK] that may be [UNK] but it almost [UNK] the [UNK] of the viewer to place this [UNK] man in any kind of [UNK] [UNK] br and finally there is a sort of made on the cheap feel to the film as there is to [UNK] released about the same time both films were [UNK] to television [UNK] in this case jack [UNK] on [UNK] and both have a [UNK] even [UNK] [UNK] [UNK] while perfectly [UNK] lack the [UNK] [UNK] and the [UNK] of his [UNK] [UNK] another way in which a [UNK] man is [UNK] by a very [UNK] filmbr br there was [UNK] and [UNK] in this man [UNK] there was also [UNK] love him or [UNK] him one must [UNK] the fact that [UNK] did what no [UNK] [UNK] before him had done he [UNK] the [UNK] br in the end [UNK] so many film [UNK] a good place to begin [UNK] into this [UNK] man but a poor place to end it     \n",
            "\n",
            "Original:  b'I can\\'t say this is the worst movie ever made, but personally I think of it that way because when it was originally released in theaters, (1) the initial buzz was positive enough that my girlfriend insisted we go see it, and we actually STOOD IN LINE to get tickets, and (2) it\\'s still the only \"serious\" film I recall where the audience started snickering at a certain point and basically laughed at the movie the rest of the way through. Once we reached the infamous (and interminable) snake fight scene, I think everyone gave up.<br /><br />The only positive I can concede is the lush location shooting. Oh, and there\\'s also Bo\\'s breasts, although her acting is so wooden that the nudity is unerotic and doesn\\'t rate much more than a Playboy pictorial.<br /><br />The \"dramatic tension\" in this film is between Bo\\'s terrible acting and her husband\\'s horrible direction. The snake fight has to be one of the most incompetent \"action\" sequences ever filmed. However, this is one of those films that\\'s bad enough, it may be worth watching on the level of unintentional humor. Definitely the worst film I ever paid to see.'\n",
            "Round-trip:  i cant say this is the worst movie ever made but [UNK] i think of it that way because when it was [UNK] released in [UNK] 1 the [UNK] [UNK] was [UNK] enough that my [UNK] [UNK] we go see it and we actually [UNK] in line to get [UNK] and 2 its still the only serious film i [UNK] where the audience started [UNK] at a certain point and basically [UNK] at the movie the rest of the way through once we [UNK] the [UNK] and [UNK] [UNK] fight scene i think everyone gave [UNK] br the only [UNK] i can [UNK] is the [UNK] [UNK] [UNK] oh and theres also [UNK] [UNK] although her acting is so [UNK] that the [UNK] is [UNK] and doesnt [UNK] much more than a [UNK] [UNK] br the dramatic [UNK] in this film is between [UNK] terrible acting and her [UNK] horrible direction the [UNK] fight has to be one of the most [UNK] action sequences ever filmed however this is one of those films thats bad enough it may be worth watching on the level of [UNK] humor definitely the worst film i ever [UNK] to see                                                                                                                                                                                                                                                                                                                                                                                                                                                                                                                                                                                                               \n",
            "\n",
            "Original:  b\"Yes, this is an ultra-low budget movie. So the acting isn't award winning material and at times the action is slow-paced because the filmmakers are shooting longer sequences and not a million instants that then get edited into a movie. This film makes up for that with an outstanding script that takes vampirism seriously, explains it and develops a full plot out of it. Aside from the vampire story, we get detailed genetics info, legal and law enforcement, martial arts action, philosophical musings, and some good metal music. Kudos go to Dylan O'Leary, the director/writer/main actor. It is beyond me how this man could have fulfilled all these roles and do them so well. I think to appreciate this movie, you have to be well-versed in all sorts of themes to see that the writer did a lot of research and knows about all these things. There are some great camera work, too, interesting camera angles and one underwater vampire attack- something I haven't seen before, but which pays homage to the underwater zombie attack in Fulci's Zombi. The casting is good, in so far as the sexy female is sexy indeed. The main vampire also looks perfect for the role. The female victim looks vulnerable. My only complaint is that for a low budget horror flick, there should have been more nudity. If you want to see an original vampire movie with a great story, this flick is for you. I'm looking forward to seeing future projects by Mr. O'Leary.\"\n",
            "Round-trip:  yes this is an [UNK] budget movie so the acting isnt [UNK] [UNK] material and at times the action is [UNK] because the filmmakers are [UNK] [UNK] sequences and not a [UNK] [UNK] that then get [UNK] into a movie this film makes up for that with an [UNK] script that takes [UNK] seriously [UNK] it and [UNK] a full plot out of it [UNK] from the [UNK] story we get [UNK] [UNK] [UNK] [UNK] and [UNK] [UNK] [UNK] [UNK] action [UNK] [UNK] and some good [UNK] music [UNK] go to [UNK] [UNK] the [UNK] actor it is beyond me how this man could have [UNK] all these roles and do them so well i think to [UNK] this movie you have to be [UNK] in all [UNK] of [UNK] to see that the writer did a lot of [UNK] and knows about all these things there are some great camera work too interesting camera [UNK] and one [UNK] [UNK] [UNK] something i havent seen before but which [UNK] [UNK] to the [UNK] zombie [UNK] in [UNK] [UNK] the casting is good in so far as the [UNK] female is [UNK] indeed the main [UNK] also looks perfect for the role the female [UNK] looks [UNK] my only [UNK] is that for a low budget horror flick there should have been more [UNK] if you want to see an original [UNK] movie with a great story this flick is for you im looking forward to seeing future [UNK] by mr [UNK]                                                                                                                                                                                                                                                                                                                                                                                                                                                                                                                                                        \n",
            "\n"
          ]
        }
      ]
    },
    {
      "cell_type": "markdown",
      "source": [
        "## Buat Model"
      ],
      "metadata": {
        "id": "N3T5z01dGlbe"
      }
    },
    {
      "cell_type": "markdown",
      "source": [
        "diagram model dapat dilihat pada gambar diatas\n",
        "1. Model ini dapat dibuat sebagai tf.keras.Sequential.\n",
        "2. Lapisan pertama adalah encoder, yang mengubah teks menjadi urutan indeks token.\n",
        "3. Setelah encoder adalah lapisan penyematan (embedding layer). Lapisan penyematan menyimpan satu vektor per kata. Saat dipanggil, ini mengubah rangkaian indeks kata menjadi rangkaian vektor. Vektor-vektor ini dapat dilatih. Setelah pelatihan (dengan data yang cukup), kata-kata dengan arti yang mirip sering kali memiliki vektor yang serupa. Pencarian indeks ini jauh lebih efisien daripada operasi setara dengan meneruskan vektor yang disandikan one-hot melalui lapisan tf.keras.layers.Dense.\n",
        "4. Jaringan saraf berulang (RNN) memproses masukan urutan dengan melakukan iterasi melalui elemen. RNN meneruskan keluaran dari satu langkah waktu ke masukannya pada langkah waktu berikutnya.\n",
        "Pembungkus tf.keras.layers.Bidirection juga dapat digunakan dengan lapisan RNN. Ini menyebarkan masukan maju dan mundur melalui lapisan RNN dan kemudian menggabungkan keluaran akhir.\n",
        "  -Keuntungan utama RNN dua arah adalah sinyal dari awal masukan tidak perlu diproses sepanjang waktu untuk memengaruhi keluaran.\n",
        "  -Kerugian utama dari RNN dua arah adalah Anda tidak dapat melakukan streaming prediksi secara efisien saat kata-kata ditambahkan di akhir.\n",
        "5. Setelah RNN mengonversi urutan menjadi satu vektor, kedua lapisan tersebut.Dense melakukan beberapa pemrosesan akhir, dan mengonversi representasi vektor ini menjadi logit tunggal sebagai keluaran klasifikasi.\n",
        "\n",
        "Kode nya adalah sebagai berikut :"
      ],
      "metadata": {
        "id": "4ocEHvIHGqz3"
      }
    },
    {
      "cell_type": "code",
      "source": [
        "model = tf.keras.Sequential([\n",
        "    encoder,\n",
        "    tf.keras.layers.Embedding(\n",
        "        input_dim=len(encoder.get_vocabulary()),\n",
        "        output_dim=64,\n",
        "        # Use masking to handle the variable sequence lengths\n",
        "        mask_zero=True),\n",
        "    tf.keras.layers.Bidirectional(tf.keras.layers.LSTM(64)),\n",
        "    tf.keras.layers.Dense(64, activation='relu'),\n",
        "    tf.keras.layers.Dense(1)\n",
        "])"
      ],
      "metadata": {
        "id": "LVNl7c1pGjhV"
      },
      "execution_count": null,
      "outputs": []
    },
    {
      "cell_type": "markdown",
      "source": [
        "Harap dicatat bahwa model sekuensial Keras digunakan di sini karena semua lapisan dalam model hanya memiliki masukan tunggal dan menghasilkan keluaran tunggal. Jika Anda ingin menggunakan lapisan RNN stateful, Anda mungkin ingin membangun model Anda dengan API fungsional Keras atau subkelas model sehingga Anda dapat mengambil dan menggunakan kembali status lapisan RNN. Untuk detailnya bisa dilihat pada Keras RNN guide\n",
        "Lapisan penyematan menggunakan masking (uses masking ) untuk menangani panjang urutan yang bervariasi. Semua lapisan setelah penyematan dukungan penyematan"
      ],
      "metadata": {
        "id": "Osb3z8duG74x"
      }
    },
    {
      "cell_type": "code",
      "source": [
        "print([layer.supports_masking for layer in model.layers])"
      ],
      "metadata": {
        "id": "qephSMPEG6A5",
        "outputId": "a2cfe323-ac15-4008-9c23-10b8059d21db",
        "colab": {
          "base_uri": "https://localhost:8080/"
        }
      },
      "execution_count": null,
      "outputs": [
        {
          "output_type": "stream",
          "name": "stdout",
          "text": [
            "[False, True, True, True, True]\n"
          ]
        }
      ]
    },
    {
      "cell_type": "markdown",
      "source": [
        "Untuk memastikan bahwa ini berfungsi seperti yang diharapkan, evaluasi sebuah kalimat dua kali. Pertama, satu kalimat sehingga tidak ada bantalan (padding) untuk disamarkan:"
      ],
      "metadata": {
        "id": "QeDZ9uEIHAvA"
      }
    },
    {
      "cell_type": "code",
      "source": [
        "# predict on a sample text without padding.\n",
        "\n",
        "sample_text = ('The movie was cool. The animation and the graphics '\n",
        "               'were out of this world. I would recommend this movie.')\n",
        "predictions = model.predict(np.array([sample_text]))\n",
        "print(predictions[0])"
      ],
      "metadata": {
        "id": "CRM14vSuG9Kz",
        "outputId": "bdeea740-dc3e-4b95-8ca2-4e3eb81595dc",
        "colab": {
          "base_uri": "https://localhost:8080/"
        }
      },
      "execution_count": null,
      "outputs": [
        {
          "output_type": "stream",
          "name": "stdout",
          "text": [
            "1/1 [==============================] - 7s 7s/step\n",
            "[0.00116725]\n"
          ]
        }
      ]
    },
    {
      "cell_type": "markdown",
      "source": [
        "Sekarang, evaluasi lagi dalam batch dengan kalimat yang lebih panjang. Hasilnya harus sama:"
      ],
      "metadata": {
        "id": "DtRSNJnWHDQJ"
      }
    },
    {
      "cell_type": "code",
      "source": [
        "# predict on a sample text with padding\n",
        "\n",
        "padding = \"the \" * 2000\n",
        "predictions = model.predict(np.array([sample_text, padding]))\n",
        "print(predictions[0])"
      ],
      "metadata": {
        "id": "wLbzvoehHBuK",
        "outputId": "eafbe52b-2cde-4fc5-db33-bd93b612e4a4",
        "colab": {
          "base_uri": "https://localhost:8080/"
        }
      },
      "execution_count": null,
      "outputs": [
        {
          "output_type": "stream",
          "name": "stdout",
          "text": [
            "1/1 [==============================] - 0s 63ms/step\n",
            "[0.00116725]\n"
          ]
        }
      ]
    },
    {
      "cell_type": "markdown",
      "source": [
        "compile model Keras untuk mengonfigurasi proses pelatihan:"
      ],
      "metadata": {
        "id": "zYzznxxsHIey"
      }
    },
    {
      "cell_type": "code",
      "source": [
        "model.compile(loss=tf.keras.losses.BinaryCrossentropy(from_logits=True),\n",
        "              optimizer=tf.keras.optimizers.Adam(1e-4),\n",
        "              metrics=['accuracy'])"
      ],
      "metadata": {
        "id": "FDdQ_xa9HF8S"
      },
      "execution_count": null,
      "outputs": []
    },
    {
      "cell_type": "markdown",
      "source": [
        "## Train Model"
      ],
      "metadata": {
        "id": "1iHrFsssHKwy"
      }
    },
    {
      "cell_type": "code",
      "source": [
        "history = model.fit(train_dataset, epochs=10,\n",
        "                    validation_data=test_dataset,\n",
        "                    validation_steps=30)"
      ],
      "metadata": {
        "colab": {
          "base_uri": "https://localhost:8080/"
        },
        "id": "Q5o2pu4iHJo1",
        "outputId": "d0ec5154-ea90-4350-bfaf-0664f3fef139"
      },
      "execution_count": null,
      "outputs": [
        {
          "output_type": "stream",
          "name": "stdout",
          "text": [
            "Epoch 1/10\n",
            "391/391 [==============================] - 51s 104ms/step - loss: 0.6385 - accuracy: 0.5744 - val_loss: 0.4783 - val_accuracy: 0.7922\n",
            "Epoch 2/10\n",
            "391/391 [==============================] - 26s 67ms/step - loss: 0.3894 - accuracy: 0.8193 - val_loss: 0.3746 - val_accuracy: 0.8484\n",
            "Epoch 3/10\n",
            "391/391 [==============================] - 25s 65ms/step - loss: 0.3344 - accuracy: 0.8528 - val_loss: 0.3362 - val_accuracy: 0.8479\n",
            "Epoch 4/10\n",
            "391/391 [==============================] - 25s 64ms/step - loss: 0.3187 - accuracy: 0.8594 - val_loss: 0.3284 - val_accuracy: 0.8542\n",
            "Epoch 5/10\n",
            "391/391 [==============================] - 25s 63ms/step - loss: 0.3119 - accuracy: 0.8655 - val_loss: 0.3267 - val_accuracy: 0.8536\n",
            "Epoch 6/10\n",
            "391/391 [==============================] - 25s 63ms/step - loss: 0.3063 - accuracy: 0.8684 - val_loss: 0.3302 - val_accuracy: 0.8542\n",
            "Epoch 7/10\n",
            "391/391 [==============================] - 27s 68ms/step - loss: 0.3031 - accuracy: 0.8686 - val_loss: 0.3249 - val_accuracy: 0.8599\n",
            "Epoch 8/10\n",
            "391/391 [==============================] - 25s 63ms/step - loss: 0.3027 - accuracy: 0.8710 - val_loss: 0.3205 - val_accuracy: 0.8589\n",
            "Epoch 9/10\n",
            "391/391 [==============================] - 26s 65ms/step - loss: 0.3008 - accuracy: 0.8697 - val_loss: 0.3246 - val_accuracy: 0.8516\n",
            "Epoch 10/10\n",
            "391/391 [==============================] - 26s 66ms/step - loss: 0.2987 - accuracy: 0.8716 - val_loss: 0.3385 - val_accuracy: 0.8500\n"
          ]
        }
      ]
    },
    {
      "cell_type": "code",
      "source": [
        "test_loss, test_acc = model.evaluate(test_dataset)\n",
        "\n",
        "print('Test Loss:', test_loss)\n",
        "print('Test Accuracy:', test_acc)"
      ],
      "metadata": {
        "id": "GoApW93sHM2b",
        "outputId": "af9145fb-1719-4c3f-8631-872cfb0f14b1",
        "colab": {
          "base_uri": "https://localhost:8080/"
        }
      },
      "execution_count": null,
      "outputs": [
        {
          "output_type": "stream",
          "name": "stdout",
          "text": [
            "391/391 [==============================] - 12s 30ms/step - loss: 0.3344 - accuracy: 0.8469\n",
            "Test Loss: 0.33444899320602417\n",
            "Test Accuracy: 0.8468800187110901\n"
          ]
        }
      ]
    },
    {
      "cell_type": "code",
      "source": [
        "plt.figure(figsize=(16, 8))\n",
        "plt.subplot(1, 2, 1)\n",
        "plot_graphs(history, 'accuracy')\n",
        "plt.ylim(None, 1)\n",
        "plt.subplot(1, 2, 2)\n",
        "plot_graphs(history, 'loss')\n",
        "plt.ylim(0, None)"
      ],
      "metadata": {
        "id": "10I0CbhiHRQt",
        "outputId": "f165f7e8-23f0-4f58-d8a2-d1f468a0682b",
        "colab": {
          "base_uri": "https://localhost:8080/",
          "height": 718
        }
      },
      "execution_count": null,
      "outputs": [
        {
          "output_type": "execute_result",
          "data": {
            "text/plain": [
              "(0.0, 0.6555146098136901)"
            ]
          },
          "metadata": {},
          "execution_count": 18
        },
        {
          "output_type": "display_data",
          "data": {
            "text/plain": [
              "<Figure size 1600x800 with 2 Axes>"
            ],
            "image/png": "[encoded data removed]"
          },
          "metadata": {}
        }
      ]
    },
    {
      "cell_type": "markdown",
      "source": [
        "Jalankan prediksi pada kalimat baru:\n",
        "Jika prediksi >= 0,0 berarti positif, jika tidak maka negatif."
      ],
      "metadata": {
        "id": "rJtNcfFHHTUD"
      }
    },
    {
      "cell_type": "code",
      "source": [
        "sample_text = ('The movie was cool. The animation and the graphics '\n",
        "               'were out of this world. I would recommend this movie.')\n",
        "predictions = model.predict(np.array([sample_text]))"
      ],
      "metadata": {
        "id": "apJlHKZ4HSA9",
        "outputId": "4799c15b-bfb2-47f5-925d-71ae742e1ccb",
        "colab": {
          "base_uri": "https://localhost:8080/"
        }
      },
      "execution_count": null,
      "outputs": [
        {
          "output_type": "stream",
          "name": "stdout",
          "text": [
            "1/1 [==============================] - 2s 2s/step\n"
          ]
        }
      ]
    },
    {
      "cell_type": "markdown",
      "source": [
        "## Stack two or more LSTM layers\n",
        "\n",
        "Lapisan berulang Keras memiliki dua mode yang tersedia yang dikontrol oleh argumen konstruktor return_sequences :\n",
        "Jika False, ia hanya mengembalikan keluaran terakhir untuk setiap urutan masukan (bentuk tensor 2D (batch_size, output_features)). Ini adalah default yang digunakan pada model sebelumnya.\n",
        "Jika True, Sequence lengkap output berturut-turut untuk setiap langkah waktu dikembalikan (bentuk tensor 3D (ukuran_batch, langkah waktu, fitur_output)).\n",
        "Berikut adalah alur informasi dengan return_sequences=True:\n",
        "\n",
        "Hal yang menarik dari penggunaan RNN dengan return_sequences=True adalah outputnya masih memiliki 3 axis, sama seperti inputnya, sehingga bisa diteruskan ke layer RNN lain, seperti ini:"
      ],
      "metadata": {
        "id": "6EcIwVeyHYed"
      }
    },
    {
      "cell_type": "code",
      "source": [
        "model = tf.keras.Sequential([\n",
        "  encoder,\n",
        "  tf.keras.layers.Embedding(len(encoder.get_vocabulary()), 64, mask_zero=True),\n",
        "  tf.keras.layers.Bidirectional(tf.keras.layers.LSTM(64, return_sequences=True)),\n",
        "  tf.keras.layers.Bidirectional(tf.keras.layers.LSTM(32)),\n",
        "  tf.keras.layers.Dense(64, activation='relu'),\n",
        "  tf.keras.layers.Dropout(0.5),\n",
        "  tf.keras.layers.Dense(1)\n",
        "])"
      ],
      "metadata": {
        "id": "jZ9NbsxcHUNv"
      },
      "execution_count": null,
      "outputs": []
    },
    {
      "cell_type": "code",
      "source": [
        "model.compile(loss=tf.keras.losses.BinaryCrossentropy(from_logits=True),\n",
        "              optimizer=tf.keras.optimizers.Adam(1e-4),\n",
        "              metrics=['accuracy'])"
      ],
      "metadata": {
        "id": "vBno9FwsHdo2"
      },
      "execution_count": null,
      "outputs": []
    },
    {
      "cell_type": "code",
      "source": [
        "history = model.fit(train_dataset, epochs=10,\n",
        "                    validation_data=test_dataset,\n",
        "                    validation_steps=30)"
      ],
      "metadata": {
        "id": "bR2v9in7HgyU",
        "outputId": "17eb2b77-d443-46fe-f6c6-638bb1ceabfe",
        "colab": {
          "base_uri": "https://localhost:8080/"
        }
      },
      "execution_count": null,
      "outputs": [
        {
          "output_type": "stream",
          "name": "stdout",
          "text": [
            "Epoch 1/10\n",
            "391/391 [==============================] - 76s 148ms/step - loss: 0.6199 - accuracy: 0.5962 - val_loss: 0.4196 - val_accuracy: 0.8224\n",
            "Epoch 2/10\n",
            "391/391 [==============================] - 46s 118ms/step - loss: 0.3869 - accuracy: 0.8330 - val_loss: 0.3535 - val_accuracy: 0.8458\n",
            "Epoch 3/10\n",
            "391/391 [==============================] - 48s 121ms/step - loss: 0.3370 - accuracy: 0.8580 - val_loss: 0.3410 - val_accuracy: 0.8635\n",
            "Epoch 4/10\n",
            "391/391 [==============================] - 46s 117ms/step - loss: 0.3195 - accuracy: 0.8657 - val_loss: 0.3217 - val_accuracy: 0.8661\n",
            "Epoch 5/10\n",
            "391/391 [==============================] - 46s 117ms/step - loss: 0.3099 - accuracy: 0.8688 - val_loss: 0.3271 - val_accuracy: 0.8578\n",
            "Epoch 6/10\n",
            "391/391 [==============================] - 48s 122ms/step - loss: 0.3066 - accuracy: 0.8715 - val_loss: 0.3223 - val_accuracy: 0.8630\n",
            "Epoch 7/10\n",
            "391/391 [==============================] - 46s 116ms/step - loss: 0.2999 - accuracy: 0.8730 - val_loss: 0.3282 - val_accuracy: 0.8594\n",
            "Epoch 8/10\n",
            "391/391 [==============================] - 47s 119ms/step - loss: 0.2987 - accuracy: 0.8722 - val_loss: 0.3195 - val_accuracy: 0.8656\n",
            "Epoch 9/10\n",
            "391/391 [==============================] - 48s 123ms/step - loss: 0.2959 - accuracy: 0.8760 - val_loss: 0.3231 - val_accuracy: 0.8583\n",
            "Epoch 10/10\n",
            "391/391 [==============================] - 47s 121ms/step - loss: 0.2920 - accuracy: 0.8766 - val_loss: 0.3216 - val_accuracy: 0.8583\n"
          ]
        }
      ]
    },
    {
      "cell_type": "code",
      "source": [
        "test_loss, test_acc = model.evaluate(test_dataset)\n",
        "\n",
        "print('Test Loss:', test_loss)\n",
        "print('Test Accuracy:', test_acc)"
      ],
      "metadata": {
        "id": "2fohhZkmHjMo",
        "outputId": "9377b486-0fc7-48e7-fb80-e2c3ab9e71c7",
        "colab": {
          "base_uri": "https://localhost:8080/"
        }
      },
      "execution_count": null,
      "outputs": [
        {
          "output_type": "stream",
          "name": "stdout",
          "text": [
            "391/391 [==============================] - 20s 52ms/step - loss: 0.3161 - accuracy: 0.8607\n",
            "Test Loss: 0.31607258319854736\n",
            "Test Accuracy: 0.8606799840927124\n"
          ]
        }
      ]
    },
    {
      "cell_type": "code",
      "source": [
        "# predict on a sample text without padding.\n",
        "\n",
        "sample_text = ('The movie was not good. The animation and the graphics '\n",
        "               'were terrible. I would not recommend this movie.')\n",
        "predictions = model.predict(np.array([sample_text]))\n",
        "print(predictions)"
      ],
      "metadata": {
        "id": "OhUlpuW_HmkZ",
        "outputId": "c506bc1a-22b5-4ba5-c054-02c82366fee6",
        "colab": {
          "base_uri": "https://localhost:8080/"
        }
      },
      "execution_count": null,
      "outputs": [
        {
          "output_type": "stream",
          "name": "stdout",
          "text": [
            "1/1 [==============================] - 6s 6s/step\n",
            "[[-2.0763369]]\n"
          ]
        }
      ]
    },
    {
      "cell_type": "code",
      "source": [
        "plt.figure(figsize=(16, 6))\n",
        "plt.subplot(1, 2, 1)\n",
        "plot_graphs(history, 'accuracy')\n",
        "plt.subplot(1, 2, 2)\n",
        "plot_graphs(history, 'loss')"
      ],
      "metadata": {
        "id": "zTCXA9UcHnab",
        "outputId": "0b73857c-5c57-41f6-9248-c5f5f0e12a27",
        "colab": {
          "base_uri": "https://localhost:8080/",
          "height": 542
        }
      },
      "execution_count": null,
      "outputs": [
        {
          "output_type": "display_data",
          "data": {
            "text/plain": [
              "<Figure size 1600x600 with 2 Axes>"
            ],
            "image/png": "[encoded data removed]"
          },
          "metadata": {}
        }
      ]
    },
    {
      "cell_type": "markdown",
      "source": [
        "# Praktikum 2\n",
        "\n",
        "**Generator Teks dengan RNN**\n",
        "\n",
        "Praktikum ini mendemonstrasikan cara melakukan genearsi text menggunakan RNN. Dataset yang digunkan adalah dataset Shakespeare's writing from Andrej Karpathy's The Unreasonable Effectiveness of Recurrent Neural Networks. Jika diberikan urutan karakter dari data ini (\"Shakespear\"), latih model untuk memprediksi karakter berikutnya dalam urutan (\"e\"). Urutan teks yang lebih panjang dapat dihasilkan dengan memanggil model berulang kali.\n",
        "\n",
        "Note: Enable GPU acceleration to execute this notebook faster. In Colab: Runtime > Change runtime type > Hardware accelerator > GPU.\n",
        "\n",
        "Tutorial ini menggunakan tf.keras dan eager execution. Berikut adalah contoh output ketika model dalam tutorial ini dilatih selama 30 epoch, dan dimulai dengan prompt \"Q\":\n",
        "\n",
        "\n",
        "```\n",
        "QUEENE:\n",
        "I had thought thou hadst a Roman; for the oracle,\n",
        "Thus by All bids the man against the word,\n",
        "Which are so weak of care, by old care done;\n",
        "Your children were in your holy love,\n",
        "And the precipitation through the bleeding throne.\n",
        "\n",
        "BISHOP OF ELY:\n",
        "Marry, and will, my lord, to weep in such a one were prettiest;\n",
        "Yet now I was adopted heir\n",
        "Of the world's lamentable day,\n",
        "To watch the next way with his father with his face?\n",
        "\n",
        "ESCALUS:\n",
        "The cause why then we are all resolved more sons.\n",
        "\n",
        "VOLUMNIA:\n",
        "O, no, no, no, no, no, no, no, no, no, no, no, no, no, no, no, no, no, no, no, no, it is no sin it should be dead,\n",
        "And love and pale as any will to that word.\n",
        "\n",
        "QUEEN ELIZABETH:\n",
        "But how long have I heard the soul for this world,\n",
        "And show his hands of life be proved to stand.\n",
        "\n",
        "PETRUCHIO:\n",
        "I say he look'd on, if I must be content\n",
        "To stay him from the fatal of our country's bliss.\n",
        "His lordship pluck'd from this sentence then for prey,\n",
        "And then let us twain, being the moon,\n",
        "were she such a case as fills m\n",
        "```\n",
        "\n",
        "\n",
        "Meskipun beberapa kalimat memiliki tata bahasa, sebagian besar tidak masuk akal. Model belum mempelajari arti kata-kata, namun anggap saja:\n",
        "\n",
        "- Modelnya berbasis karakter. Saat pelatihan dimulai, model tidak mengetahui cara mengeja kata dalam bahasa Inggris, atau bahkan kata-kata tersebut merupakan satuan teks.\n",
        "\n",
        "- Struktur keluarannya menyerupai sandiwara—blok teks umumnya dimulai dengan nama pembicara, dengan huruf kapital semua mirip dengan kumpulan data.\n",
        "\n",
        "- Seperti yang ditunjukkan di bawah, model dilatih pada kumpulan teks kecil (masing-masing 100 karakter), dan masih mampu menghasilkan rangkaian teks yang lebih panjang dengan struktur yang koheren.\n",
        "\n",
        "## Setup\n",
        "\n",
        "### Import TensorFlow"
      ],
      "metadata": {
        "id": "DhZ_2HNQFgli"
      }
    },
    {
      "cell_type": "code",
      "source": [
        "from google.colab import drive\n",
        "\n",
        "# Menghubungkan ke Google Drive\n",
        "drive.mount('/content/drive')"
      ],
      "metadata": {
        "id": "APcqjNQzJYv-",
        "outputId": "449da316-a3fa-4bc5-e103-851d1f6c1eed",
        "colab": {
          "base_uri": "https://localhost:8080/"
        }
      },
      "execution_count": 1,
      "outputs": [
        {
          "output_type": "stream",
          "name": "stdout",
          "text": [
            "Mounted at /content/drive\n"
          ]
        }
      ]
    },
    {
      "cell_type": "code",
      "source": [
        "import tensorflow as tf\n",
        "import numpy as np\n",
        "import os\n",
        "import time"
      ],
      "metadata": {
        "id": "64_qbcKdGT1W"
      },
      "execution_count": 3,
      "outputs": []
    },
    {
      "cell_type": "markdown",
      "source": [
        "### Download Dataset Shakespeare\n",
        "\n",
        "Sesuaikan dengan lokasi data yang Anda punya."
      ],
      "metadata": {
        "id": "ID1sEI62GtCq"
      }
    },
    {
      "cell_type": "code",
      "source": [
        "path_to_file = tf.keras.utils.get_file('shakespeare.txt','https://storage.googleapis.com/download.tensorflow.org/data/shakespeare.txt')"
      ],
      "metadata": {
        "id": "fMnRTj4kGvKE",
        "outputId": "c4761c7d-b046-4a79-97e0-5618009fa95f",
        "colab": {
          "base_uri": "https://localhost:8080/"
        }
      },
      "execution_count": 4,
      "outputs": [
        {
          "output_type": "stream",
          "name": "stdout",
          "text": [
            "Downloading data from https://storage.googleapis.com/download.tensorflow.org/data/shakespeare.txt\n",
            "1115394/1115394 [==============================] - 0s 0us/step\n"
          ]
        }
      ]
    },
    {
      "cell_type": "markdown",
      "source": [
        "### Load Data"
      ],
      "metadata": {
        "id": "Lg9v3MDZG2kk"
      }
    },
    {
      "cell_type": "code",
      "source": [
        "# Read, then decode for py2 compat.\n",
        "text = open(path_to_file, 'rb').read().decode(encoding='utf-8')\n",
        "# length of text is the number of characters in it\n",
        "print(f'Length of text: {len(text)} characters')"
      ],
      "metadata": {
        "id": "t4ch_6i9G3kQ",
        "outputId": "ca4be493-14c3-4307-b6c6-71ca10fd84e0",
        "colab": {
          "base_uri": "https://localhost:8080/"
        }
      },
      "execution_count": 5,
      "outputs": [
        {
          "output_type": "stream",
          "name": "stdout",
          "text": [
            "Length of text: 1115394 characters\n"
          ]
        }
      ]
    },
    {
      "cell_type": "code",
      "source": [
        "# Take a look at the first 250 characters in text\n",
        "print(text[:250])"
      ],
      "metadata": {
        "id": "L73OF8kPG5mc",
        "outputId": "4a643f71-4e0f-4b43-ff67-d4f802a86030",
        "colab": {
          "base_uri": "https://localhost:8080/"
        }
      },
      "execution_count": 6,
      "outputs": [
        {
          "output_type": "stream",
          "name": "stdout",
          "text": [
            "First Citizen:\n",
            "Before we proceed any further, hear me speak.\n",
            "\n",
            "All:\n",
            "Speak, speak.\n",
            "\n",
            "First Citizen:\n",
            "You are all resolved rather to die than to famish?\n",
            "\n",
            "All:\n",
            "Resolved. resolved.\n",
            "\n",
            "First Citizen:\n",
            "First, you know Caius Marcius is chief enemy to the people.\n",
            "\n"
          ]
        }
      ]
    },
    {
      "cell_type": "code",
      "source": [
        "# The unique characters in the file\n",
        "vocab = sorted(set(text))\n",
        "print(f'{len(vocab)} unique characters')"
      ],
      "metadata": {
        "id": "WJv7avloG6a1",
        "outputId": "71b108b1-c026-46e6-bc1d-0dd48ce48142",
        "colab": {
          "base_uri": "https://localhost:8080/"
        }
      },
      "execution_count": 7,
      "outputs": [
        {
          "output_type": "stream",
          "name": "stdout",
          "text": [
            "65 unique characters\n"
          ]
        }
      ]
    },
    {
      "cell_type": "markdown",
      "source": [
        "## Olah Teks\n",
        "\n",
        "### Vectorize Teks\n",
        "\n",
        "Sebelum training, Anda perlu mengonversi string menjadi representasi numerik. tf.keras.layers.StringLookup dapat mengubah setiap karakter menjadi ID numerik. Caranya adalah teks akan dipecah menjadi token terlebih dahulu."
      ],
      "metadata": {
        "id": "6IO8px-OG748"
      }
    },
    {
      "cell_type": "code",
      "source": [
        "example_texts=['abcdefg','xyz']\n",
        "chars=tf.strings.unicode_split(example_texts,input_encoding='UTF-8')\n",
        "chars"
      ],
      "metadata": {
        "id": "e8hGcfw6G9YS",
        "outputId": "a9f93835-56f1-4745-b19b-4f6c2a896951",
        "colab": {
          "base_uri": "https://localhost:8080/"
        }
      },
      "execution_count": 8,
      "outputs": [
        {
          "output_type": "execute_result",
          "data": {
            "text/plain": [
              "<tf.RaggedTensor [[b'a', b'b', b'c', b'd', b'e', b'f', b'g'], [b'x', b'y', b'z']]>"
            ]
          },
          "metadata": {},
          "execution_count": 8
        }
      ]
    },
    {
      "cell_type": "markdown",
      "source": [
        "sekarang buat **tf.keras.layers.StringLookup** layer:"
      ],
      "metadata": {
        "id": "OUIf6bH2HK0O"
      }
    },
    {
      "cell_type": "code",
      "source": [
        "ids_from_chars=tf.keras.layers.StringLookup(vocabulary=list(vocab),mask_token=None)"
      ],
      "metadata": {
        "id": "hKimrylMHOM-"
      },
      "execution_count": 9,
      "outputs": []
    },
    {
      "cell_type": "markdown",
      "source": [
        "perintah diatas mengconvert token menjadi id"
      ],
      "metadata": {
        "id": "Rly6TLUGHGDl"
      }
    },
    {
      "cell_type": "code",
      "source": [
        "ids=ids_from_chars(chars)\n",
        "ids"
      ],
      "metadata": {
        "id": "21jlLqIZHQKP",
        "outputId": "45f55db6-9776-4b8c-e12a-f0c6a70a40da",
        "colab": {
          "base_uri": "https://localhost:8080/"
        }
      },
      "execution_count": 10,
      "outputs": [
        {
          "output_type": "execute_result",
          "data": {
            "text/plain": [
              "<tf.RaggedTensor [[40, 41, 42, 43, 44, 45, 46], [63, 64, 65]]>"
            ]
          },
          "metadata": {},
          "execution_count": 10
        }
      ]
    },
    {
      "cell_type": "markdown",
      "source": [
        "Karena tujuan tutorial ini adalah untuk menghasilkan teks, penting juga untuk membalikkan representasi ini. Untuk ini Anda dapat menggunakan kode tf.keras.layers.StringLookup(..., invert=True).\n",
        "\n",
        "\n",
        "Catatan: pada kode ini, daripada meneruskan kosakata asli yang dihasilkan dengan diurutkan(set(teks)) gunakan metode get_vocabulary() dari tf.keras.layers.StringLookup sehingga token [UNK] disetel dengan cara yang sama."
      ],
      "metadata": {
        "id": "NlbNVDDBHW3_"
      }
    },
    {
      "cell_type": "code",
      "source": [
        "chars_from_ids = tf.keras.layers.StringLookup(\n",
        "    vocabulary=ids_from_chars.get_vocabulary(), invert=True, mask_token=None)"
      ],
      "metadata": {
        "id": "bCrrctpdHXv1"
      },
      "execution_count": 11,
      "outputs": []
    },
    {
      "cell_type": "markdown",
      "source": [
        "Lapisan ini mengconvert kembali karakter dari vektor ID, dan mengembalikannya sebagai karakter tf.RaggedTensor:"
      ],
      "metadata": {
        "id": "66q2jRTvHZTv"
      }
    },
    {
      "cell_type": "code",
      "source": [
        "chars=chars_from_ids(ids)\n",
        "chars"
      ],
      "metadata": {
        "id": "atRXRmvdHaYn",
        "outputId": "24a1c5cf-ea31-4f40-fa60-36c80c986fd2",
        "colab": {
          "base_uri": "https://localhost:8080/"
        }
      },
      "execution_count": 12,
      "outputs": [
        {
          "output_type": "execute_result",
          "data": {
            "text/plain": [
              "<tf.RaggedTensor [[b'a', b'b', b'c', b'd', b'e', b'f', b'g'], [b'x', b'y', b'z']]>"
            ]
          },
          "metadata": {},
          "execution_count": 12
        }
      ]
    },
    {
      "cell_type": "markdown",
      "source": [
        "Anda dapat menggunakan tf.strings.reduce_join untuk menggabungkan kembali karakter menjadi string."
      ],
      "metadata": {
        "id": "r-t9OP-2HeSY"
      }
    },
    {
      "cell_type": "code",
      "source": [
        "tf.strings.reduce_join(chars,axis=-1).numpy()"
      ],
      "metadata": {
        "id": "GooCL7E0HfUw",
        "outputId": "a7398c83-5637-4969-e659-c3753a7b208b",
        "colab": {
          "base_uri": "https://localhost:8080/"
        }
      },
      "execution_count": 13,
      "outputs": [
        {
          "output_type": "execute_result",
          "data": {
            "text/plain": [
              "array([b'abcdefg', b'xyz'], dtype=object)"
            ]
          },
          "metadata": {},
          "execution_count": 13
        }
      ]
    },
    {
      "cell_type": "code",
      "source": [
        "def text_from_ids(ids):\n",
        "    return tf.strings.reduce_join(chars_from_ids(ids),axis=-1)"
      ],
      "metadata": {
        "id": "FInhXUcLHgWg"
      },
      "execution_count": 14,
      "outputs": []
    },
    {
      "cell_type": "markdown",
      "source": [
        "## Prediksi\n",
        "\n",
        "Diberikan sebuah karakter, atau serangkaian karakter, karakter apa yang paling mungkin berikutnya? Ini adalah tugas yang harus Anda latih agar model dapat melakukannya. Masukan ke model akan berupa urutan karakter, dan Anda melatih model untuk memprediksi keluaran berupa karakter berikut pada setiap langkah waktu. Karena RNN mempertahankan keadaan internal yang bergantung pada elemen yang terlihat sebelumnya, mengingat semua karakter dihitung hingga saat ini, karakter apa selanjutnya?\n",
        "\n",
        "### Membuat Training Set dan Target\n",
        "\n",
        "Selanjutnya bagilah teks menjadi contoh sequence. Setiap masukan sequence akan berisi karakter seq_length dari teks. Untuk setiap masukan sequence, target prediksi berisi teks dengan panjang yang sama, hanya digeser satu karakter ke kanan. Jadi, bagi teks menjadi beberapa bagian seq_length+1. Misalnya, seq_length adalah 4 dan teks kita adalah \"Hello\". Urutan masukannya adalah \"Hell\", dan urutan targetnya adalah \"ello\". Untuk melakukan ini, pertama-tama gunakan fungsi tf.data.Dataset.from_tensor_slices untuk mengonversi vektor teks menjadi aliran indeks karakter."
      ],
      "metadata": {
        "id": "qlfc9rgCHgw4"
      }
    },
    {
      "cell_type": "code",
      "source": [
        "all_ids=ids_from_chars(tf.strings.unicode_split(text,'UTF-8'))\n",
        "all_ids"
      ],
      "metadata": {
        "id": "Obxd3qQZHiWF",
        "outputId": "ef292904-556b-4279-c60b-73a3f97cc5cb",
        "colab": {
          "base_uri": "https://localhost:8080/"
        }
      },
      "execution_count": 15,
      "outputs": [
        {
          "output_type": "execute_result",
          "data": {
            "text/plain": [
              "<tf.Tensor: shape=(1115394,), dtype=int64, numpy=array([19, 48, 57, ..., 46,  9,  1])>"
            ]
          },
          "metadata": {},
          "execution_count": 15
        }
      ]
    },
    {
      "cell_type": "code",
      "source": [
        "ids_dataset=tf.data.Dataset.from_tensor_slices(all_ids)"
      ],
      "metadata": {
        "id": "LmYaF79RHog6"
      },
      "execution_count": 16,
      "outputs": []
    },
    {
      "cell_type": "code",
      "source": [
        "for ids in ids_dataset.take(10):\n",
        "  print(chars_from_ids(ids).numpy().decode('utf-8'))"
      ],
      "metadata": {
        "id": "551UFVcqHwUi",
        "outputId": "fa53ed67-15ad-4f10-94f2-d02c19007e0f",
        "colab": {
          "base_uri": "https://localhost:8080/"
        }
      },
      "execution_count": 17,
      "outputs": [
        {
          "output_type": "stream",
          "name": "stdout",
          "text": [
            "F\n",
            "i\n",
            "r\n",
            "s\n",
            "t\n",
            " \n",
            "C\n",
            "i\n",
            "t\n",
            "i\n"
          ]
        }
      ]
    },
    {
      "cell_type": "code",
      "source": [
        "seq_length = 100"
      ],
      "metadata": {
        "id": "3sXONyriH0xq"
      },
      "execution_count": 18,
      "outputs": []
    },
    {
      "cell_type": "markdown",
      "source": [
        "Metode batch memungkinkan Anda dengan mudah mengonversi karakter individual ini menjadi urutan ukuran yang diinginkan."
      ],
      "metadata": {
        "id": "n_1B5JmWH3l7"
      }
    },
    {
      "cell_type": "code",
      "source": [
        "sequences = ids_dataset.batch(seq_length+1, drop_remainder=True)\n",
        "\n",
        "for seq in sequences.take(1):\n",
        "  print(chars_from_ids(seq))"
      ],
      "metadata": {
        "id": "xcETA_1TH0uS",
        "outputId": "df693eed-767d-43ab-f427-dfed29ce98ad",
        "colab": {
          "base_uri": "https://localhost:8080/"
        }
      },
      "execution_count": 19,
      "outputs": [
        {
          "output_type": "stream",
          "name": "stdout",
          "text": [
            "tf.Tensor(\n",
            "[b'F' b'i' b'r' b's' b't' b' ' b'C' b'i' b't' b'i' b'z' b'e' b'n' b':'\n",
            " b'\\n' b'B' b'e' b'f' b'o' b'r' b'e' b' ' b'w' b'e' b' ' b'p' b'r' b'o'\n",
            " b'c' b'e' b'e' b'd' b' ' b'a' b'n' b'y' b' ' b'f' b'u' b'r' b't' b'h'\n",
            " b'e' b'r' b',' b' ' b'h' b'e' b'a' b'r' b' ' b'm' b'e' b' ' b's' b'p'\n",
            " b'e' b'a' b'k' b'.' b'\\n' b'\\n' b'A' b'l' b'l' b':' b'\\n' b'S' b'p' b'e'\n",
            " b'a' b'k' b',' b' ' b's' b'p' b'e' b'a' b'k' b'.' b'\\n' b'\\n' b'F' b'i'\n",
            " b'r' b's' b't' b' ' b'C' b'i' b't' b'i' b'z' b'e' b'n' b':' b'\\n' b'Y'\n",
            " b'o' b'u' b' '], shape=(101,), dtype=string)\n"
          ]
        }
      ]
    },
    {
      "cell_type": "markdown",
      "source": [
        "akan lebih mudah untuk melihat apa yang dilakukan jika Anda menggabungkan token kembali menjadi string:"
      ],
      "metadata": {
        "id": "tMqB1KROH5JK"
      }
    },
    {
      "cell_type": "code",
      "source": [
        "for seq in sequences.take(5):\n",
        "    print(text_from_ids(seq).numpy())"
      ],
      "metadata": {
        "id": "LsUijiZVH6oe",
        "outputId": "874036cc-f127-4d85-fe50-f862e577de95",
        "colab": {
          "base_uri": "https://localhost:8080/"
        }
      },
      "execution_count": 20,
      "outputs": [
        {
          "output_type": "stream",
          "name": "stdout",
          "text": [
            "b'First Citizen:\\nBefore we proceed any further, hear me speak.\\n\\nAll:\\nSpeak, speak.\\n\\nFirst Citizen:\\nYou '\n",
            "b'are all resolved rather to die than to famish?\\n\\nAll:\\nResolved. resolved.\\n\\nFirst Citizen:\\nFirst, you k'\n",
            "b\"now Caius Marcius is chief enemy to the people.\\n\\nAll:\\nWe know't, we know't.\\n\\nFirst Citizen:\\nLet us ki\"\n",
            "b\"ll him, and we'll have corn at our own price.\\nIs't a verdict?\\n\\nAll:\\nNo more talking on't; let it be d\"\n",
            "b'one: away, away!\\n\\nSecond Citizen:\\nOne word, good citizens.\\n\\nFirst Citizen:\\nWe are accounted poor citi'\n"
          ]
        }
      ]
    },
    {
      "cell_type": "markdown",
      "source": [
        "Untuk pelatihan, Anda memerlukan kumpulan data pasangan (input, label). Dimana input dan label merupakan urutan. Pada setiap langkah waktu, inputnya adalah karakter saat ini dan labelnya adalah karakter berikutnya. Berikut adalah fungsi yang mengambil urutan sebagai masukan, menduplikasi, dan menggesernya untuk menyelaraskan masukan dan label untuk setiap langkah waktu:"
      ],
      "metadata": {
        "id": "_EimSlUBH-WU"
      }
    },
    {
      "cell_type": "code",
      "source": [
        "def split_input_target(sequence):\n",
        "    input_text = sequence[:-1]\n",
        "    target_text = sequence[1:]\n",
        "    return input_text, target_text"
      ],
      "metadata": {
        "id": "T60YMi_MH-Mr"
      },
      "execution_count": 21,
      "outputs": []
    },
    {
      "cell_type": "code",
      "source": [
        "split_input_target(list(\"Tensorflow\"))"
      ],
      "metadata": {
        "id": "ImU21JxfIE68",
        "outputId": "7e455798-b733-41a7-ec9c-9927713f47cc",
        "colab": {
          "base_uri": "https://localhost:8080/"
        }
      },
      "execution_count": 22,
      "outputs": [
        {
          "output_type": "execute_result",
          "data": {
            "text/plain": [
              "(['T', 'e', 'n', 's', 'o', 'r', 'f', 'l', 'o'],\n",
              " ['e', 'n', 's', 'o', 'r', 'f', 'l', 'o', 'w'])"
            ]
          },
          "metadata": {},
          "execution_count": 22
        }
      ]
    },
    {
      "cell_type": "code",
      "source": [
        "dataset = sequences.map(split_input_target)"
      ],
      "metadata": {
        "id": "qbs6z8oBIFvs"
      },
      "execution_count": 23,
      "outputs": []
    },
    {
      "cell_type": "code",
      "source": [
        "for input_example, target_example in dataset.take(1):\n",
        "    print(\"Input  :\", text_from_ids(input_example).numpy())\n",
        "    print(\"Target:\",  text_from_ids(target_example).numpy())"
      ],
      "metadata": {
        "id": "8SjrpNmRIH3S",
        "outputId": "25416125-e1bd-4106-8868-cd7c3c51d105",
        "colab": {
          "base_uri": "https://localhost:8080/"
        }
      },
      "execution_count": 24,
      "outputs": [
        {
          "output_type": "stream",
          "name": "stdout",
          "text": [
            "Input  : b'First Citizen:\\nBefore we proceed any further, hear me speak.\\n\\nAll:\\nSpeak, speak.\\n\\nFirst Citizen:\\nYou'\n",
            "Target: b'irst Citizen:\\nBefore we proceed any further, hear me speak.\\n\\nAll:\\nSpeak, speak.\\n\\nFirst Citizen:\\nYou '\n"
          ]
        }
      ]
    },
    {
      "cell_type": "markdown",
      "source": [
        "### Membuat Batch Training\n",
        "\n",
        "Anda menggunakan tf.data untuk membagi teks menjadi sequence yang dapat diatur. Namun sebelum memasukkan data ini ke dalam model, Anda perlu mengacak data dan mengemasnya ke dalam batch."
      ],
      "metadata": {
        "id": "-NuYwftbINmp"
      }
    },
    {
      "cell_type": "code",
      "source": [
        "# Batch size\n",
        "BATCH_SIZE = 64\n",
        "\n",
        "# Buffer size to shuffle the dataset\n",
        "# (TF data is designed to work with possibly infinite sequences,\n",
        "# so it doesn't attempt to shuffle the entire sequence in memory. Instead,\n",
        "# it maintains a buffer in which it shuffles elements).\n",
        "BUFFER_SIZE = 10000\n",
        "\n",
        "dataset = (\n",
        "    dataset\n",
        "    .shuffle(BUFFER_SIZE)\n",
        "    .batch(BATCH_SIZE, drop_remainder=True)\n",
        "    .prefetch(tf.data.experimental.AUTOTUNE))\n",
        "\n",
        "dataset"
      ],
      "metadata": {
        "id": "wLuciePOIOCZ",
        "outputId": "8a76c3ae-3539-49fb-d416-02deab4460e0",
        "colab": {
          "base_uri": "https://localhost:8080/"
        }
      },
      "execution_count": 25,
      "outputs": [
        {
          "output_type": "execute_result",
          "data": {
            "text/plain": [
              "<_PrefetchDataset element_spec=(TensorSpec(shape=(64, 100), dtype=tf.int64, name=None), TensorSpec(shape=(64, 100), dtype=tf.int64, name=None))>"
            ]
          },
          "metadata": {},
          "execution_count": 25
        }
      ]
    },
    {
      "cell_type": "markdown",
      "source": [
        "## Buat Model\n",
        "Bagian ini mendefinisikan model sebagai subkelas keras.Model (untuk lebih detilnya, lihat Making new Layers and Models via subclassing).\n",
        "\n",
        "\n",
        "Model yang kita bangun memiliki 3 lapisan neural network:\n",
        "\n",
        "- tf.keras.layers.Embedding: Lapisan masukan. Tabel pencarian yang dapat dilatih yang akan memetakan setiap karakter-ID ke vektor dengan dimensi embedding_dim;\n",
        "\n",
        "- tf.keras.layers.GRU: lapisan RNN dengan ukuran unit=rnn_units (Anda juga dapat menggunakan lapisan LSTM di sini.)\n",
        "\n",
        "- tf.keras.layers.Dense: Lapisan keluaran, dengan keluaran vocab_size. Ini menghasilkan satu logit untuk setiap karakter dalam kosakata. Ini adalah log kemungkinan setiap karakter menurut model."
      ],
      "metadata": {
        "id": "vcgsnAKJIT5s"
      }
    },
    {
      "cell_type": "code",
      "source": [
        "# Length of the vocabulary in StringLookup Layer\n",
        "vocab_size = len(ids_from_chars.get_vocabulary())\n",
        "\n",
        "# The embedding dimension\n",
        "embedding_dim = 256\n",
        "\n",
        "# Number of RNN units\n",
        "rnn_units = 1024"
      ],
      "metadata": {
        "id": "_m-Ig2RrIU1h"
      },
      "execution_count": 26,
      "outputs": []
    },
    {
      "cell_type": "code",
      "source": [
        "class MyModel(tf.keras.Model):\n",
        "  def __init__(self, vocab_size, embedding_dim, rnn_units):\n",
        "    super().__init__(self)\n",
        "    self.embedding = tf.keras.layers.Embedding(vocab_size, embedding_dim)\n",
        "    self.gru = tf.keras.layers.GRU(rnn_units,\n",
        "                                   return_sequences=True,\n",
        "                                   return_state=True)\n",
        "    self.dense = tf.keras.layers.Dense(vocab_size)\n",
        "\n",
        "  def call(self, inputs, states=None, return_state=False, training=False):\n",
        "    x = inputs\n",
        "    x = self.embedding(x, training=training)\n",
        "    if states is None:\n",
        "      states = self.gru.get_initial_state(x)\n",
        "    x, states = self.gru(x, initial_state=states, training=training)\n",
        "    x = self.dense(x, training=training)\n",
        "\n",
        "    if return_state:\n",
        "      return x, states\n",
        "    else:\n",
        "      return x"
      ],
      "metadata": {
        "id": "VDSFtc_iIfnQ"
      },
      "execution_count": 27,
      "outputs": []
    },
    {
      "cell_type": "code",
      "source": [
        "model = MyModel(\n",
        "    vocab_size=vocab_size,\n",
        "    embedding_dim=embedding_dim,\n",
        "    rnn_units=rnn_units)"
      ],
      "metadata": {
        "id": "_YRWtLRGIiDv"
      },
      "execution_count": 28,
      "outputs": []
    },
    {
      "cell_type": "markdown",
      "source": [
        "Untuk setiap karakter, model mencari penyematan, menjalankan GRU satu langkah waktu dengan penyematan sebagai masukan, dan menerapkan dense layer untuk menghasilkan log yang memprediksi kemungkinan log karakter berikutnya:\n",
        "\n",
        "![text_generation_training.png](data:image/png;base64,iVBORw0KGgoAAAANSUhEUgAAA0oAAALaCAYAAAAPy6MaAACAAElEQVR42uy9b5BcV3n/eTdWYsUWRiYTmJiRPDhyaogVmGBhjY0Mg00sgwwC5NgYGYYggohtECBLYyOw5JLBSkSQQQQbZCwHYWz/hEsUgihgBy0o4BDBT96IjZLV1k5tqTaqiqpWVasXeqEXd/vbuk/P02fO7b490zPTfz6fqqekuX3/9e1zzvN8z3nOuUkCAAAAAAAAAAAAAAAAAAAAAAAAAAAAAAAAAAAAAAAAAAAAAAAAAAAAAAAAAAAAAAAAAAAAAAAAAAAAAAAAAAAAAAAAAAAAAAAAAAAAAAAA0DjrSnaqZCnWsXayZLdTprA2LlNA/cOofwAAM85ZnE7XOFbKFNauZQqofxj1DwBgxsHhdI9RprB2LVNA/cOofwAAs+dU0//vV1iH2WwLJX4DyhTQpmPUPwAAnCqGU6VMUaaANh2j/gEA4FQxnCplijIFtOkY9Q8AAKeK4VQpU5QpAjXadIz6BwCAU8VwqpQpjECNNh2j/gEA4FQxnCplCiNQo03HqH8AAIBTxalSpjACNdp0jPoHAAA4VZwqZQojUKNNx6h/AACAU8WpIpQwAjXadIz6BwAAOFUMoYQRqNGmU16pfwAAgFPFEEoYgRpQ/6h/AACAU8UQShiBGlD/qH8AAIBTxRBKGIEaUP+of9Q/AACcKoZQwihTQP3DqH8AADhVDKGEUaaA+ofNSv1bVrLdmW3Ptm1322S7SrapZItzzjGS7bemxrljNuD2Hc6uc7Bke0u2OjiX3VOP29aTbRtt4PuuKtme4Dpz3Od2b2JljXtf6a6fZ/W4O9vvxmD7XPfc7d7mlWxdyfZl967Pluec1z/Lp7PvHGNxdp1Hg2eQZL9N+H12lGxtdn9F0TPaWrID2f3sDMrRMvc8Y2Vvd4O/Saw8A3SOU/3Q6neW7fGvfm7Wr3fi2D/gVNu8TB360eOV3/jU2Auzfr2x33yfMgVd2aZ/7+m/nfXrUf9yRY7Oeapkh7JtY8H1zM6WbCg4XgH2SXeOuZFz59lwtt8mt+2E+//T7lx2T/1uW3+27WDB77rJfY+x7N80ExVhPRKba9z7Znf9PCv67PcF21dk25/P/u4t2bFs27ngGe2ICMrYs9wVuf5O9/mKiNjK+15Fn/dcd9+nXDk5U7IlwTPYXKfsFf1NVmXnOJf9C9BZTtXuSY5utq53+sTB9N5PfCBddMUCnGqbl6knH9tSuaeZCJLyrvfiP+1Oh974J+mW+z9KmYKubNNnquzHrqc2/WNrVtGm1w7WRyKixIuh0Wzbo8HxK13wq39vz7nO5iAg9iMKaXbNATeaYUH+jU0USgrWT7tRqT533z0RoRSyNvvsZHZsv7v3yTAvE2tns/8bu7Lz2qja3uxv/TvfjQYdD/Zbnv2t7Yvcfqey7UOBiDntvv/+HKG0OxgdOpptX1Lg+90eEWmbAxE8klMu7PkcCcrd5kh5jTGGUAKEUhNs+Pqry7btwY9Xtt38tuvK99C/8DKcKkKpIfvHfTsrZerk8R9VRiZnOlhEKNGmd6tQsvqnum/b3vbWa2jTpyaUkiwY17aHg+373fH698UGhdLuINj3gfpyJwyaIZRspGF9NkojBjNhNqeOUBrOjj3nBMdUhVKSCQb//edkwsbEU2/2+elkYsrbiuD727nCVLsbs2c5L/J7bs1Gfc5l4q+WUEqyUa7UCbFamIg+mt3D3OwelrnnX0so7XHfbw5CCXCqBYTSmZM/Kwe8RdKoFKhOJn1OTraWUz37378o34NM/yeobW+hpDJS5Lc89//+sryfeqcbuQcdUy9YVFnVfq2c7olQok2fDqGk+jTbbbr5lS5t02sJpYOZHc4C6SNJ9RyhPrc9cb3/ixsQSi/WOCaJ3NMJFwSfaFAorQme47FMKPRE6lESCDJLG1sTEWrn3D2ZFZ0fY2LieSdq0kwkeMES+47z3QhXkoynufUXuO7BbF+JxE2R32bYndvKgf0Gmwp+N4mbQ0l16ubzyfh8pFpCadT93r2RcnQq8syHEErQtULp8E+/VekVNBt83R9F89C1rz6z/ZRuobkjy64dLDvKR/56fWVf/S1Tqp3+1j5z5/5O+bg5cy6o+kxO+t23DJe327n1f22z0QOEUnsIJYmeL37+k2nfq19Z+Vy/u8pd7Ld86HN3pfMuvqjym7/v1pvK57byY/t9d8/fVLYpoFPKnb/G/Je/rPyZtmv/Z3Z/oVw+/bPr+b355XtDKEEnCyXVAbW3/r6X/Okfpy98/2sTzqF9B/6ov7Kf/q9tVtdU78I23dr5Wm262gT5Fd+ma99b331jN7XpRYSSzec5GwgFC7DXZ3+vy/7e2YBQOl5whGLMjVjZfb3YoFBKsmB6txM+Jpjm5wilWPpXKJTOunsyK7rAhI0gncsEm6XdLS8glOa46+eNusUYyPY77ASviZI5OULpsBOmR4PRp1poFOnu7Bxnk+r5RHlCaXn2PM5kI36xcnQs8swHEUrQlUJJDtEcnQWb/v4fe+QzVb33FtCamNL+2mbbvcMOrycnGjikymdy4nZ99VDKAZuD1WcEte0jlO68/R1Vz8iXmd5X/V5VkCSR5PdTmdLv7o/Ju97BH349OulU21Wurfws/uM/LJcpL5pmakEThBJt+kwLJaWoenHi65K2f/vxrZV9j/3qu7ltum3zaXbh9Wq16ap31jmh+qd5hHZfElAIpSp6k4nzacZcMD3mxEcsTSxPKB1I4osJLMlGV+bUEAH9DQgl3c+yYORqsRNbt+cIpVj6V3j9qQbkj2bnWZuJplPuWoPJ+LyjJPKMTLgkbvRmWbDfcGZ2zoeT8XllJijOBb+DCaUw9W5TjmiM0Z+dZ577DVa7a8eE0qKs/MTSMX05IvUOEEq2zYJHOUeNDGnb8Zf2VXoYJaIssNWEXTuH9TIqleKWm6+POuzwehoFkLPUNo0EWEqIn2fiey/loHVu9VAqfQOh1PpCyYsXjQZaKp3fVyNGlpJjIl1Ble2rUUsv3vOup7KnMmvbPnnX+yvbVQ5NmPmRLl1bptEmhBJ0mlBSGbc2XWVfdcnadNsuEWSpeL5Tw0abVC8tna6eUMpr03W98LwydVBYm95KaXgtIJTmugC2NxlPETsR9OqfyAlk84TS3cn4QgV+pORwIGCmKpQGnajwgmdHtv3uiFDa5IRQb44QaIZQsgUtbNGFcCW7E8nEhTL0HfZl27cH97sn2M8WYDDheTITRv53s+e9v45QylupL4aNjq0LRuhOZ9cPhdK8ZDx98OGccyKUAKfqhYucqG3zCy7I5NzsM0uzMPEUjvD489QSSnn57AqQradRTlyBrEayjv7Ls8wnaTOhpN/aeq7D+UYSTvaZgjH1fMeCMdlHRt5dVyjVmqOk9LrEpYdKRCmVtNE5UAglaCeh5DsqvvrFjVX7qvyHmQIa7dHfapf9vv48tYRSXpsuseRHtKxN1wgWc5QqosS/o8YCWFtC/OmcXn9bYODFgkJprgvkD2WfvxgRNc1YzOGwu7fNWSB/Lhsl648IpXPuvsJ39oy6659J4u/1USrdUFJszpJfFnso8kxtIQkJSs2rOuKEqs2xmh/8Tn4/+z1W5giduU7A9DmhdNx9n73J+Cp5IwWe9zJ3349mz/xwIIy9UDKhdy4Te7H3bm2u85sglKC7hJIPPMPcdQWy9pmCVm0zMaNeyHABhqkIJdl9n/5QNI1K4oze//YRSrUmdtsoj0wBkz9egVnevpMRSgrU/LyLJJj31moLOyCUaNObIZRq1alYXUly5q36fScjlGQaNcpr02fqvU8tLpS8jWXBbW8WmJ/NguYwxc6/V2lxAaGUZOfbk4zPYTmXBfK9kXuailDqTcZX6fPzk1ZE6lGS1H5H0sGk/nuU+p3g2Fnn3rYm+Sl2YrkTPTYvaV8yca5Qb/Y7nXPPcq97lvb9Yy+h3el+o+HI9zmTPa9GXvC7Oql+n5Pdz/yIUNqc1H/v1uak2PudEErQHUJJAsS2qXc/XC3JPrvno7eVt9n8JaVOhKslTVUo2QtFJcqUMhJWUksLRCh1hlDS/porYX//YO8jucJ5MkLJxL561TUfwqfyJVmqH0IJukko+XQ42986vywd1s9dmqpQsswEtf9hm67rWlpgFwql2WJuJi7mTfN15mXX6Zmh76Xgfn2TzjU/u/e5BZ/l3BZpn3pn+H4QStAdQkmpbbbNVioy8yLKHKXloiuVwqcwKRidilDSiNSRf/5OeX6SzUWSU1c6YNKC78hBKOULF4lq26bf0O9vq3BJcGsuhX7zUIzbPAu/suJkhJLEu8S1jZSqjClw9HMvWmlUCaFEm94MoaRFTGzbZzeuqdpX84OSYC6o1TMJGT8P1KeuTkYo6VzWpttcJIkv31mihVy6SChppODpNi7/SvPaXcMGZum+NDfq8AyKsplktMbz3j5L97Q8GV9hD6EEnS+U/Gpz6uGTc1RwK5FkPYCaoGuOTjnmdg6JJjleOT6/wlI9oWSThyW25NTVq+hz5zWXRIFyOE8qzLdHKLWmUPLz1ZRiI3EiQe4XAtFokZ3DAjWVIW3XOcOl6mtdzy8EomWHVaYkkuwcKmfWc22LOSTZIiVdMpkcukgo+bmkqlNqN2301layk6Cxsq/5p3YOe5GsBJZv0+sJJatr6gCxNt2PFvt9NXKc5MxL7ND6t6wFgttOFkqdTCsKpU4pz4BTLS6U1MsXS3WzINOnvCnQvPlt103Yz/fS1xNKcsL+WJ1P2xXkJm6Jcn9Pcvysetc+y4P7Jb9jZcULFAVVfiliK3e+nNW7nk1IT1wan3qz/Xkl+P3frdSbjVCiTW+mUFKdCl/z4NtWn/KmNj1835J1OhQVSuFcJHVG6LzeL4RtujpI6KgAAMCptpRTleOShSvcaeK7nJ3mbdhLAzVXyAej3rGql1LzlGRyoj79yQegsevpWppMr6BVAa6lXOm86t3USJWcqnr8dT+6r1ZbqQyhNP6+FvuNwxdIajRQv7OCI/3WGrnU72ujheHEcY0k6jwS1RqBii3mkHc9CSMruzaKZedVOdaqd/pM96JjW21xEAI12vSptunh6IxGWlWnVB9U9lUHNKoba9MlWFQ389p0f+7Y9VQX1bGheq46Zmnc9uJp1X17N5O16a3U8UX9AwDAqTZtBEFCSGkV9h6OcOKvf5lhpxpCqXmmoElBWriYiM11UnDV6eWJQI02fbZM7bW16b5DyqfQttoKddQ/AACcakuaT5tTD6J68uVgbZEH9Vy22rLLCKXWNp82p4BNI1HqhbY0OY1KIZSANn36Oipqteka2fedYtQ/AADAqeZY3rtpkhad94FQan3Tqlh+4rg3pfGEK+dRpoA2vXmmtLlabXorLaJD/QMAwKm2vCmfXT2OSo3SfBKZRpo0eb4bHCpCqfkmMaRRJCtPmlekFRZbbW4agRpteqe26Uqr9m265ghqriD1DwAAcKoYQgkjUAPqH/WP+gcAgFPFEEoYZaouQ8n4G9jNirw741BwzKECx6yLXGuINh1DKAEAIJQwnCplijLVaoHacDJx3sruAseNBccUeYP75si1hmnTMYQSAABCCcOpUqYoUwglhBJG/QMAQChhOFXKFIZQQihh1D8AAIQShlOlTGHMUcqDOUoY9Q8AAKGE4VQpUxiBGm06Rv0DAMCpYjhVyhRGoEabjlH/AAAAp4pTpUxhBGq06Rj1DwAAcKo4VcoURqBGm45R/wAAoLhTxTreKFNYu5YpoP5h1D8AgBnnHM6mK+w0ZQpr4zIF1D+M+gcAMONsx7F2vJ1Nzi9pTJnC2rVMAfUPo/4BAMA0M69kR3kMQJkCoP4BAADAOCPJ+R65YR4FUKYAqH8AAABwnkOZU93DowDKFAD1DwAAAJJkIKnO8Z7PIwHKFAD1DwAAoNt5OKmeELuWRwKUKQDqHwAAQDczp2QnA6d6mMcClCkA6h8AAEA3syKJL7O6mEcDlCkA6h8AAEC3si/Hqe7g0QBlCoD6BwAA0I30JvkvYDxVsrk8IqBMAVD/AAAAuo31Se23nK/iEQFlCoD6BwAA0G0cq+NUD/CIgDIFQP0DAADoJobqOFSZUjj6eFRAmQKg/gEAAHQLuwo4VdkmHhVQpgCofwAAAN3AvJKdKehUx3hcQJkCoP4BAAB0AyMFHarZMI8MKFMA1D8AAIBO51CDTnUPjwwoUwDUPwAAgE5moEGHKjtbsvk8OqBMAVD/AAAAOpWHJ+FUZWt5dECZAqD+AQAAdBvegQJQpgCofwAAAIBTBcoUAPUPAAAAcKpAmQKg/gEAAABOFShTANQ/AAAAwKkCZQqA+kf9AwAAwKkCZQoAqH8AAAA4VaBMAQD1DwAAAKcKlCkAoP4BAADgVIEyBQDUPwAAAJwqUKYAgPoHAACAUwXKFABQ/wAAAHCqQJkCAOofAAAAThUoUwBA/QMAAMCpAlCmAKh/AAAAOFUAyhQA9Q8AAACnCkCZAqD+AQAA4FShmfSXbFPJDpTseMlOB88faw/T73asZLtKNkSxBtp0AAAAnCpMjp6S7S7ZOURGR9qhkg1QzIE2HQAAAKcKxVEAPYaY6Hg7W7IRijvQpgMAQDcwLwt89pfsaEKaFGlSjdNbshP+ft5982D6zKN/mY79yxfS08d2pOn/83WszUy/26F9G9KPfeDN6dwLfzssb+toOmnTMVJfAQA6GTnTUzgk0qSmyF677ryLL0z/8alPIDQ6zI799MF08KoFYRlbTRNKm46R+goA0InswPGQJtUEBv01NYqEsOhMO/N/fCVdds2isMd7Pk0pbTpG6isAQCex1Te+/Qt+L33kwdvSo/+0mTQp0qQmHZzd8rbX8Vt0uJ06+rdp7ysv8WVrE80pbTpG6isAQKcw7BvcW1e8odxTjGPq6DQprUJ34zSVp6N2ne89cRfPvwvsyUc+5MvWQZpU2nSso9p0AICu5ogfATj3fz+KI+qONCm9z2jONJSns3aN4z/fyrPvAtPv7MrVGE0qbTrWUW06AEDXstwa2fmXXFROo8EBdVWa1IppKFOV87fK91a6yoduu26C3XfPzekXH7i1nI5E+ZhaSlBSPU8JaNOxzmnTAQC6lketgVXQiOPpfPvsund4p7qzG4RSkBoWNQknet4nbwnvsKFNxzq1TQcA6Foq80le3D+K0+kCe+HZT3mnerjbhNLAot50+No/KtvQG66omhT9kfcvo4wglGjTMdp0AAAoc84a2FbqTT/43fVRO/Ljz6Zn/6+v4hynYHrhazK980laWijp//6zE7/aVhZP9vnhf/hM9Bwnj2xvaLUw7Vsv7UlzDPR7FJlor3PpHhBK0GltOiO5Ld+mAwB0LS0X1EaCripT3v2W9e/EubbufJK2EkoyvRDXPv/kX95Y9ZnmMPX9waVVI1Lf/cbaqn207LKWX9bEas138hOstb/mSPn9dfzigcuqyrX2+/bOD0+4N72HalH/Kyv76V6++vk7EErQUW36ts+8l/aZOYIAADjVqTpVsztXLcVJtmZQ23ZCSaOU9rlEjm3XHA/b3vOKeWWLnUfC3QI+2byLL6yaYK1tNmok0WTbJYCUAuj3lWiz8z7+xQ9WncPvp3kJCCXopDb9nr94K+0z9Q8AAKdatNHXBHsfzCqI9L3rP/jWPThJhNKUhZLMRIhGhiydZc6c3ypv0wseNYIpk0A34WRpoCaUZO++ebCyXeXXttuoks6lvzWi5FPwJJh0rEaQbJvEkfZ92/WvrZzTJm7r3pQ2SKAG7dymqw33HQBKx6ONpv4BAOBUG3SqZppDkrh3hITzODQKYJP1dbxy4MMX9dny0NpfgfPNb72qsr8+D+eRKC3E9rH9wnQqv68CW+33vpVvLE+0RSi1vlCSQPJCSel0dowvE0qtC4M6L5T8UuM+pc/S6u792E2VbVpMQsfqPOHcO72sNzbK5Ee/Hvvr1QRq0PZtusp/kpMpoM4A1Rlre7XgSricf602Xfur0yNMVQvbdHVghL7C9n1odGWlTdf9taKYo/4BAOBUK2aT75Xi5F96GbxPotLzbr30oVPWG+uTSL68TZrXCELwQr+q8/oRLTlovyiANwXDCKXWFkr2ud5270d+kmxekASUzM9XsnN5oeSDMl/WbF99HiunKssK6mwBCM1Dss+0v13fBF3SYss/E6jRpk+lTbc6oX+9AMpr09WREKtnsfZa57CFWNTREM4P9Of1nRLyA3ltujpSEEoAADjVlnSq6tmzfSywtG1KiZKAUa+jUpksCDXx452qtmseiPVIhk5Q50lc6pSEk/Zd8vrLy05VQsvuyY7XctMKirWfD7ZjvZUIpdYQSn6U0sqc/+2s1zk0C6q8UMrrKffXVVlUL7XKURiA6bzhiJb2i12/lSbAE6jRpjerTbdt6rQwoaO6pjZdo0DWoWXiJ2zT1TGm9td3hKmdt8VRTBRZm67zKqVb25QFYNe34/05rV3Qvuqco/4BAOBUW86pmgCyHnw5LPtbq5T5tAl7T46lKXmnqmDVp3iEI0BKl7JtcpCWIqXz+lQp/d+uo/38vdqcKqWPIJRaUyjZvCOZ9VTnpd5JmCuw8qsuNiKUVHYkzGwZcv2ta1pQaOfwqXd+5FJlrRWXySdQo01vllBSCrPKeChyrP6FdcrXM9/+q96Gbbofqa3Vputvm6Po227VexvlaqUFVah/AAA41dwRJS23bH8rl9zy1WXqDfQCxjvVcJnn0Kmq598m1CcuPUPpHXK4Fix7p66A11/fnKruC6E0+0JJIlu/r0yBjk/V0Zwh/24SC5RsgQa/mIOEsS2m0IhQslEklQs7Xue13muVNxNEVvZ0jI2I2mIOiVsggkAN2r1N9/UwrLMaRfJtqnVKmYDx9czPCfWiytp01TnzCWY6n3yKrmltul+dUvcWa9PDObLUPwAAnGpLOFWbp2FBpXeqeWbn8k41nJSbROYUSQTJIVrQnARpUnKs/px5ZilVCKXZFUp5pnkL4QtdvShRMOVFs58f1IhQ0jYrS/pXZdmf18998COa2tcvT+5ThAjUoN3bdCvbmgM43W26RnMlvmJtunVo0aYDAEBbOtUX949OWCHJry7mJ/nmvSG+EafqV7TTudWL6SfU63582p5P/WB58Nb4viofefOMNJLje5JDk1ixOWkmqMLV5nS8nc9vl8gO5zNZoKZRKgsOJcLUa+0XHfH3rs+sF12pnK34wmUCNdr0ybbpGgWyz7Wgib2UOYms+tisNl31x9Je9ZJpv0iL6q1f3bKVVpek/gEA4FSrVqVTCpRMwaVy1S3tQYGrLZAgEWOBpAJQO4/SJxSMKlC1lIxGnKrmMEkU+cUg/IRgE0p+LpICact1l4DS/Sqly5aHRihhvMcFaNPPt+kSIb5Nt6W/lTZnnRN+9FSiSftrRMhSTxtp0zVKLFHkF4MIX+5sfsXuSx0V1jGh+bA6Vm16mLpN/QMAwKm2zFvcw5EbiZrErRKm0SZLaZLDs9XxGnGqcsTmrOVc1fOoHk8bCdDSseZAvXiSaFLPqfVSSsSF7/5AKGEIJaBNHzfN+/THhO8cU5tu84vUtsZWvavXpvvRK7XT1qabr7DXA4TiSW29n5+k+wjfz0T9AwDAqc6qU7UUJb8KmDc5QxtZStziCn7VskbTNHQtn5aRuAm+4fKwcqzh4g86tl7qCEIJQyhBt7bpmhcUayPVCSWxFLbp6gibSpuuTq3Y+5mUeRDOU1SHXNimS2C10kIq1D8AgC5zqpaa4S10YHmmNDw5MTnM2LuLlBZn5wyXWLbtPiXDzzfROWW1ehJ1TqXjaT+llrTaXBKEEkagRpveCm26jfLXM7XH1vZ6gTSVNl3t8mTbdOofAABOFSOopUxhBGq06Rj1DwAAp4qzwalSpjACNdp0jPoHAAA4VZwqQgkjUKNNx6h/AACAU8UQShiBGm06Rv0DAACcKoZQqvOiSq2GJYst4IERqNGmY9Q/AACcKs4Gp9p1ZUoCye61ld6JQpkC2nSM+gcAgFPFEEoIJcoU0KZj1D8AAJzqZM2/K0PvSsI5IpRmSyip/DXyHpii74o58atthfbVO2CK7kugRpveqmb1iDad+gcAgFNtwnwSu9cnH/kQzhGhNONC6R+f+kQ6eNWCqufX+8pL0i8+cGtln6E3XJH2L/i99N03D044fsnrLy9/9qHbrqts0wssl12zqHK+eRdfmN77sZuqAke97FLHyV549lNp3x9cWt53Uf8rCdSgbeuf2nHadOofAABOFaGEUGpzoXT0nzancy/87YqYkWixv2XPPPqX5f0kcmybH/U5tG/DhPIrkaRzaZvOpXPaPsPX/lG07JtIkr1v5RsJ1AChhFH/AAAQSgglhNLsCaXHv/jBdGBRb3kE6eSR7eVt+tfE0if/8sbytmM/fbByzm2feW/leH1ugshGi952/WvL2ySQTFT94Fv3VI7/7jfWTij7Elbf3vnh8n4aaSJQA4QSRv0DAEAoNeRUNY/jq5+/I73lba8r987L1AOvANP2UcqU0qA+9oE3RwNjffaR9y8rn8s7dzun/tXf/nOZjpNpFEHBsva9dcUbWmZeCUJp6os5aE6RhMz8Sy4qH+/T6ZR+p21K07NtNhJ056ql5b81v8mufd89N09I0fPn9GX/nr94K4EadKVQ0jxVtdk3v/WqqjZdKbG2z0OjK8v1JlZP5A/C9l5t92N/vbpyTrXp6ogIj/Vtuq6hfVWXmzlPkfoHAIBTnTGhJIcXOI8Jx8tx2jY5QH+8BbZyoLZNYid2Pm33Ysm2W8BsIwFy9Ail9hVKKoMKlnyKnJkXSgq8bPvxn2+tSrvTHCObd2TbJLZsDpJP6bP0O1/2VWYRStCNQkn1Ia9Nt9RXdUzZtiM//myVIOp5xbyqlFVtq9Wmx8q3n6Oo84WdZNQ/AACcassLJQWjtu9n172jHKzqeKVNaZtSnqxX34JSjRzF5pOYA/ZO3c6poHXOnN+aEMD656pracRAx5B6175CSb3Mtu/igcvKc5G+98RdFUHthZJGm6xcqfdZv32SzS+ywMoLJaX0WQ+5N0vna4e0UwI12vTpFEo+JVViSPVV7byN6KpjTPtp1N7aZD9S632CZRU88uBtlW1qC9Sm+23+nvxz1bW6rE0HAMCpdtqIkuaP+JQMBagaHUqyOSHhKJHvHbT5JH4UKJZOJVPvpI0ehU7LB8bMUWpvoSRxpP20Qp3fbr3UXijJlJZj5UWr04WBm8SUF97+WC3yoM/baX4egRpt+nSPKEkE2YispeJZmqpf/MTaebW/tk0dYWE7b6ND/lifjeC3233Kd3Rhmw4AgFPtxMUc5FQVnGpUx1YXC4WSxFQSpEXZKIEfZbLjFfRavrrMnK1GEEKnFaZvIJRaVyhJHOvv0NTDrH1N7EgwmXj2gV4olHwPtplWzvP72GIOCt7sM18e7doIpYYYKNnuwNYUOG57cMz2AsesjFxrgDZ9eoSSBIrqlUZzwzbdixrNHUxcSrVPu7NRWl9mwzbdOkV0TLivzTGk/gEAIJTaViipN956Gq1nUSM/Jmq8UJIT9cLIp935eUtJTm587BnmBc8IpdYVSnlmZcUv+63yonQ5G3VMgrlsZn4uk8pj+LnmUPhgz1JDkywdz0aVWl0oaRU/98zOzHKbNhz5HXcXOG4sOGaswDGbI9capk1vvlBSmrQJGKuXatOtjnmhpI4ML4x8p4WftzSZNt0LLYQSAABCqS2Fks0JUa66jgvT7LxQkmnUyXoQLe0u3MeC2CKjRAil9gnUYnODvPmJ3xJLNidCQZvmr9k5JJTCxTq8ELPRodC0nLjKlJ1XZVCC3a+mpeDO7senk7aKKW2xQYGBUKJNb0goWUeFRu6Vmhou8BCmz2nVO+vUsLQ71Vm/j3VSFHkfWeLmMiGUAAAQSi0tlLRErIKzmCmglUBJgnx09Xpb72MogjSJ185tk/BDh2hzTuRcbZlvnVujVDI/z6TLhdKxWO9tN5qVGQn2VllGeDpMi1q48nQAoUSb3qhQqtWmh2mqvk23DqxQKElM2bltcQddw+/z7psHK6tO2rvR1NkhQaURYC3EglACAEAotZ1QqmVyrH6JWDlQjRjZHJMkS3EKz69J+v48Ek9hz7/1QMpZKwj2S8Xa6nitLpRmIE1qt53fBxrdYionCgB9qp4Csk7+ztZjn9lmhBJteqNCKamT/uZHZ20lUZ/aGnZ++cUaTCyF77FTR46JKPkEtek+vc9e+NzqQqnFUl8BABBKrS6U1CtoKx8lbo6IehTtbwW04Qtm7bNwZTO/bLgXXNYbqffmtEvq3QykSa3yglROvJuEkgSzLx8S12FZ6yRT8GmjsJktmeU2bW7J+gPrKXBcX3BMX4Fj5keuNZc2vflCSe2IjSr5TjB1xtjfoRDyS33bKyFCUypr+F40tenyB+2Setdiqa8AAB1F26RJSfzkpWaEqXd2jFYSk8CyFcX0me0XBvB+tbFQ+MQm4eu8Ek4xIWDXaMV0qxlIk5pTsuN2Db9yYDeYRiI150FCXaNK4chkJ5lfcj+zgzSptOmNjIQUadP9MY206b7TQu9Bq1WOlaqn8+r9ZrEXg9s1/LL9pL4CAHQ+XZ0mJYco56pg1lIu1DveyfNJZihNapXvoVVKS7eNLHVD3bHFUTI7V7IhmlTa9NkulzKN4trov0aIOrn9abHUVwCAjqKr06T8Ig5mGgUgTaq5AVuSvXhVI3WdnIbWDaYedfXO2/LoBGi06a1kGkUL2/RWXYChQ1NfAQA6iq5Ok1LPoy3LrKBCIqkV37repmlSKlt7kwJzELC2tx00pbTprWDKBrA2XUuDazVS2nQAAGhKD2RCmhRpUs0P2jTScBYx0ZF2umR304TSpmOkvgIAdDKkSZEmNZ30Z9c8mpxfvhaR0d7i6HDJ1pesl6aTNh0j9RUAoNMhTYo0KZg6d2fPeAWPAmjTMdp0AIDOcqykSZEmBZPnUPas9/AogDYdo00HAOg8+hPSpEiTgkZZ5J67AtN5PBKgTcdo0wEAoB0hTQqayaYgoFnNIwGgTQcAAGhHSJOCZnI8EErP80gAaNMBAADaDdKkoJksSSamyGi5XlJjAGjTAQAA2grSpKCZ7Eji8wnW8WgAaNMBAADaCdKkoFloZbGTOULpMI8HgDYdAACgXSBNCprJjUntVaoW8YgAaNMBAADaAdKkoJnsqSOUtvKIAGjTAQAAWh3SpKCZzE3qv5fmOI8JgDYdAACg1SFNCprJ6qTYSyKX8agAaNMBAABaGdKkoJnsLyiUdvKoAGjTAQAAWhXSpKCZ9CTnJ4wXEUqnkvMpQgBAmw4AANBykCYFzeTuguXJbAWPDIA2HQAAoBUhTQqayaEGhdIeHhkAbToAAECrQZoUNJNFDYok2dmSzePRAdCmAwAAtBKkSUEz2TQJoSRbzaMDoE0HAABoJUiTgpnAlyEAoE0HAABoaUiTAoQSAG06bToAAEAAaVKAUAKgTadNBwAAIKgFyhQA9Q8AAABwqkCZAqD+Uf8AAABwqkCZAgDqHwAAAE4VKFMAQP0DAADAqQJlCgCofwAAADhVoEwBAPUPAAAApwqUKQCg/gEAAOBUgTIFANQ/AAAAnCpQpgCA+gcAAIBTBcoUZQqA+gcAAIBTBaBMAVD/AAAAcKoAlCkA6h8AAABOFYAyBUD9AwAAwKkCUKYAqH8AAAA4VR4FUKYAqH8AAACAUwXKFAD1DwAAAHCqQJkCoP4BAAAAThUoUwDUPwAAAMCpAmUKgPpH/QMAgMmyrmSnAoeCYWYnS3Y7ZQqbxfIE1D+MOggAMCucxXFgBRwrZQqbrfIE1D+MOggAMCvgNLAiRpnCZqs8AfUPow4CAMyuU/3P/z6KYRVrhlDiOWJNKE9A/cOogwAAOFUMoYRRnoA2HaMOAgDgVDGEEkZ5Atp0jDoIAIBTxRBKGOUJaNMx6iAAAE4VQyhhGEEabTpGHQQAwKliCCXKFEaQRpuOUQcBAHCqLWL/duJX6QPbPpNe9+ah9NULLivb5a9ZmL7t7TekX/vWVybs/72f7E2vedMbo6Zj7hi5Ld3xje3pv//XS1XHrXjP28v76N/YfdjnI2s/gFDqgODiX/7jZ+lXnvhSOrrl3vTjG+5Kv/i1bemPf/nD6L4/+fWP0j37nojasweeKp8rVm5tnwM//37DnxOkQSfXP7Xdy995U7ktt3Zdbfymh0bLdSPcP69Nv/6GZel737ey7CMOH/9F1TH3fu5Tlf1+/puDE87pP0coAQDgVNvOFEBeObCo5nsjJGC86FHgmRR434SctL+WHLW269/YvdjnXexUO6JMKQiT2L3wwguj5UK/709feqHqGAmpeuVp8OrXVQkeiSv7TIFcTHzV+pwgDTqx/h0Z+2W5w6pWXVKbHwqbIm26RJfvtFC9ss9U38J78Z8jlAAAcKptZeodNHFigah6G7ftfChdc9eH0osuvqjy2Sfv/3hUKMkhK8iV3fXptem7br2l6jiNLCGUuqdMSVBfvfQNVc+g97JXlX/bC+ZcUNmmv33vdBGhJLviytdURDtCCWjTJ5oXSapnqltq0zW649t7jS7FytlrFw9U2nTZn9+5quo4ZQwglAAAoOOd6kc/sabyHe5cc8eEz3/ws32VUQEFuzGhJAccHvf1p/4u6lQRSp1fpiSW7TtIMPlUO/VgexHlxbcXSmHApb8XD15V+fybzz6GUALa9IipbviOL40uhaNN6mywfXz9rFVXNIpkvkDHI5QAAKDjneqlr7i0IoLC+UQ+z13O16db1BNKElgIpe4TSgrCbDRRv2UYpFnAZfPfHtz+QCGhJPv8jgcnlDmEEtCmV5vSne075M3L05w/tevhfMF6dcX8BUIJAAA63ql6MdNoEBkTSpqXIkcp5/zWm95C6l0XCiUFX3b/Ej6NHFtPKGnEkxElgjTa9GKdX3ltbJFy5uuK6pDMjxSTegcAAB3vVL3YCYNaBbw+R93MHGHRxRwkmPxIFUKps8uU5kDY/cdWSywqlNQrrgDLTOUhcZPQmaMEtOm1y0rYhmql0librra8kcUc1Eb7RSAQShPoLVl/ZvNLNs/9bdZb5xy235wa5w6tL9h3bsmGSjYcud7c7JieYHtPtn1eA3VG33FZznXmu+eQ1Lj3/mD/mM0vcC9zCzwX/z3nBtv73L0kNZ5r7NnV+y1rnWNezjnnB/fZ68pFI2VhMPt9BuuUVQCcap5QUm9hnnPzZk61nlDSPBQtBR2m8yGUOrtMebHjAzD/24bWyGIOWqbYB2kIJaBNj5cVtcF+u0b+Y3XKd5IldVa7U0dIuDw4QmkCB91+m0s2kvNMT5VsZeT4QbfPqhrnDm3M7bemZKeDz3c7ATTstnl2Z9tHCtaXrSU7G7mOCbzN7jkkddp3v3/MNhe4n+GcY3WPj0a+557g+LHg97Xjb4xcY3eDbUpS4xxWRk4EItWex3Dw+/cXLAsqS8eDz45nwjZWVgFwqnlBZLiMt3/3hQ9wY0JJ78jRufS+HJufovSP7+z/+wnXtGXIEUqdWaa0YqLdv4TyZIWSlhaX+WNUzmJzoooKJa3chVCCThdKVmfUBoeLPFibrlXtagkl+QPVHc1lsoUftGKl3qNUKyUWoVQVfI5kgaoFwUeyYFS2o2TnsgA+7Mnf6a5zIPhsxJ3jtAtwZeuCoPtkydaX7G4XLO9oolAayvY9VrK1mTg7lm0bzRFKmwM7FgT2tv++yL7DDQilMXfc9kyUavvq4HuGIihPKB13ozrTKZRkDxcUSrGysCMoC4ezcrY123+n+z5ieXY9hBLgVPNMizjo/iVwwp7CWqMEeYs5+Dkql7z8ZRMcp6VQhU7czIQWQqn9RylDYaKgy17+6gO1WnOUwhW6YoGafaZl6WsJpUbnTCGUaNPb0VQP7Ds8+dzjDaVdJzlzlNSWJzkptb7eat5reC0/X7XLhFISBMFhYL0/274kSMk6nY0sHHFBcYyxnHs5mQXHi922vmz/3U0USiORwF7iaa8L1DfXCMJXZPd5JhlPCdvc4IhWnlA6GGxfn23fHhFKx9wIWJ5Qkm2aIaHkf7taQilWFvoj1z4VjFLtyq7bE9wLQglwqjHT8sy+FzFMlVOg6h1dPaEU9iCGgsd/ZhPyzTQClUQmCyOU2usdSj2v7KmI71gPsxfM9YSSza2w9y/pXwkufy4L4jRaWWupZI2SIpSg09t0346qkyF8qWxY1+oJpTBtT51cfgVU/5leNxG+p88Wl1DqXpcLpQNZULoiExISCEeT6nlIt7uAfl1EiNQTSpa2d7igoDiU3Z/ZoQaEyuIsqNf+L2aB9rJgnzyhNJB9/zT7zuH+u4L7GkmKzZsKhZKOWZQ9+zQb+fJC6XgggmJC6VQmXs9m55pOoXTU/S7NEErPu9HFXdmI2vyce0EoAU41ZlqpztLhzJnJ2SmolFjxPYkyC1JrCSU5RxupqjXipEBaaRu6ltKsavVaIpTax7Tkd+Imfuu3VDnTZ8/9+JkJ89+KrHrnP/MvnJXppZk+ULMlybX6oh+5yutdRyhBJ9U/mUZz/ci+tbN6ibjaeP89fQdCUiON1XeY+c8lxOz9SrIV73l7+Zya9+qvpTa+y4VSzNbmHCvB05sJkZPJxEUd8oRS3ohKnqDIs6IjOiuz+0uDEZqBGkJpXjKecrc1R1jFrL8BoRSz/cl4+pwJpVVOBPXnCCVtWxOI3ekSSpuduFnTBKHU60Sin691N0IJcKoNmBydXkxYq+HUKIGfc9LIC2fDHkif0x6zWAoVQqm9LG8xkFq/dS2hJGHkRY9/Ua3Koo045ZnKN0sTQ7fUP9UXdXTVqhMSN+pY8J0OtYTST196oaozyy/WoldA1KqD6ozLS+3uwhGl4Wzb0WBEZZEbwbBRlONJfFGHPKG0LBiRqCco/D0Nu6C6kdS3Odl1FWgfcSNMMaE0x11jf0QAbnajaMOBzW1AKNkcJXvGjwb77XYCxIugPKGUuNG2R6dZKC3KxIzKwY4pCiWjL7vG024UcDFCCXCqk3gHjgJXOTWNBCgw1d9ygjYiYKbeelu6ObZogy0IYfuEI0T6W6l+di2NEugFpO0+koRQqn5BbGwBBwVUWr1OYrqR9yj5FDwFef5lmUqxC3vKE5dS6oU6Qgm6pU1XnVHH1OLBq6raWS26EqsT1l6r7ub5CNsnTGXVtTSSZdeSqZ7rWqH/YI5SdPvDNYTtgYJCaX4yPu9nbrD9RNLcOUqbM/Hgl5yem4yvghcTSlvdqNO8nHM2c45ST/a9tW19jlBKMmGXOhERE0qWaniuQaFkI27+97AUy10RoSQ2udGfyQqlJdn+4ajdjuAZI5QAp4ohlGbTJKoVYGnkUaI6r2dZ2+3lluFcOT/6afvEzqNgza4l8RSbn4FQAtp0bBaE0t5k/J01S9zIysPZyIotwrA8GEk5VSc4TnLEzr5k/J1Ne7NtTzdRKI260au+7DvYdz0eEUornBhZnkx8989ct//6JP/dU8uT/DlLoVDy2yQ6BnKEkp9vlSeUQjFbVChZediejL8XybbdnSOU5ibj6YmTFUo92Xc+mz37JPv+Nkp5I0IJcKoYQglDKAH1D2vVOUpjWUC7osbI0fYkvqhDnlCal8TfsXPMiY1mCCVd52jkOudcYO6FUq35RyYGau1zsI5YyBNKYmewPRRK/jnXEkrz3HMvKpSGkvGFK8LfY36OUEoyITMVoZRkQiz2LPdGnhlCCXCqGEIJQygB9Q+bUaE0mFS/D+juLDBe5dKxVmSfDUXOtyj7LFz4YV2N4FajOyuzNCvNqVkTpH71Z8eGL7xdmW0fLFhf5ibj7+fZnaWMLQqC8M1udGxzDeuvs8+IExWnnehLIt9rJCLq7Dx97nv25+yTOKG3LjjXspxnV4v+bJRsV87vMZjE3xW1JrhPe3fS/JyyMD9ybY1ebs1+nx3Zfc9BKAFOFUMoYZQnoE3HZksoDSfFVmprVXqTielvZn2zeF+a3/Niizyj+TWeUX8SX62wlRhMxpehRygBThVDKGEIJaD+YTMilNo9+Iyl7/mUwdlCo289LfKM6qUT9rfRb4xQApwqhlDCEEpA/cOmtQ76kZj5jCh1NO0+otQpZRVwqhhCCaM8IZRo0zHqIAAAThVDKPEcMYI02nSMOggAgFOdLtOL/ka33Jte86Y3Vl4CqJcO6oWBeudMs67z3I+fmfHvNhvXRCidN72s8itPfKn80kmZ/t/uL3UlSIN2qX+qb3pxrLXpsma/sFvvIPvpSy/M6PeajWtSBwEAutSp6kWfl79mYa2JhulHP7Fmyo5Nb2OfyWcwG9dEKJ23I2O/TO9cc0d6wZwLJpQlbdPvon2meh29LPaOkdtm9LvNxjUJ0mjTG61/19+wrGabft2bh6ZUB9W5ps6Piy6+KN2z74kZ69Cb6WtSBwEAutipHj7+i3Ivo93faxcPpJseGk237XwoXXPXh9JLXv6yymefvP/jk76ORqZm+hnMxjURSkfTf/+vl9Krl76h6rv1XvaqqnIm04jlVAK1d916S/k8GgWdqe82G9ckSKNNb9Q0amT31/PKnvTjG+4qt+kSGb5TTGJpstfQ+ew8MyVaZuOa1EEAgC52qnKgdm8KAhXkhqNNl77i0vLnF154YXmUZjpFiwLn7+z/+6ak+yGUZr9MLR68qlyG/CjfW296S+VzjSxN9jomvGZStMzGNQnSaNMbMQkIu7crBxZNSHVVGzt49esq+0w2Da+oaJFPUfrzsweeKo8IIZQAAKBtnKoFfkpl0OhSbJ8Htn2mcv8abQqdsZxXzFFIqOhvBZWB86gEmiZm9PeD2x8oizE/uuWD7GZdE6E0vakxNgqpf2PCWvtYr7bS8CyQk0DW7yfzwZ3+b9u1j5UblVnrMdffFvBpJNT+VvnR//Xbr3jP2yvHmzXrmgRptOmtYr6D6MnnHo/u84Of7avso9GnvHbUzNpT+YuwMyR8Fl7MqO5oNNmPboV1phnXpA4CAOBUp7VRVz57rTlMtt/yd940LULJgmsF0OoFTVzKlgk4hFLrlyn1GhcZLVIKkO2nCedhgPWTX/+osq/+H/7usYBJgZQX/xq5MmGTuPlRn9/xYLSHeirXJEijTW8Vs/ZTZT/MEPAm0aL9lDEwXUJJ7brOrxEsm6+of9VOIJQAAKBthFLopPL2M7HRiGiplQbnt2vyfyyQ1v+beU2E0szMIdAIYa0FEUKx0Yho0TEmrhVI6W9LxfFzoRSg6Vo6zgJDn0LarGsSpNGmt1qWgAmMPPOdSY2KllppcH676p/NQ9Tokokl3zHXjGtSBwEAcKqzJpTUKzkTQsmn/umaFpSaU0UotZdQCn+jvHkUkxFKteYL5aWTauQqFHHNuiZBGm16uwklv+DKdAmlMM3O5ieqswKhBAAAbSOUagV+Pp9d8zymQygpxS7PkSuVBKHUfkLJ5rPFTAFUEqym2GyhFG6XaLLzjKz9AEKpuQwnE9Oidhc4biw4ZqzAMZsj1xqmTa9OvZMYqbV4gi3So5HW6RJKP/7lD6vOc9en11Y+s1FdhBIAALR872OtFe28c9PCDtMhlJSSkefwlb6BUGqPMqXVrZJgPlvMtOBCUnCOUt7v3qhQipWTvGv6uVYIJYRSO7Xpvt2zulVrRNfX02YLpXDxFKVX22cm4hBKAADQsk5VvfmJW9AhfK+NHJ1NiPdiygeSJp7CnvhGU+/8Ck3q/bd8djuPD8Knck2E0vS+Q8nmAun302hk7EXAllapMmVlLq8nWuViMkJJC4P47TpnrVGsqVyTIA2h1CqmNjtxi+H4DgCrf3qHWRJJj7O2PuzkiKXzFRFK6mTz59HrAsLz2DX96nuNXpM6CACAUJq2N7h7p6ng8qOfWFMOJPVeJRMrstEt91Ytn5y4d+XovUcyn/fuRYtWQPOO+etP/d0EMSOHqO0SYf48tq+/ppYOn+w1EUrTa345eYkm9Wqr91giSgLElzeVtVgQ9MWvbYsK3pho0e8fC7BkO76xvbL9jpHbJgRZzbomQRpCqZXMXoycZCvPaSRHbbr+tZS7JFsZMjaKr2NUV9V54OuNFy2qL4mbZ2j1x9cpdYSoPVA77UeTNKIcW6Wv0WvWmgeJUAIAQCg1xX760gtl4REJPiojA2HPYPj2dzMFweb4vGjxwXPi0ul8QOrft5G4l+DWu6YcaSPXRChN/6iSeqTzypOZxIZfvtgvQ6+gSfPh9Jv5Jb59YOQFsn5/GyXyQsl+d7/kvBc5fpSpyDX9SmH+mgRpyWDJDgY2WuC4p4Njni5wzEjkWoO06dV10IulmEkkhRkEmlcY7qe6oGyDULT4uauJS6fzQinWpstH+OvGrimBdd2bhwpfkzoIAIBQmnbHqt46CRE5MjknjRRp0rt6A/NGo9QzqIBRpv9r1EfLeUuw+PfVyJnpcxNSNpneCyWlhGgUSKNaClYldML3gOiaGoWYyjURSjNTnvT7WRqeN/VWqzc49o4XCQ8/iqnjfSqRFy36v9/XRLIf9fHlK8lS5sK5eM24JkEabXormkZOVUbVEWYdShJQtUbXVW/V/qod1r4SJxqR13n8SJBM7a3OrX3lO5Qy7YWSRohU1317HXuxuVahLHpNnT+8JnUQAACn2pHWDvOIEEpTE0wS2kq/kxBXWmW9HmCNcGp/BXm2r+ZZyMIecG1Tep32tc/CeUQKunS+PME/2WsqCAw/I0ijTe92a4d5RNRBAACcKkIJodSV1uoLLhCk0aYjlKiDAACAU0UoIZQQSgRptOkIJeogAADgVCezlK0cayuuXoRQak/TggwSSa04J40gjTa9000LpFibnvduPuogAADgVDGEEkaQRpuOUQcBAKCIU8WwGkaghhGk0aZj3dmmAwB0LedwGFgdO02ghhGk0aZjXdumAwB0LdtxrFgNO1uydQRqGEEabTrWtW06AAB0O0P39Q0v3bhgH0+CQA0jSIP2Z3jL788b2rhgbHhLMoenAQAAMAWu3dD3cMmpnrv2vr5FPA1oBktHF9xdKlPpNaOXr+BpAMwsQxsXjlD/AAAAmuJUFxyVUy3ZozwNaFKZOlQuUxsW7uFpAFD/AAAA2o6lG1/dl4kk2dk3bujv5anAVNDIpC9TSgPiqQDMUP27v3+A+gcAANAMp7qxb41zqunQ6IKtPBWYCqVytKmqTG3sW81TAZihNv18KjX1DwAAoAlCaa93qks3LjhNDyRMUSgdD8T38zwVgOlHizeU6txJ6h8AAEBznOqZ6t7HkljasJDVuWBSXLNxwZKwPGmhEFI6AWag/o1evoL6BwAA0AS0LHjEqcpOsKwsTIalGxfsiJUpxDfAjNS/fdQ/AACAJjAxl93bwhGeEDRCNO0ns2s3LjjMEwKYPjRqpNEj6h8AAEATcMuCT+yB3LjwCE8IGhLeGxfemC+8S8Ea7+kCmDaWblywnvoHAADQFKdatSx41HhZITQkvDcs3FOzTLGiIsA01r++Y9Q/AACAJjBhWfCYbVhwkCcFRRje0j83tjBIYMd5UgDNZ+nGVw/Vbc+pfwAAAIWF0t4CjjXVKmY8LaiH3tVSpDwtHV24jKcF0Oz6t3AX9Q8AAKAJ5C0LHp+rtGAfTwwKCKX9RcpTyXbytACa2Z7//ryi7Tn1DwAAoF5Qm78seMzOMQkYanH1+st68lbbitgplp4HaGYnxcKRBtpz6h8AAEAtai8LHrVHeWqQx9LRBXc3Up5YJASgmUJpwSHqHwAAQPMc69EGhdJZ3uwOzQrUtDoeTw1g6lx7f/9Ag2059Q8AACCPIsuCx4SSRg14ejAhULuvb9FkypPmVfD0AKbYnm9YuK6BtFfqHwAAQM3AtnpZ8LMlG9My4NWOdOGI5jGpt3L4k/3zeWqQR6m8bJqEUEq1Sh5PD6A5aJ7gdfcuWHz+pc8T5iwdKrfzVYKK+gcAADBRKN3XtygmgLxj5SlBEwQU5QmgxepfRVCVfABPCQAAgMAWKE8A1D8AAADAsQLlCYD6R/0DAADAsQLlCQCofwAAADhWoDwBAPUPAAAAxwqUJwCg/gEAAOBYgfIEANQ/AAAAHCtQngCA+gcAAIBjBcoTAFD/AAAAcKxAeQIA6h8AAACOFShPlCcA6h8AAACOFYDyBED9AwAAwLECUJ4AqH8AAAA4VgDKEwD1DwAAAMcKQHkCoP4BAADgWHGsQHkCoP4BAAAAjhUoTwDUPwAAgNZmsGSbSvZ8yY6V7HTJ0pmwwLHOpOk7jpXsQMlGS9ZPMSBQA6Atpz0HAAAQS0p2cIYdWpX1vemSis3mfWS2DweLUAKgLac9BwCA7mZzCziyVrQzJbud4jFpurFHm95soC2nPQcAgA7hae9MLrjggvSGd12fbvryp9Kv//BL6d5//Wb6D8ee6WjTd3z0+9vTdQ+tTa++/vUxB7uOYtIQ9GjTmw205bTnAADQ1mz1DkRO5fEfPdIVzrSWbf/2lnTBFZeFzpWeyGLQo01vNtCWt3J7fq5kyygyAABQi2HvWN+5enm6/zdP4Vgze+7XT6ZXXT0QBrp9FJuaMDpJbzbQlrdDe36cYgMAALU4Yk7jmuE34FhznGvQE7mbYpMLPdqMTgJtecvaM7/YlV5y6ct8PbyRogMA04F6RE8lpNJMxU7OcrB0o93L71z42+lThx7DkdYIdIPfjlElerQZnYRWgba8AVv14Vt8PdxJ8SGe6+A4D2aRs1SAplWi2WKn3ce7P/gOHGgdC1KoSJ2iR5vRSWgVaMsbsK277vd18HmKD/FcB8d5MItQ+Jtns8UxuweNmOBAa5vmm7jf7ABNAD3ajE5Ci0Bb3oApHdjVvzGKD3FYB8d50AoV6z//+yjWoLVIBTpj96CebhxobdPkfPebHaUJoEeb0UloEWjLG7DdL+xEKBHPdUucB1QsKlAzfkOcZ7GVzJLqF4oCPdqMTkJL+WPqF2058RxxHlCxqEA411kxGj56tBmdBIQSbTnxHIZQglmpWD/59Y/Sr33rK+m2nQ+l33z2sfTnvzlIBcK54lwJ1OjRBqD+0Za3qVD69/96KX32wFPpF7+2rWz6/7+d+BVCCahYRe3Hv/xhes2b3hidBLf8nTdFBZNE1cjaD0zpuju+sT198rnHEUo4TpwrZYmyBNQ/6h/xXJPt8zseTC99xaUTYrtLXv6y9IFtn5mW2Ozw8V+kd665A6EEnVGx1KvQe9mrKue76OKL0lcvuCy9YM4FlW2vXTxQ7pGwYzY9NJpeeOGF5f0mc80jY79Mr176hvK5NXqFUMJx4lwpS5QloP5R/4jnmmcSPP78Pa/smSCaJKR8bGad5pONzb7yxJfKIiyZ5VRCyhg0rWKpMti51Ltgguhf/uNn6eDVr6t89vWn/q5yjFWkyQoljUbZeRFKOFecK2WJsgTUP+of8VxzYx2L4dQZrswh266pFdYZrs+aGZu9930rW2LOFWUMmlYQP77hrsq5vveTvVWffWf/35dFkcwqjUaTJJBs6FbHa16TT+PTNlUWmYZf1cNgn+saStmza77t7TeU99dQrT/HRz+xpnz8HSO3VZ0foYRzpeGjLFGWgPpH/SOeq20WqymGCz9bc9eHKvGd4q8isZk6zBXTWXynz70AU5yoDCQ7hz4PBZdGuRTXxY5HKEFLViwVfDuXhmTv+vTa8kQ/n2oXq3jeVOD1mXJalZKXROY62T5+BMubejJs2Nan/Zld9+ahpk0+RCjhXAnUKEuUJaD+Uf86WShdf8Oyyrk13UHxl8VatbKLYrHZive8Pfq5Yr49+56oyjbyZiJN8ZviuPBzxXu+Mx2hBC1XsSSIYoVbc5XUoxCO5qgXQnmuto8EkOW4Xv6aheXtV1z5mnKvgY5dPHhV5ZxK59MolRaI8JVX59Bn6lkwkaQhYx1/7+c+VdmmUSaEEs6Vho+yRFkC6h/1j3iutj3342fKcVoY3ylWUyznR3NqxWZK1fOd3uoUt7nq2iYRpXMoXrM40PbVNosdbbtiOXXSv/Wmt1TEUrNHlihj0NSKpQl8KsSxCiVTr4QfYYrNUdLnGrpVr4RP4fO9FAd+/v2aebBWkVT5/HCvKpWNeCGUcK40fJQlyhJQ/6h/xHPFxFLeqsaKtfxoTl5spnhM4ujB7Q9UndsW5fKpfbE5SooPLb581623VC0mZotLKJsJoQQtX7EkmKTylaeqUSF/nU/e//FCiznoHBoJUqGXwPKpeKqwtSqjndfmPplpZCscBkYo4VyBskRZAuof9Y94rthrYCR0NGpkq9KZWPrpSy8UWszBzvHnd66qihHrCaUf/Gxf1b4+vrPpHIoXEUrQkhVLozzKL9Wwa/iZtpvQ0QS9ekJJFchXQK2m4if2mcjJq4w+TS/PLBcWoYRzBcoSZQmof9Q/4rl4x7c6p9X5Hb4LUyM5EjtJsER4Xmymc1maXJKlyml6hE3DqCeUFLfVi+1iC04glKAlKpapeYma2AIO1mvgRVFMKKmC2VwiDa2aKPKpd/WEkk3003m1T8yasaBDpwql5379ZHrfl9alt/3lyvTP3vOWdPmtN6Qf2Xhn+tV923KP2brr/vTTD/9Vrm15bDTd/cLO6LFPHXqsvI/OUeu+iu6HcyVQI1AD6t95U7ut9lvtuNrzVR++pdy+q52v1c7mmY790jNb0++9tKemL9B5at3Xpi9/qtB+1L/ZFUp+oS6fEWSmVLrw87zYzFZHVoyn+ecSTj4WrCeU1CGfuJXwYrFdKOYQStAyFUvLNNq5tOyjFyLqZbDPNFxbSygpz9X21cQ/264UPNtuk/V8ZfQ5r35fDdX6OUpKv2tWDutUKtC1owvXDn+yf34rOdf9v3kqveOv3pv+zoW/ndtb87pr/jgqeLS9Xk+PbOD1V6aP/+iRqmO3/f0DlXPXur+i++FcW08o7f3Xb5bLjUz/RyhBpzC0sW/18Jbfn9dq9e/Le7+QXjHQn9sWX/yyi9N7tnwkt52tZ7970dz0rs99ONcX6Dy17u9Vr/79Qvt1ev2bjvLT7BEly/DRv1rN2M858ivQSTTVis1iMZ9iRXWwh0LJx5S+891Gn3Rdfx+2aIR/VydCCVpKKKli+HQ5TbhTZfBvb1Yvgk/N83OGVOglYHwO6pUDi8oiS3Od/FLfljannoPEpeepkul4bbd70fUlkDQ87EeqZrsCDW1ckJbs7NCGhXuG7usbnm3nKpF09fWvrzhQCabt395SDmy//sMvpRv+5p6K05WDC4Ndc47qtYz1Qv7F+vdXHOPlVy4oXw+h1NmBmnqs9bsvuGLiqwCuXHxFOUjz5cBs7f0j5bJSy1RWFaSFx3/r4Ncq+9S6N9vvqqsH2rosNbHDBSZd/8bb8mtGL18xvCWZM9v1T6M61uGl9lKjQGrH1Z6rXX/3B99R+Vz1LdbOXnLpy6Jt+bqH1qZvecd1lXvVyBBCqbXKT7PnJY1uubfqWSveUnzn545ryoMJmrzYTJ3ovkNd8Z29zDYJpmZodCpxK+dZ3ObvRXGjRpb8dIvY9A+EErRMD4TyWMPFG8zUCxAuEa6h1yRYFS9c/tEElsSOVUpbJjK23r71JqiyWC+FN+XH2nBvCwglb2Ml27R046v7ZsO5rr7n1vI5FNQqiMwTU9cMn1+dRo425hzlSGulzl3aM7+8n1LxEEqdG6gpKLNASAGZhI3SfmT6/S644ILKbxmm8FhZ1PH6PDQrQ7I/vfZPqo5VIFjkO9h+9QRVq5elJna4wNR+A2+nSrZz6ejCZbNR/9TOqrNL51HKXd5+Ekyqh6qfPv3N2tl6dcPqqTo9EEqtVX6mYxEHCZe891tKsIQpb7HYTIs9hO/Q1N82euRXKtaqx76DXPGczw4K35OpY8PV9BBK0HJCyUxDs+opkNJXwdVwbN6cIFUGraOv/W3ZbzvHA9s+U95uc5IkxDSa5NPpdF6l6+kc+teLIH2mymnnt9XyWqECRRpHs3MlO7B0Q9+q4S39c2fCuT7zi11lZymnWWsekjlh7afexkaFkkyBsvaTk0UodWagpvJkYkY9z7E5CBJSNtKkuXCxAMyXkdC+sPuzlWBQveVdLpSa0eECzfsNvB0fGl2w9dr7+hbNVP3THCSdY9nypXX3fcf7/uz8ksouha6oULI6JH+AUGqt8jNdK97ZasSKqSScvvi1bbnvLcqLzfx2xWf6W+JIsZ1M71vymUqKAxVHhiNF+kzX1wiTOt39cQglaHmh1C02TUKpKuBdunHBjuvuXbB4Op2rUinKw9vXv77Q/gpS81Lv6gklG5HyPZ0Ipc4K1EwM67euF2hJoMv8xPIiQkn2wXW3l/e74V3XI5Sm3uEC01P/KnbtxgWHl25YuO6NG/p7p7P+WSeF5ijV21f1INyvqFDScUmWqo1Qaq3yQ3yGUAKEUrcIpapGMmc+wpSdqwLNJJKr3ogVEUoPfPXecu+jTCMKCKXOC9QkoG10Mly0I6/3+52rl1eNOhUVSibwffodQmnSHS4wzfWvSsSOLng+MrdwyvXv0e9vr8wvmuw5iggl1XNr89UxglBqrfJDfIZQAoRSy1WgSTR2k7VwPsKUnas5tqksu23n0OR4m4tiJiGmBRzsPjXBf7ZXveu9+mXpn679A0tVqrYNCw7GrBRs7is5qN1R29i3OWYSJkMbF45ErfQbxuy6Da8eHLqvvz9mrR6oaWL3VH+jokLJRid96h5CadIdLl0ialQvF6QtZJW5hc2of2rDrR2eqlDSqnZhWy5TvdNnSTanNUytnWmh1PemS9IW+01npfz8L79FPIdQAoQSQim0o81wrjZXJOaw/CpioeldGkWXB1cPp3LmY9eYDaF0+Q3zu9m5TlugptUSdbxGiqYqlLRgiC0pbqY5dBqZNJGktB+/XP1sCKU2DdS6cgGIFhRKFWtG/dPqpLXaSNXLWFuuuYRFlwfXiLFWQFXqa2ypf4TS7NjVd1+Wzv/D3yWeQygBQgmhVLJDGpHIRgOaNqLkJ8XXEkrWm+gdnJ1Dc48sqFV6nYJepWFdtrC3vMrSVASQVsprllD6w3e8Auc6DYFabLEOb3kvsfSLiJhQqmcK1sL5FQilyXW4FJzDhlCapvZ86eiCu5tR/6wt1Qh+EaHU0/uKCW2qnUOf+U4KjVZphTu150qXjS3tj1CavfIz53d/i3gOoQQIpe6do1Syk9du6Hv42vv7B5o9r0ROL4msPlYvGI4JpdgcJevllMCKTTAuKpR0bu137Y1vnHJwK6dy4cvnpGFqmwLGvJQ4TYyPpdBdu7FvTV7qnVafi6bqqTc/J8VPgWs0JXDjghOtHqjZKlp5QilP9Pj9TShJCPmUH0vf1GT1PNGNUJp0hwvM3ByT84usbFywKRCoTVnBNMlWovMLpNSrBzGhFKsbOqfVQz8KNRWhpHlVzFFqbvkhPkMoAUKpW4TSOc2LqfNunCk7V61iZ44xr5dwKkLJH6NrhA7cJiDXC1ptlTMJOxZzaM1ATSOKtYKocCRJojdPKIViS2VT6Xh5cyNs+XrmKE2qwwWm/zc4qUU1rtm4YMl0teUyjfroHFrspNlCydpre1mtX1bcTCnWSZ2FfVSX7RwSdwil5pYf4jOEEsyiUNLa9Xlmb2Weqmk9fK2zrzXy9e6jZp23bYTShr5jpQZxfY3VyZruXNV7X3RUyRxhI0JJueyW5hEKHTlNS+fzq+GFpgnKRQMAhNLsBGqat2ajPkVEd0wU1VvMQcvYJ9mLLmPXsO8QvsjWm1L9tI9SQrtAKBXpcIHp+Q3OaPT42o0Lbyzw7JvSliuFOsnmhea9PDzspGpEKPkOEbXbfo6gTIv1JMGy/XmLTrR7R0Wrlp+ZiH/08liL/TolpkMoQVMqVlJn3oDe0OxfHNuo6QVk4dufVSG7QCidGdq4cNfSja8emuxvOBWHo5Q4EytycDEHq31sEr3Mpz8VWR7c5hgpLcQvBCFbfusNlXSr8NoKhs35avJ+bAIxQql1AjVbHCTW29wMoaTyYS+bje0j8ZPUeY+MLS1e711PbS2UGutwgeb9BueGNvbtP7+qZEPvsGpK/ZNpRDfJ5hlp8ZOwQ0Gj+nodhMRUEiyxX0Qo6Xw2chXWIb0WQG28Prtny0cmHKvPrY2ot7JllwqlKZef6Y59JHwumHNB5XrffPaxScV0P/jZvvSuT69FKEF3CaVy4/zKnvKblidTKAevft35YLpUCVe85+3pu269pdNT76Y6T6BpzlXCxxyn9djL4So9yoJP66nUvKPJvHDWRqPkKL3zVvqFOU852YHXX1lZitZeoKjtcvpT/Z5dIJRmNVDzgljLheftp4BJv3OjQsnPVwvfyeXnSansxEac/DyLImKuzYTSZDtcYOq/QXmu39XrL+uZ7bZco6n2fjxrszUSqzZVdc7S3pJszqdPYy36wlmNypogChcCUr2qxAMlsaZ2X/dj4irJljCvNerbhUKpaeVnumOf0S33Vj375e+8KXffxYNXRWO6NXd9qLztmje9EaEEnSmUVDF82p1Gkf78zlWVzx/c/sCkCuWrF1xWt+J1QgVq4jyBpjlXS5HTXCATLd7k5DSyExvRkaCSY60VGNtogM6tfcPeRp1Xc1BMGJnJGcvJh6NQCKXWDdTUW23nkojWb60ATCaRrfJiQZYCKf/bFn2PkolzBX7hvAsbHVUwpiDOrq37MJGkctjugRoLM7RE/dvUpFUDm9qWm+iRELL6YKYRWQmX2IILqotqn4u8i0mvA9C+8g1hXVJ6nc5h9dwLJ9Xtqda9DhJKTS8/0x37XHHla6p9dEnw/Pw3BxuK6Ww7Qgk6Vii9930rJ3z241/+sPL5J+//eNVnyklVfqrElI7V575ife8ne9OPb7grveTl50c0Xrt4oPz31771lapz7PjG9vSOkdvK5xhZ+4H0O/v/fsJ9bNv5UOVYnVf737nmjvIwr+2zZ98T5W06j3o2tF+bVqCmO1cvXGxp2CIrKDXT1MNp126GQ+1wodSSgZpGlmKC20zBm4RxKLyLCiWNSOVNKtfoqK2qFTOJq9hiEO1WlliYoTP98XS0qdae1pu31GxT+23Xbkad6+S2vB2EkmIuHwfa/+/93Keq9suL6RR7+e0STLbdjlVG0qaHRsvnlz2w7TMTspTsPNpPsaTiQcWXtdIAEUow60JJBdY+9wJGBdxS6rxddPFFFSEkcRMLaOw6qgiqaLF9NJzrJweqhyLJ5ktd+opLK/vZtfzIl7dQ3HW7UOpUo+Gb2bIk0aKRSM1DU+qPFgzRyGOe+FZKT/hupVo95to3NpKpAE1iTdezJcYlvrTKI2UJuk0o0ZYTzzXDTBxp3tGRsV+ml79mYUXwhB3WsThL4iZvu45TdlLvZa+a8Lm2+fnvdh5N9fCxYbPnPFHGYNJCSSJHFcNMhdU+++gn1kQrloZnJUY0uc+Ek3oVJKQkrLSfzqvtqnz6+/M7HqyauyRTjqt6GK6/YVllm0aHQqFk59f+qkj/duJX5ZRAL8J0L75XxPdqIJRwrgRqGGUJqH/UP4TS0bIwsoUZ1EHtBUsSLOqQF9Opw9pvV+xo29XhbWl92q74T5lIJsY03ykUShZbKrXvyoFF5cwmhBK0hFDKMwkTiSEb4ZEIstVRvIDSdqtwEj1h3qofsXryucdzRZiJJV3DVlLxQknHxiYWSnjFFpGwyo9QwrkSqGGUJaD+Uf8QSufNdzSrk9leGWPb3vb2G3LnKIVZSLE5Sj7W0zQLn2Zn25898NQEoRSm/SGUoCWE0tVL31AeWjVTQVWqm32ueUFhAVclUuE2sxxVpcLVqlS+QoRLj6sXIqxYJpQknvLu3/JlzWzoVj0XCCWcK4Ea5YSyBNQ/6h9CaWJHs6Y0xKY7+A7ryQglxZH2HTTnyOIzpdPZdutY93Ghn3+OUIKWEUqxOUrhUpAaNdKwaVLg3Uu1KpVEl+2r9LlwQp99JsHmK22YM+t7PvJMo1wIJZwrgRrlhLIE1D/qH0LpaOWdR0mB18PYXKPJCKW8+Uux8/t9i7z0FqEELSOUlLrmC69fIUU9AX5JcTO/+l2sUvlehrDnwE8YtKHgPKEkszRAzVuK3UsjFQ6hhHMlUKMsUZaA+kf963ShpHngRYSSFl3wo02NCCX/fiZ1gsfiM1v9zgslfz2EErSsUNJIj4SKTdDTv9oWm/xnozuaF6TRIr9CXqxSKSc1cQs5WKXQuTV5L8nmRunvekJJKYNJlmJno1M6n+Y66f40AoZQwrkSqFFOKEtA/aP+IZTOx3e2grAWW5CICc13klundaNCycd6Ek1+ioViNKXj2fQLL5R4jxK0pFCqZ36JRr2nKAnmKdkqJhJRfpWSvEql4+wcqqgSTH6lPVsdr55QUgW2Y5QmqHvxc6sQSjhX2gPKEmUJqH/UP4TSedP876TOwgle5Lz1prfUjelsXriyfCSCbO6Rn++kjnQt4GUiTaNV1sGNUIK2FUoSPirYfihU//dLcCduhTz/QtlalUqjRbFz6HpaicXvW0soyVQhbZQrcctLNrr+PkIJ50qgRlmiLAH1j/rXyULJryQcLtbgzTJ8/KIOeTGdn1KRuAXANBUj9t5NnSf2HiWEErRcxYoNucqUPqd0unCxBW8aOdKcIg2pfuWJL01407L1Suh84ep2Zqp86t2odQ69EVrnsGUkY/Yv//Gzynk0ilSr8iOUcK4EahhlCah/1L9uFEoW59WKqexlsbavzT2vFdMpbrQYLJwfruOUKbTpodHy+5nCeUja366FUIK2rFjdYAglnCuBGmWpi8vScGBDBY4ZiBw3t84xvZFj+ql/GG058VyXxHlAxaIC4Vxnxp779ZP+NztDE0BZIlCbennJbKzAMbsjx9UTPSORYzZT/2jLacuJ5xBKQMWiAtXjrN3D917agwOtY1//4Zf8b3aMJoBAjUANodQi0JY3YLtf2Nlo2SOewxBKMGVHh03eZovjdg/bv70FB1rHNvzNPf43e54mgEAN0Y1QahFoyxuwrbvu9+XhIM03cVgHx3kwi5yj4DfFTs/ib7jL7uOdq5fjQOvYNcNv8L/bJpqAeKD25b1foLzUsU1f/lS3i26EEm35rNmqD9/iy8N2mm/iuQ6O82AW2U7lmrKpF37dLP6GN9q9XHDBBeVebpxo3L6w+7Phb7eIJiAeqN3xV++lzNSxG951fbeL7t2BFQlW10SO66lzzLLIMSs78HnSlhe0vf/6zfTil13s69+NNN/Ecx0c5wHAFDlkFXrBFZelTx16DGcaSZO6tGe+b/j2UGwmsNKej4IQBSOUnbg9/qNHysGsK0+DFB+gLZ+VToqjJZtD0QEAgDwWJ25+SU/vK8qjJzjU83bfl9aFvY+nkvNLDkM1CjYq6XfLb72B8hOx/b95Kr36+tczPwJoy2fYNHfyz97zlrC3fwXFBgAA6rEqCYbdX3fNH6effvivyr3f3eZQH/3+9vSeLR9JrxjoD52qVidbRnGpWY4qz+sv1r+fAC0QSZo/EpSpJRQboC2fPvvqvm3ltijICpDtpLgAAEBRlpfsZEI+cZ4dJ6gtRNWEe40skYb3TDkNKlgMpFMXFQDa8nYwzakk5W5yDCTVc/7EaDJxLuCO5PwLnmOszPbZVOfcofmOSpt/qFH5A8n5eUD+BdR2TwMRH9XIAh4adXzaXUfnnec+3+6ew7Ia977GXT/PegrcT2yu5s5s+5zge+4Knok935XB/a7NuUaR+1mWxOd+hs/f/l5S4/ew+xvNrl3rWdn1+rPjD2b2aHJ+dD2JnKOH6gtTpSerWGdxpFWr1WwPGkbIRw31If8MlbqoBR60Gl43LR2udyVpqeZ3f/Ad6e9c+NthuXqaogK05bPS4XU7xWNKDDvfaKtVHqzxzGPP+2j2mUY/+yLnzrORbL+7k/GR0zFXzg85sWD3FIq1Rt6dZatmns2OOZ1MTJkeS8aX/x6pI86TOt+vv9HOyMB2B99T9nDk+W4O7vecExf+Gv0NPKOw4y98/vb34UDQ+d9j2D3f/jrPanPWzlmn0InMLPtnSVa2xrK/i34fgEL0Zr0z+1wj0C12LnOmT2e9LPMpDpMSS7sJynJtK0UEaMtntD3XAjyrk+redZiaUNocCYp9IGoL/ISvP1jihFatkfWRSPAvFmW/q+YLD7qOgcPZ/muaKJSOBN9rXjI+F3dJRCiFrHKB+0AgYCbL7sj3GnRisSe4zjl37TyhZCJzJoRSmgndekIpVubCsrA6cu3NgTBt9PsAtAXzsh4naG9WOaeCnXe6wxQLoD2HLhBKy5L4KrGPJuOjQwriTyTxNMg8oWSBcJi2J7GwPBnP/miGULLsiB1ObPRm33NuHaG0OBkfyVgRXL/ZQknPz0ZWet11zgbCI08onU2qR+ymUyidyURybxOE0irnW1dkv8n87L57EUrQyYzkNHDQfqgBX5n17hxPuisVSA7hWHI+f5x3tQDtOXS6UDqRBb2WDncsCE7nZe3iycw37EvyVx/ME0p7s+3L69yn3dNJd09jDQql5YHPOpkJPf+dYkKpx23fFBFqaXBPsqLp2Bb0H0jG594cctv8dQ6657C6hlB6OPuepzKhMZ1CaTSpTj+filCam1Sn+kt4awTz9pxnhlCCjuFQwvuKoHncnbAUMADtOUy3UHox+79+c0ut2xoJqndkf1t63v4GhNLzSbEXBds9HXGC4WCDQkko1W97Jvp8J1h/jlCa4+5xb+R8aSBizHY0KJTCTrlNSfVcarvGQDKeqrgyRyiNZL+TpaxNp1DS8znqfsOpCCUTS2szkXgmib/IHaEEHcVAUv1Ga+YIAYEaAO05tL5Q8oHoPCciFmXbXkzG30eoz2zyfbioQy2hZKl7dwfblep2e9K81Lu52bH+eN2jjYKN5gilnU6gzashlCaLT72b7/zbrsh1THCYCDpaQyjp+x4P9mtEKG3NEUqDwd9iKPv/sSkKJZ17hXvOc7MyYKN/CCXoSB4OekrW8khgCiwKAjVWLwSgPYfpF0pzXCA85ETzqaR6JOV4Eh+RyBNKK5L46mn7s+3rmiSU5ifjIzFe4I8G9xtb9e5UjaC82XOU+rLr+TlGoVDyIihPKIkbk8ZX4bPf4/ngtzcR3BsRSkkm7NIpCqWnI+3K/GR8lA2hBB2Hn5CYusYQYLJsCsrTah4JAO05TItQ2psFpfucSDqelYXt2d/rg/MtTsbnN80pIJSSZDy1TdfQCNMhd475TRJKPhA/nol+3cvZTEANRoSSzWc6kkx8789oIJRi7wYaSMaXtN5eUCgJW9RA6Y49EaEklhcQSv47FxUW81w91++gEbUXI/U9FErzncCbrFCyBUPOZZ/pN7LRMFa9g45kRRKfFL+YRwOTJFx173keCQDtOTRVKD2dTFycQKZRHku7O5xt64ucc3/22bIg+M8TDHOz7addoHzAXcvf01Bw7FhSvRR2PRGwO6le0CF8F9chF+iP1bCnC+wzlD2fkzkCMcm+d+x77c62P+yuEy4QsSvbvi54xqvcPr2ZAM37rWIsceLIL6rQF/k9PKuD32Mo576HapSF1YGfP5N9z3kIJehE9uU41h08GpgES5L4e1V6eTQAtOfQNKE0mygYnzMD11GQPVNz7Na0aT2Zkz2nObNw7Z4awg6hBB1BbzL+pu3QNDzLiwKhUXbklKd1PBoA2nOYklDSaM5YG3+PgSSe/ma2bBbrzuGk+GjOdLO9xjMabfHf2NIYzyCUoBNYn9R+J80qHhE0QGx+BPMkAGjPobkCA6HU2bSzUOoJ7reHnxPamWN1HOsBHhE0wI11ytMiHhEA7TkAAECrM1THqea9ZwEgjz11ytNWHhEA7TkAAECrs6uAYw3ftAyQh+Y/nKlTlo7zmABozwEAAFqZeQWC2vClZAC1WF2wPJGDDkB7DgAA0LKMFHSqZsM8MqjD/oJlaSePCoD2HAAAoFU51KBj3cMjgxpoVZtzBcuSlimewyMDoD0HAABoNQYadKoyvSF7Po8Ocri7wfK0gkcGQHsOAADQajw8CccqW8ujgxzo0QagPQcAAOhYzIGe5lFAAyxKJtejPY9HBzDt7TmLNwAAAEyReThWmCSbksn1aK/m0QEglAAAAFqdfhwrTFOgdo5HATBr9e8UjwIAAAChBK0ZqKU8CgDqHwAAAI4VgPIEQP0DAADAsQLULE+MUAJQ/wAAANqW+Qmr3gGBGgD1DwAAAKrox7HCNAVqCG8A6h8AAEDbsgihBNMUqJHKCUD9AwAAaFuGnVM9yOMAAjUA6h8AAAAglIBADYD6BwAAABMYcU51D48DCNQAqH8AAABQLZR28ziAQA2A+gcAAABJstk51a08DiBQA6D+AQAAQLVQ2szjAAI1AOofAAAAJMku51TX8jiAQA2A+gcAAADn5yWZUx3hcQCBGgD1DwAAAJJkv3OqK3kcQKAGQP0DAACA8+9OMqc6zOMAAjUA6h8AAAAglIBADYD6BwAAABM47pzqIh4HEKgBUP8AAAAgScacU+3ncQCBGgD1DwAAABBKQKAGQP0DAACACZxyTrWHxwEEagDUPwAAAMCpAmUKgPoHAAAAOFWgTAFQ/wAAAACnCpQpAOofAAAA4FSBMgVA/eNRAAAA4FSBMgUA1D8AAACcKlCmAID6BwAAgFMFyhQAUP8AAGBWWZdUv1sI6zw7WbLbKVNYG5cpAIQSAADMOGcJ+romsKVMYe1apoCOCozOCgCAWe2NwzrbKFNYu5YpoKMCo7MCAGD2hNJ//2//J9ZhNttCid+AMgV0fmF0VgAAIJQwglrKFGUKaNMx6iAAAE4Vw6FSpihTQJuOUQcBAHCqGA6VMkWZIkijTceogwAAOFUMh0qZwgjSaNMx6iAAAE4Vw6FSpjCCNNp0jDoIAAA4VRwqZQojSKNNx6iDAACAU8WhUqYwgjTadIw6CAAAOFUcKkIJI0ijTceogwAA0AVO9cCe76Y3vfmG9OKLLirf+8tfdkn6nptvSX994H+t2m/BZX1l0/44VMpULfvG33w5XfqnS9ILL7ywfO8qN3eNfCQde/HfqsqdlSmCNII02nSMOggAgFNtKXvib7+azrngguhbyiWcfvbcP0xwKPu++RQOlTKVa2vv/Iu8t96nV77mDytiSeWo24NQgjTa9Omwl378z+md770tfcX8S8v3rjZeHRfPfeNbVfupQ0wdFQ9t/Cx1kDoIAIBT9fbL/f9U6fF/+w1/lv7HTw+Xt+9/8pn0lT2/X97+5qE3IZQQSoXtqa/uqtzvhr/6RFkU/df//M90x5aHK4L8/ns+jVAiSKNNnyb7+fd+VGm/Y6a6aPu+acnSSl2lDlIHAQBwqs4+/dG7K2lRCmbD1CmJp8+t2zDBoXzrkcfSNXd8oDw6cPXrBsv7+mN//J196Tv/7Oby5zr3DW96c9U+EmLvW7mq7LDloF+z8PLy3zjU9i9T6rXWver3Dz/7xIc/Vu7B1ihmKJQk2vWZyoLKncqQP1ZlTumh+nxg0R+Vz+/3UVlSGdI59a/KXjv0khOk0aY309SOq+wn2eitRJONMFndVGq1jeoilKiDAAA41RyTyNG9SvQ04lCUkqeUDkvrkEn82CiVzXVSr6bv2Xz20d3lfXZu/Zvy35e9qrfymYJkHGr7lykbNfraF/627r5eKKmcqDz4eXLH//l/VkSS7Sfhrc+sHNooqMRRWKYQStBt9U+pdb7zwX+mOacSRhJFv/mnF6uEkjrNtqy/v9wJIdM+vvNM+4/8+fvLn6kODl71J+WRYdtH9VB1UPMQVV+1n4SZXYc6CAAAbedU5fAa6U30okYOUiaHqW0aLbDgVyMCcqp2nEaU/HVMKMk0YqVeTz8XCofavmUqaSA90wslEzUKrCwdVGl82rb9c1vLKaCWMnTiX//3ikg38W1CSUJNx2mhCII06Lb6p3ZY9yqhUmR/E0rqdJBpxNa+r6XIqp3X+bRN9U7/tw4Ra/clwqyDwzo71GkRZipQBwEAcKodL5QsgPUBapg6p9EA7SdHar38oVCSQ20HR4pQmn6hZKNHvlyqnIQ94krb0wioiSnbx8qhn1NHmYJuq39WDySAGhFKEkhWB20xFmUcWNrerStWlju8LGVPHVz+OiaUZNpXf1uWQRfVwYPOBks2Gmwz21SyuZHjl2efH4h8frCGjQbneL5kp0p2omT7SrbYfW73tDw4/9PZ9t6C33V1yQ6X7HR2nf3ZdzZ2uOcwWOPedwT7x2ywwP2MFHg+/ve40R27MrJv3vkeLtm8yHOrdd955+mJ/Pbe9mf3kUSea6879/PB72bPeyTymx0q2cnMDmXbGuHukh0p2ZmSjWXff1HO/Q0W+E1qPb/eoFyM4I5wqrM2n0SOLbbQg3rwLbUpLwgOhZL2txGkJEuVyhNK7bYsNEKpvpmA2Xb/lgmfKXCSeNaIUK3FHEKhpNFGG7lMsrkXdh2l+dQS7JQpQCjVF0pKmbNtee2zRJJS+ySSrD7GhFK7vT6iiXUwzQLQ3SUbyP7VtmNZoHc0Exbatity/H53H7cHn41ldiL7/Kzbtj3bZ4377FAW0KZZUDuQ7WP3NBI5v7b3F/ieq9x3tUDXruMDeG0bLtmQu1ezc9nnzwf7n4jsO1TgnjZnx5+KHL89+O6yRwOxY9t3B+ez3+5Idu40E5/hcxurcd9p9n1t+xl37h4nzNKsfIy586bu/v1z6g/apz1un+Fs22a37eGgbLzofoP1DYgk+933ZELZfrN5kfur9bvvKvD8+jJBdSDyfQCnOjMm4ZIE80HM1GufZHNHGhFKSrmznn17D5PtEwol9WIS1HZWmTKRHAvUbE6cFmVoRChZ2o96uk242z5WFhFKQP0bX6BHnVOxhR4kcvzcpdhiDqFQ0nF+FFf+wupkTCiF79/rMqF00P0dEyXzs2D1dHBsXxZEnoicx9Of83lPFoB7UZRkQbYXBs0QSnaOZW7bnmzbuohQio2cncvudTBHADTK5pzvFbtvBfrH3faTTrzsrnG+eU4shc+tXrkYc39rtHBvtn1HIJS8GBhw1xusI5RSN0oWCqVBJ2j6I4LqRMFn/Hy2/6LItpUFfsc17vn3N/D8hhFKONVZMwWdNtdDPYSa76H5QspND3PQiwolc7x2nHohLe89FEpFez0RSu1TpjRqlLgUHK1M95P/sb/8/yRI3SwqlKws2uiRyqgFbeEcJYQSUP/i6a9KW7XPbDW8IkJJK5aa+LKVJsM2HKFUWCgtyUTC88Gxm7J917qRoIEGhNLqIND3wf1AnXtqVCjZ6MSRLPiNHZMnlAacKLm9xkjJdAqlp921BrL/HygglBZn935sikIpcdc9XkMo+We9qYZQOuVGqOZEhMWOGiNHjTxvE8OWstdb43cPzzuUlftzQZlAKOFU28Ox2ipioSk1z9Kkigoly123FxxKiNnkXlvZDqHU2WVKCzPkvcRYo0KxOUq1hJKNUqmcqsxIJFmZshQ/hBJQ/6pHiZQNoPRpiSL9a51iapcbGVGyzAObs2QvqkUoFRZKoZ1OqucNWcB4NhsZWpdMTLmqJ5Q2Fwwm8+4pbUCo6B6PBscdS6rnu8SE0rxsP23f+v+3d77Bdl3led8zVrBiroNwRK1iY+RE1AooIFwzyEV15BhQsAET5KCAGC5EBXuqxk4sXAGGirFDBBGJQgx2wA6iqCCC6orUNGpx4Q4IqlA3OI3DuB11qk7dqTqjD/qgD/qgD6fnOd7P1XvWXfucfe7d997z5/ebeUe6++y9z977vGu961nvWmtXNLBTOzWgUMrZluTe7yz/3Rme9Z4KoZTa+aJ7ztSpGtdddR/R56qE0nRyXTmhNBNEzP0ZYfFk5reYTmyqxjNem7nfp0I2qUoorSmzSNq+q0Kg93p+CCWC6vKbVgfTkA0FUGV/NDRKDdB0oQU1QmXujYzvr/GKZB7eoXPJlJ3SHBMvHRvfoxTf0USjdrx8Slmk977zXa0N1/1SZ06R3nvkjFB8MaZ9Km6Xn2ibJ4Mr8+mliTWkU0uPKyulfbQiXs4P8SmY1PKn+txD41KTeBp06J3mHBVhfqBiRHwFBEKpr1A6Xv7/YGi0Smh4wYZbym1HQsPyQpkpWLlIQile08GQ5ambYVhRNpAPJo3d7RVCaUXI2hwr/84JpQPlPdjuGVAoHU2O3xvuyfe+oXy+h8v9z4XfIBVK8Tk9UR4X5xadCs+96rqXQiitLgX4+cy5/NxvydVrA/7uK0tBfDiIn/g7p9e3srg4lyk3L6/O80MoEVQxGrX4FD6FUKJOb840EkCdXcrGuoNBnWFxcR6PAFAHQ+zEcEdWXOBBw/Z0LgkrzVeSGFNHiPbT//0eJVn6HQilOcPBjiai4nCPbMj2mkJpZ5EfereuFB+b+lzTIEPvpovulfaKkKV5okIoPRgyT7nsxVIOvdN3nCiF6NlSSGwp+g+9E48U3XOx5jv0bl1Rb+jdg0X/oXcziQ+cTs61PzmHxYfs6ZrPfao8/50V1/dIxfX5mZ/IiOO6zw+hRFDFaNTiU/gUQok6HZsAobSizFJYBK0uLi7ucDDJXuQEUZVQWlOe53xxcVifvstDsvY3KJQ87C4uMb696F4RLgolf5YuNDGoUNJnVzcklPaF33zPAELpSANCaUUQXPt7CKWrw/k31BBKRSlIWkV+MYczRfeQz3WlUKv7u58pM2rxHLvL4x/KXN/uINyqlp1HKBFUMQIqPoUhlKjTsQkWSnHJak+810pjq4qLc2QOJOdaETID62sIpZjV8RLQJ0NDdXWDQskLR1wov+d4cXHZ560ZoRSXD88tAx33zy0Pfk+PzEwqlHLLgx/OCKWt4Tff1EMo5X67s6Hh32t5623huuPy4GdDdm1VIpTi8uB+pvt6CMrUFzaE4/Zmns+FUkzF5cGfC9fRiz3Bv2aCKLtQ5FflO5W5J9vxAZ4fQomgitGoxafwKYQSdTo2ZkKp6oWzj4SG7kPlthsy59tdzH3R5pqi+0WtKX7h7KlSKD2aiJ+mXji7vWzsulGbnjO+cLbXy2Rnkv1zNh2yJVVCqdcLZw8k9657nCouvqx1RXHx5aj9Xjj7aCJce70wNYrGaMfKRv+q5HdL9zsSxEL6XOP7qg7U8BtxW5mpjL/ZrpoiKYrxE+EcHraYu75ez+bwAM8PoURQxWjU4lP4FEKJOh0bM6EEzaKG/lEew8SBUCKoYjRq8Sl8CqFEnY6NgVBKVwEbRXplf/Ys0zWtKEXSOqqkRWFNn999ehl9sYVQIqhiNGrxKXwKoUSdjo12GcwtST2KTPewzVQJY8lUn9994zL6osvUFn4mgmqX6R1Eeo9FlcWlW+drPtfffOeHixKAfA9aWrZqH313eh16maH+1otLadQ251O9/Knf71TH9L4VnSe+0LJJy/lKznQf6XX4OF0jPgUIJYwyCAAwwkFVjbqixxu005d0LiRALNYLAn0PeoFh1T65FxXmXoKIUCqavv451ut3qmNH/+xrXS+qbNrqvtQyfWFmvHddIz4Fy1H+1LnVq6OiiQ4GdzIttNOj3z3066hLO8nU6aW/dX0IJQAAgmpjIuPO936g0yhMrYmX+g2rUPreN5/oNGiH7Q3v4yKUvvQHn8v61KkTfzu2QknXJjv5w5/gU7As5U+dW706KpooN+5kWminR7976NdRl9b96vTS37o+hBIAAEG1MZHRL6vit6jrDeuPf+mrnUB07TUv77w9XQ1fNYr/4as3tl5x7S92RFdsDMdedvdE6u3raa+7GpfqQdQb3mXTv/GeOUOf1HC947bbO9+ta9C15ISShj69+aZf7Xz2tjf9Wme/tPGbvi3+R9/6D7P3+J2vH+06Xn/H60g///ET323sjfHjIpT6ZVUOfHLf7PP/9Ec/2dr4ql9ubbjulzq9wv/3J/+98zvob5k+zwkl/c7yJfmD/EK/Q/wO/a3t8kud/6P/7N45Qk3neMuvvmm2JzrnKzL5uHxO55Lf6zrThqd9QL6kv3Vvvsd4vHz77757Ys5Qvnh++1QTw19ppE2eUFJ9nOuoaGII9LAKJd2f6gd1giGUAAAIqo0JJTUUFWxSc2POvecvuvznWisuuaRznP7VNjXs0m1q6KUB4oWXXda6YtWLO6a/ta8apdpHjVeJI3/H31v9ks7/9a8DuwSIt+tc/r5LL720K1iq4evr8Lm8T9Fj6J0b4C+9cs3s/fg4XfNz//mnsyLJ59d2nd/X1UTmbFyE0t2/dVfWp9LGkH8fPXcfK59Ktz38+3/Y9Tvpc/0O2kf+kPqLhEbcLl9wb7OEWJWv+Jj4W+7/xIOz23wuH9dr6J17uGMZ8T43bXpDl2hMz+99m8gA0EibPKHUL6ui+tTCXmVFHT7yNXUASejnOoNSoaQODAl5+XfaoSFTOXMniM+jTre4j+p+1RWq/32OnFBSudbf6hTRkLuvff7ROULJHRPqZEk7L3T8e9/5rs7xEpHquIjXoVjnz3V+ncudaek1UwYBACZMKFWZG3wWSnGbeue9TUErbRimAUI9+wqcMgVgbfN4eQUk/a1g6R5/B0tlqOL3qSGZCrgYLH1uNUQtbtSDX1coxUb5Dx7/y9ltDpbKYPj8bnDnzs8cpbylDTqJAosbPVMLYTfMvE2NmPR3+uTuj842cuzLanRpmxplsbEVxbgbSTlf0ffE31K/scW9fVHnUuOvrlCSqJMvaZsagu4ocGPS5/e1V52fRhp1el2hpDo411HhbEscYqoyKIHgTgJ3PsRtKjupUNJn3s/niqMTVOfb/3U99vs/f+Tg7D4u39qu79C+/k6XXY02cKeJPovnKvoMvfN16XhZ7NTySAGd3/WHzu96wuWyicwZZRAAYISFknry3PMWzUOILEgUONI5GgqydSa4x5XAFChjY9HiQ4HV8zzUCI4B2o3adCiSMwUOZv7bQ+pSwdNPKClQx/M7GLvxmzu/nhNCqfv69ZvmfCpt0CmbGSdx+9h0m4+Nv5OFqkwiI4pvN7bkR/YpN9wkbOv6Svxt47AlZ5nqCKU4gT6eP/07DsdzlgmhRJ3e5Bwl13dRKHmbOoO8zfVs3Gb/dN2putnz8dzZpXKpbarv/XcaRxRv0nO7zGhfZ/Jd5h0LYsZYnR1pJ1kvoeSOFnVCOO6p8y1ee+yEy52fMggAMKFCqd8cpZwAqrstJyBiViAG3pxZiFWtUpcOvygyc2TqrHpXtUiAz+/z1T0/c5S+NvA8BDd0em2LQyR7+WivxqKHvdX5LVNfTcV+HaEkgZY7f64s2DxXCqFEnT4foaRGf66jwp0C0Q+d7YzbcpmntO6MQ9yUkY3+H0cJuKMizv/T0D8LIGVP4z2k2WB1phTJkG5ZmvHpJZRiR5075lz3+/zOGNucfUIoAQAglBZdKHk+kkxD9WL2xoFLgTA3ATkGM2cDPGwpzSjlhksMklHqJ5R8/jgeP/aMIpSWRijJ4sIMzihZBDmjpGGUqT+519i/pYda5nwlNhTdMx6H0NURSvF+UqGUa5zGXm6EEnX6YsxRygmgutuqFnNwJkidCPb9KtOwt6pV6tK6oW4nWS+hFOtln9/nqzq/h/ghlAAAJlwoKXC41y+ae+GaEEqaQKshGWrcOjB5iFXsffRQDg2V0HkcvNwwlTByD2icJ+Vg5uFV6qXUudTTaZHVhFDyHBb1NqpBIJHkgIpQunj9WhUu51MWG00IJQlriWUNx/EchrSXOM6Nkw/Kx/zeFa1yV8dXfG799jqPesP9my9UKMUGmYboSSyp198dAGMulPYmNl3jmOnMcav6HLMxc8zGcazTl1IoeU6dh7TF7I3rdJWtXOeXyppXjoxzWuMwa5ebNMM0n4xSL6HkmKHviRkyd7YglAAAJlwoFX3eudGEUPJKZu51VBDyZFoFWTcWtT1O3PU+ClyeZFuEFfjS4RFxtTN9rv9rHwfVhQolZSPihGA3BhBK9RZzcGOniaF3+m3jCnTaZqEtwWE/iKst6rfzEu4Sbd7Hk8hzviJhlfpdk0JJ2VbfQywvEyCU0mubqXHMTOa4tTXEVXrM9DjW6f0Wc5Cpvm1CKKmcuNPKcwlVPlRXxzlKzpTqu3WMhFCavY2rWrosuNx4vl7sJLMQa0Io6bsdL9Qhp++IHSYIJQCACRVKCm65cey2OKE3fadL3W3x/UIaNqde89y7idTAvfdDuzpBTj3/6uVzUIz7aBy5z+Gey3QJVzWAdbzOoyyAgqTv1Y3kqvcopYtF+Lg47ErnUJDVdk3qlzgrMhPyJ1Eo9fInmRo98T1K/jsu79trW3zflRpg8gNNDtfvnL4jRvtqu4SsTBmo3D7KLOkc8pmcr1jMqIGn/dSTrv2qfD19j1K8n7gsc7wO+bp8W9eroam5TgeEEkJpoYs5FJkhpfMVSrFzy/uoPkxXvUuXxo/7xFUm46p7UShJeKncxf1iZ8VChZKyxB7+bdNKfqx6BwAw4UIJG9zUmFXj3CsmxTlKCuAjGlDxqWU0CTA1KuO7XTysNK4AiFBCKPUzd0D0Mon1KNjdIVB3mzuZJO71fwkT+amHtMY5pBJF8m/to3/9Kon0XUuaW6hzKLuT62BQFkydEjqPO8l8r+4k6/UepdjpEV92Ha/D2yWgtL/FXfrOJYQSAABCCaswj6svyiF3Cu6eT+IlaBFK2CDmORjqJdeQHzUa03fEIJQQStjimASS6nGNeLCgkjBzvZ6OfkAoAQAglLAKU8+jeizjfCkNFVFvZ1yFDaGE1TX5jUR2nPumYUVxZcUxbaRNJ7a1xjFbM8dN9TlmXeaYddTpmOczumNCQ+6UtfLwv3ShCYQSAABCCVtGQyhhY+JTQPkbGdOQQM19jQvAKNO70MV5KIMAAARVDKGE4VNA+cMogwAABFUMoYThU0D5wyiDAAAEVQyhhOFTQPnDKIMAAARVDKGE4VNA+cMogwAAIxpUsbE3fAobVZ8ChBKGUAIAWHIu0NibCDuLT2Ej7FNARwVGZwUAwJKzn4bt2Nv5tt2DT2Ej7FNARwVGZwUAACwyu8oAcxuPAvApoPMLo7MCAADgeY6XQeYQjwLwKQA6KgAAAKAo1hXdvXFTPBLApwBGGjoqAAAAGuD+onvowg4eCeBTACMLHRUAAAANcTJp1D7JIwF8CmBkoaMCAACgAW4o5k6G1YTnNTwawKcARhI6KgAAABrgQJFfOYhVgwCfAhg96KgAAABogBVtO13RqH2KxwP4FMDIQUcFAABAA9xS9H4fxToeEeBTACMDHRUAAAANcahPo/ZBHhHgUwAjAx0VAAAADbCybef6BNWTPCbApwBGBjoqAAAAGmBHn4Bq28yjAnwKYOihowIAAKAhnqjZqH2IRwX4FMDQQ0cFAABAA6wunl8utk5QPVM8P0EYAJ8CGF7oqAAAAGiAXTUDqu02HhngUwBDCx0VAAAADXF8wEbtIR4Z4FMAQwsdFQAAAA2wbsCAKjvftikeHeBTAEMJHRUAAAANcP88GrWyHTw6wKcA6KgAAACYNGIQBcCnAEYDOioAAABo1AI+BQCUPwAAAIIq4FMAQPkDAAAgqAI+BQCUPwAAAIIq4FMAQPkDAAAgqAI+BQCUPwAAAIIq4FP4FADlDwAAgKAKgE8BUP4AAAAIqgD4FADlDwAAgKAKgE8BUP4AAAAIqgD4FADlDwAAgKAKgE8BUP4AAACAoAr4FADlDwAAAAiqgE8BUP4AAACAoAr4FADlDwAAAAiqgE8BUP54FAAAAARVwKcAgPIHAABAUAV8CgAofwAAAARVwKcAgPIHAABAUAV8CgAofwAAAARVwKcAgPIHAABAUAV8CgAofwAAAARVwKcAgPIHAABAUAV8CuI2qvMAADAvSURBVAAofwAAAARVAHwKgPIHAABAUAXApwAofwAAAARVAHwKgPIHAABAUAXApwAofwAAAARVAHwKgPIHAABAUCWoAj4FQPkDAAAAgirgUwCUPwAAACCoAj4FQPkDAAAAgirgUwCUPwAAACCoAj4FAJQ/AAAAgirgUwBA+QMAACCoAj4FAJQ/AAAAgirgUwBA+QMAACCoAj4FAJQ/AAAYVla0bUvbDrRtpm0n23Y2CT7YaJl+v1NtO9G2R9u2o22r8CdsRH0KAKEEAABLLpB2tu00jcCJsPNlA3cN/oSNiE8BIJQAAGDJWdu2Z2joTaSdK57PBuBP2DD7FCys02JLQVaXrC4AAAzM5radiRXw6lVXtN73lm2th+/7VOvYga+2/uqxv2j99OvfxUbU9Pt953Nfa33pI59u7do23Vr/8nW5oHsP/oQNqU/B/AUSWV2yugAAME/WxZ7Fy1b+bOu+HXe1fvIvj9EYHHOTaLnqJWvSIDuNP2EN+9RWqtllYW1BVpesLgAAzJuVbXs29vp/8/cepsE3YVmB66/bEIPrhbZtwp+wBn3qLL3bSw5ZXbK6ZHUBABbI7tjz//i+LxJ8JtCe+vK30wD7bCl68Cds3g24JLN0gOp2ySCrS1aXrC4AwAKZisH0gQ99mCAzwfa9z3+jdfllUzGw7sWfsIU22JKs0hTVLqMEMLK6AACjwHZXotdceVXrbw99hwAz4SZxEwLr6QGzSvgTNseSTOU2ql1GCWBkdQEARoFDrkDvftdvEViwjiWBdTv+hC3ENG8i+NMjVLuMEsDI6gIAjAKnXIHS64jZ7n33B2NgPYQ/YQsxTTIP/jRDtcsoAYysLgDAKHDelSeTfDHb1x94KAbVE/gTthDTilzBn05R7TJKACOrCwAwCsxWngQTLI5rL7qHauBP2HL4EzBKACOrCwCAUMKGy4ruZWXxJ2w5/AkYJYCR1QUAQChhCCUMfwLqdIysLgAAQRVDKGH4E1CnY5RBAACCKoZQwvAnGmnU6RhlEABgwoJq8u6dSluMiv8dN21dkkDzule+pvN9+rffvr9/157Z6/vKx/+os03/ptsQSnnTRHQ9536mpcybnPDs8y7FRPjvP3xk9vv03f32f99btnX21b/ptltvvJlGGiCUMMogAABCCaE07kIpPqte1uRvn/vNlmqCtb57Pv7nbSp/NNIAoYRRBgEAhlgorV51RaeRWWWTLJSUQdB2mf6PUKonlG654Q2d94Dk7KHdD0y0UFJGTf7/gbe+i0YaNFoG5Vt1srpNZl+XOkOqcuf7GCQDHMtrbhtlEACAoJoVSnV7tg/t/VwnsGjIkd4e/9nf/kQnSCo4qwHplXo+/v67W+958zs6/+rvKqH0wy/+m9Z9O+6q3Dd+rxrY3q9KsOgafL4HPvThzlK7VUIpXr9e8njswFdrC6Wnvvztrm2yfveh7/vMro91fV88t845TkKpbgNEv5nMyyJ/8/ce7pzne5//xuw++kw+oO3pc0p/M31ugd/rmeo7vV+V3/m3jufrJ5R8/fp9q4SSfnedJ96jriFuq3sf6fepTOk8TYh6GmmjV6erXq2T1W2yU2GpM6TxRayDdGzouNS34zaEEgAAQXVBQslB+FW/cF3r+us2dFXil6382Y7wUHYqbr/2pdd0NUS9ff3L17VefPmLuvbVsd/6zGNd4uJtm984J8jru/74d/Z2XZv+1vb0u1/xsmvnNFTVmNT3x30vueSS1q+8dlOtoXcx+Er0pN+r+4iN4Krvk7Dy3xaakyaUvL+ErfwqPh+JT4ny6FN61jEjFYWSROjll03N/n3pz7ygtXfn784RPur5jvet/dRgkr/FfXWsPvN+OvdH3rcre4/f/uzBjr/F895x862z5aTf0Ds3/rRN503vQyI7Xlvu+7a/8W2z5aVObzuNtPEWSioPVVndJuqbURZKek6yJrPbCCUAgDEVSmqU6v85U8MwF4T1mbInGj4Ur0mNXTUwNfTK27RfruL3vjqHrkHbrrnyqtkGqzJVsdGpxrSDshqP7kVX77nFiv6VeNF3xjlYseEY7+PNr7+p0zDVv7ke135CqSiHmekcN264fnbbXb/+3tnviw1zf198PuMolHoNvcsJZ/1uV17xkk5DPwpobZfY1XOzj+hz+0gUSjLtq+cdhUZcdCGKYf0//maxIfXwfZ/qEkg6p0V3KpSU8Yq+pnPq3L7eQYSShZnPEcWSM0u9vs/lAKGEUKpTpzhL6n2dvZXFl9+qs0flWxnMfkJJnURV+6aLv3i/tJMil/31cMFeQinNPlcJJd9zrIt03XFbnfvQd/h5uXz63Ms4SgAAgKBaLNFiDmkvnLfH4BEFVxyeFnu604pfWYIYSP7J2989R5Co4ay/N7/mdV2ByQ1pixGJIh8bM03qdU8bqjreDdh43hjwBxFKaqTGIO1ze7y+gq63qTFb9X3jJpR6WbzXKLztD8pMevtr1r1ythGlHvL0HFEoSUx5X/32Fh3K6mjb1x94KCve7XtRjDgTJJGkcznDGYWVhZKyPbnyErfXFUrpOeTj3q7GmLapw8DbYkdGfG4IJYRSnTollh9lV2IHg+pf1fPywSj6lR2PQzujP6ssxX2V9XT5iQIpzbCrgyxdRVJlMR1RoPpA8ST3vFT3x+tPM8D9ht45jul+43f4PtwxF8tb+n16hoNm1SmDAABDLpQkPDxXJrU46TcG4VyDX8Gk38IN3qYAGPeNjVgFN/XmpRkbm4ccWego2+R9Yy+oLB16F78nHZYVg2pdoZSOcfcz9fepcVv1fVHgjZtQ0m9UNZE8NrK8v4Yh5s6j4Xe5Rl1OKP3Zx/Z3XY+zdhJAqRhRA9A9vzouPUcqeHOZJjeEYqMq7UW2qB9EKMXnExte9r9e/u5higglhFLV0LvYgI/lRz4vIZJmMt0hFIfGxs6v2OHjejl2KEhwxSyNy4QztbGjLcabWK60T5opjs9L9azLrK5ZnSZpBriuUFJWVudQ/RHPoXPmvk/XpM9U50WRiFACABgToTToHKV0/6oFE3oJpXTVu1R8RIFRZRZmVQIud2295tHUXR48XmvMTOSEUt3vm/Q5SrHBUnWefkIpfYZRUCgbVGeiuxfoqBLCasil1+bzqoGV3t+gc5TS3yHnf2qIugG6kFUeaaSNt1CqsugbsfzEOjkODdZQZmdUXb8pI5QTSrG8xqHTriedFZYQcaZJnQsWJBYjKoMWHTq/M8XK6kSxlF6vjonzXOOQ6rpCKQq2eM+xvFpMxvvQvvH7EEoAAAileQslBbZ0ZbuYeYliRD2LuWXLlR3SsXFRhLRHX0M64rXFhm4ctiRT9mJQoZQGw1QoKXPhfdMXrcbGMUJp4ULJ/lCVAY091FXzp+QfavDkes5TP02FUu4Z5hYTWahQisOR0rkdqb/TSJtcoaTsUC6jG19+XJWRjUM+45CznO96mwRMOl/I53Bm1uVB2SlndGWuw32OmElNF1yI/p9mbtPh1LH81BVKem79vs9zAdPh1HHEAkIJAAChNG+hpJ64KA6i2PH8p1zwU/BVr50WgHDDMQb7OLwtBi1fm453kFOwdkNT/8Zx800JJX2fe0D1mYdV6Rxx0QKE0sKFUlxAQ7+nh2g68yjfKDJz7NQDrfNom4ey+XfUsVGMxAakry32nMfGpoYZxV7xpoRS/L44Jy/ui1BCKA06RynOJaryx15CKRdH0vowXSE0Zxqm1+v9aLlrK2qOVKgjlFKxlesIqfN9CCUAgDERSr1WvZO5p75JoaTv1NAhTf6NPXaxN09DPopktTgPO5JpvojFiBd+0HmVBZCQikM04rXFlfo0NErBUt9bzGPVu35CKW3Y6pr0nRKKcenpcRNKukcvwZtafNFqk0LJS4rr+Ni48bnj6ogSyRJGyiB57oU+0+peaWNM/ikBpAxkbg6CrsXb5YcSL/LNOKejSaGUrvKoTgZlCWIjFKGEUBpUKMX95yOUND8uPb87g5x58Rw6dUD0WhWz19zDWH97m+vSdE5hXNCnrlBKxU9OKLm8x3lLVUNzKYMAACMulIqaLydsUihJIFncFGHloxisq96jpCCVzh3RkKj0vUxqqHrserw2CasouNzgjKuqNSmUdB/pKkoSZlFATdKqd9F/mhRK6RLvFmxxOKZETBQ70adidkbHpO8KS78jXltcmMMmf1yMOUpV96EJ9C5TCCWE0lILJVlcjCGKFNX3cV/V9ekiKTJfQxyyHDPFcfhevDZ3Ssj/YwZ4Pqve1RFK/j51fMUlxuPICIQSAMCIB1U1tqpWu4vm4WISI/o7fdmrlnXV9nR5Vx/vZY3jNo17V4DRUsdeiSldwSv20ilToP30b7rcrE3nU4NV++kaFTB9zem1OTj7nLpHWXrPuW1qRMf7yD3T3PdpX233sK+4zPM4CCX9LlVZpKqMUu7Fj/E80Xf0f2935idu0++thpEEgxpkykjm3mUif5Jw9ZwNHRsbeFFQ6xw6n0y+5UUh0mtzOZCQ0jl1fv2m+o21b5yfpv+nz0H37/NWPdPU7+VPuj41zrRUcZx4Hpetp5E2mUJJvlhVBl3emhZKyhTp3CoL8YXILl/x++S38mHVw84Ixbmrnm+nDgGVvTRTHK8tCiKdQ1kolb2YZW1SKMW629mxtKMGoQQAMOJBFVsaU6+jgrAaFLH30YE1t1raKAolbGnMgkxCKwpyCSVnVdNFKGikTZ5QKmq8H69JoaTsqYfWRXM2KbcyXDQdG69BQ75zc5qiMIvnzWWA47YmhVK6ol4RlmRHKAEAIJSwASwOH9TQEAX6OHykiUYtQmlyTItPFGHOmxqiavDFRmG6UhiNtMmo053B7Gf2j1yWtleGM5cN9TZ9t4SO6jMNTdPwZmU602uUqNHLmJX50QI6qg81vC5+f8yoqv7UUGUJE2WV4jXnMsAqB9pf/9e2XNY6t0335Puoeqa5UQmeIyhhx2IOAAAIJWxA0/AvBfl0TomGm+hdP7nhYQglrJepEZiba+Ve7WX0J6BOH3tT54TqbnVQaHVLb48vr84Nv6YMAgAQVLEegklj9dUrqnlKTQkkhNJkmnqv1Wvt1cK0/Hk6Z45GGnU61rzF1wQoe6Y5Utrm4XvK9DZRv1MGAQAIqhhCCRsffwLq9Ino9IpzpYpkBdV0wSPKIAAAQRVDKGH4E1CnT4xpdIBXZJVp7lVurhVlEACAoIohlDD8CajTMcogAABBFUMoYfgTUKdjlEEAAILqPE3LtWqS66033kzwQyg1+mLb9KWvGI006nSMMggAQFAdmcreKwFp8ivBD6HUxLyAosF3lWA00qjTMcogAABBFaFEUEUoYTTSqNMbe7EtZYUyCABAUF1CofRXj/1FJxDrpX56y7terqkX+flzvStGDWSZ3iUTj9WKQ/7sW595rOut7dqml3HqvHoju94QH4/VMC7toxcF6jxaxUjvxojnQSiNplDSb613V+lYmYbvxc/10kj5Unx5ZPQpfSaLPhPPqX9Tf/K7jmRaTlh+nftuGmnU6aNWBiWQyIJRBgEACKpLLJTUiFy96ors+ynce6nGrLdJ+MTj9dJNf6bGq8/pa4i2/uXrWt9/+Mic4P+ada/sfOb9JNQQSqMrlCR8cz6lF0X69/dvf8kll8xZ3vfGDdd3PrvyipfMbvv6Aw+1rrnyqq7z6e90zpQ/k+iO15AKfBpp1OkIJYwyCACAUOppbpSqUam3nUv4qEHre3aP/+bXvG628Rp78n38tS+9ZrbXX//Xthdf/qLOOy/uffcHO29O17ZbbnhDNvirwaxFKHQdo9CoRSjlTUJIL4C0T71t8xu7XhSpv9NzKpsZs0nyBW1XdtHCOz2nfVzbY8bI57z0Z17QJdBppMGkCSVlVNWR4Kyu/o7ZWWdf4/Y04xs7tvziV58zlw3W5z6vRyNoX22nDAIAEFRHTiip919iJg610zbfs4Kctn32tz8xu837xkatxJC2PXzfp2b303A7nzMe7yAag7+uwQGcOUqjK5Q0bFLDN5UljA0piyWJcG9zhkhiO87F8HepkRX9RGLbDTc1vHx8nLcRhbeuW0NAfR4aaTApQkmdDLGzwGXiPW9+x+zQaHdexfKX1utxBIE60tJzvvn1N3VlhFU/xLrC56GzAgCAoDrSizk8vu+LrY+//+5OQFbWKBVKMbDecfOtcxq1bhQrQEfx4/lL+r+3SzSlwX9UGrMIpfqLObj3WSLaPql//bmGWKb+4wylhJb3sz/qM/dWy+SHRTJEz+dTdpJhPwOxNrE1NY5ZkzluRZ9jpjLHTFGnNyeUPrPrY13DXfWaiDgUWh1h2k+iqcgMf431uuKCtik2eNsrXnZtRyBZNMWyFoWSs8DF+A+nBgBAKI2rUFJ2KM79UPDz0LkolGTKFBTlkDplftyojT2SMaBXmXomx2HcPUIpb8okqvHk3uRoUSjFuW/yidiTrYZZxXPOWrrvKK4OtsyNtPT7Z2ocM5M5bm2fY6Yzx0xTpzcrlDTEOb5HT5nYVLRoTmmRGf7qel2CyFl+1fmu6531j/WCxVcUSjpe36tyng7howwCACCUhl4oqcffWSI1bNX7r8xRDIBRKMXAqqyQG7Wx8RwzShqG5/Hx0XJD7xBK4yGU4rBNzWtTA8wvrE2FUpz7Jv9zT7bEeuzhjsN3tEhDzhBKCCWE0nezK0iqHv7AW9/VtdCJP5eYibEidlZ4OLQWUvGxyg7HrK4XTPEQvSiUYmcHZRAAAKE0ckIpNoDjfKK4kl0USjGwuodRwyviRN04R8lD7NyAVg+nAm268hlCaXyEkofDqQEV55tpKF1OKMW5a175MC74IfPiInF+k4+V38ZhmwglhNKkCyWVO2WN4siAaFEoKZNbhOGv7qyQWPJw2FhGq8zZqyiUnGWiDAIAIJSGUiipZ17/z5kCpBqYRRjL7oUd4tjyNNjFuUZFWMUsBmkHaJ1HAVvf5Z5HzSdR1gqhNJpCSZkfv/gyNfVGe3imGloa1qnfOgrvVCjFuW850Z425vROLvntH//O3tme79xiDgglhNKkCqVYBtVxobISh95FoRQzSCpnHnanTG8cShvr+1xG1x0oUSilnWyUQQAAhNJQCaVe5mAZh2TEYGixlE7CjYG1CCvgpe9myl2DRJKGcYzLu0EmUSj1Mg3F0fDN3NykKJ4tlG2eVF6E+W+p+P6V127KfqfOG+c/IJTmzUxiB2occyBzXL9FILZmjtlKnd6cUPIiC17hzvV2TijJlMF1RtdlV/Oc4kucizD0LnZyqBNEdbqXGEcoAQAglIbe1IPo1eaqzKsZeUEHBU+JIgsZZZK0n4bSped3ozeuNpaagqh6It3jqMCbNpDVqPb1IJSG1zzHqJ95XpF+V62KpaGf+le+FM+hJcSrhFhs3KViyZPUdV71fMtf03fA+Dvi5HQaaTBOQqmq/FnEuJNLw6RVJmUqh1VCKQ6XrurM8PL+yv5qf4knZ65iFhihBABAUJ1oi8MwlI3iLe7jL5QW2zQR3M8kZhzxJ6BOr7+aqOek5kYJSPw4yy/RlHZCeGh0VTZWHR1xnyIzPwmhBABAUJ1Y03A8zWPy0AwN7xjFdx8hlIbD1COtBp0aWUVYzAF/opFGnT7XlCHtl9F1RknCRyvOKeuqOluZH9XVyshqv1zWNmaHcsOpvcS4VjWVIFNZ1XDYOETP2WRfj8QVZRAAgKA6MULJz0HDLzS8b9IzIQil+Vt8h5J9SsvP40800qjTl9YkrPwuvV7DqSmDAABAUO3xPg4NpVBjNh2/PommJdGDb5zDnwY3rbKl+RKaED4qL6QcQn8C6vR5meYaqfx56f4is3gPQgkAAPpxwRVnuhoXNrmmBQlCQH0Gf8IWYnGp/radpNpFKC1FR0V8FhqmF9+Jh1ACAIA6nHLFma7WhU2uaehhCKjH8Cdsob37xWDvMAKE0oLFuVclVX026R03ZHUBAObHUVee6oGjUYfJ4nK7bXsQf8KaWvmvqPcOI2CUAEZWFwBg2Zl9k/ykr8qFXQyofqljaevwJ2y+pjl/ydLLW6h2GSWAkdUFABgFVrftvCtQVnvDtOzuAgIq/oR12X077or+dLptK6h2GSWAkdUFABgVHnQFqp5fvQOGwEIwLZ4fwrMRf8Lma1pFUi8DDT61k+qWUQIYWV0AgFFiVdnT26lEr33pNTRuJzCQ3nHzremqSA/iT9h87fF9X0wbZ8+QTWKUAEZWFwBgFLkhBlc1cAiwk2F6f5R6nhORdAR/wub7gs8HPvThNJN0pm1rqWYZJYCR1QUAGFW2xcZtUQ7d0Dh3TQpmBaXxyR7p99Tvev11G1KBJDvUUI8j/jRBPqUMkl7oec2VV6X+dLZtm6leGSWAkdUFABiHzNLpTOMZG387twi9jfjTZNuzxWCrJkKzZY+sLlldsroAAIvQG/lgmg3Axtb0O2sVpDX4E9aQKYu0u20rqU6XFbK6ZHXJ6gIALBKaFKwVlLTcrN7NcYEG4NgII/2eh8vfdzX+hDXkUxq2ub1tU1SfQwNZXbK6ZHUBAGDBqHH3DI8B8CkYM8jqktUFAABYEH7/yBYeBeBTMIaQ1SWrCwAAMC+OFxdXfQPApwBGGzK6AAAADbC+6O6ZW8UjAXwKYKQhowsAANAA+4ruYQx38kgAnwIYacjoAgAALBC9gC9dFeopHgvgUwAjCxldAACABrityE+O3cCjAXwKYCQhowsAANAARysatQd4NIBPAYwcZHQBAAAaYE1RvUTumYJ3UAA+BTBqkNEFAABogN1F73dTbOMRAT4FMFKQ0QUAAGiAZ/s0ao/xiACfAhgZyOgCAAA0wKai/9vOFXCv5lEBPgUwEpDRBQAAaIBHazRqZffzqACfAhgJyOgCAAAskKm2navZqD3F4wJ8CmDoIaMLAADQANM1G7S2LTwywKcAhhoyugAAAA1wfMBG7SEeGeBTAEMLGV0AAIAGWD9gg1Z2vm2reHSATwEMJWR0AQAAGmDfPBq1sjt5dIBPAQwlZHQBAAAWkRhEAfApgNGAjC4AAACNWsCnACCBjC4AAACNWsCnAIDyBwAAQFAFfAoAKH8AAAAEVcCnAIDyBwAAQFAFfAoAKH8AAAAEVcCnAIDyBwAAQFAFfAqfAqD8AQAAEFQB8CkAyh8AAABBFQCfAqD8AQAAEFQB8CkAyh8AAABBFQCfAqD8AQAAEFQB8CkAyh8AAAAQVAGfAqD8AQAAAEEV8CkAyh8AAAAQVAGfAqD8AQAAAEEV8CkAyh+PAgAAgKAK+BQAUP4AAAAIqoBPAQDlDwAAgKAK+BQAUP4AAAAIqoBPAQDlDwAAgKAK+BQAUP4AAAAIqoBPAQDlDwAAgKAK+BQAUP4AAAAIqoBPAQDlDwAAgKAKgE8BUP4AAAAIqgD4FADlDwAAgKAKgE8BUP4AAAAIqgD4FADlDwAAgKAKgE8BUP4AAAAIqgRVwKcAKH8AAABAUAV8CoDyBwAAAARVwKcAKH8AAABAUAV8CoDyBwAAAARVwKcAgPIHAABAUAV8CgAofwAAAARVwKcAgPIHAABAUB0f7mnbmeRZY+Nlp9u2HVen/GGUQQAAgipGQK3PeZ75xPgVDB+UP8ogAAAQVLEhDag878kxGD7wS8ogAAAQVLEhDaiz3/n0/z6HjZnRSBudOh1/pQwCAABBFRuugIpP4VNAnY5RBgEACKoYARWfwqeAOh2jDAIAEFQxAio+hU/RSKNOxyiDAAAEVYyAik9hNNKo0zHKIAAAQRUjoOJTGI006nSMMggAQFAlqBJQ8SmMRhp1OkYZBAAAgioBFZ/CaKRRp2OUQQAAIKgSUPEpjEYadTpGGQQAAIIqhlDCaKRRp2OUQQAAIKhiCCWMRhp1OuWPMggAAARVDKGE0UgDyh9lEAAACKoYQgmjkQaUP8ogZRAAgKCKIZQwfAoofxhlEACAoIohlDB8Cih/2ISVwZVtW7EE3zNFFQEABFUMoYTRSKNOxyiDvTgVbFPb9ifbbI+2bXXm+O3l589mBMipHrY/7LezbSfD/TzdtlvC576mbcn5j5fbr655r3vadib5nq3h88PhOWzqce2Hk/1ztinz/cfD59uopgAIqhhCid8AnwLqdGx4y2CrbLjvbdvath0stx0v/3+sFEHadiRz/Ey4jjszn8lOlJ+fDdv2lPvcX34mAXOobU+Uf18IYsPXNJ0RYq3yuvuxs9xXgmxfec4Lpa1L7mVL2zaGa7WdLz9/Itn/RGbfjZlruKdtRyvuBQAIqhhCCcOngPKHDZlQmgl/50SJhsSdK4VOZH25r4XUUxXfsTbzPUWZCbpQiqQ1Yfvucvu+BoWSz7E5bNtXnmNnRiilTAdBtzbZf+0Az3saoQRAUO3Yj579f61/959+2rFRC0K69i8//p3Wo3/+l9nr//HJMyNzb+MklA489o3WXb/7sdYDf/SnQ/Fsf/B3/6fWft849qPW++68p/X6zTd3TP8/OvPXc/YZpntDKFGn50w+KhuGum/mb/5Xrf1UX9+/73OtN976jtYNN/7j1ta339H61Ocea/2X/3l2aO9tCITS7lIAyLYlmZQoNLR9R5mB0v9vGEAoOcvzSLJd85Sm+lyT7LkBhIozV8+V2bMtxdz5UFVCaVPIPm3J7L85ua6rEUoABNW+pgbfsPRq/tsf/NfWvR//VC2B9Ovvnm694NKVXYHola++vtOQ9X4SUKPSYztOQuntv7Gjc041dpbbn/7Rljd1GlX99v3g3f88/Q06dsmKFa29f/CFOeVlue8NoUSdXue3Vx24XP4ngfORB/+wdfnPvajvvuqQeOnV12TL4C9f/7quzo5huLchEkqpnSkzSFHMnC4zTVM9RE8vobS33L63ZjaoyuoIJV3jseQ4Zcj29BFKa8r71PZdFcIqtVMIJQCC6sgIpS8efqIjfPo1QBV8X/u6G7vEkf62aLrshS+c7WlEKE22UPJ19BNKsQxIgH/h0NHWZ//0X3V8y2JJoguhBAil+qZ6uM79KZNkkaR/VcZ03eq8UNnTdpVlhFJWKB0tBYzs0TKbIsGwqtzv9rCfhMrGcp9zxdxFHZoSSvGa9pZCZ9ChbxvLY2fK640CKBVKGnLo+VUHM+eaCZmu6WDbEEoABNVGhJKGTtQZvrSQoRB1G6DKOGk/CaMYKI88+ePWqit+vvPZHe/dWSmUdI3pUI70Hv7jX/+PvmKt3z4IpYu/pTKA+n1lenaf/sJXOsPa9FvG5ygxon0kVORz+lz7aShfOvxN+2nYpbfpPP4O/a3PLKhv3vrWnkPlrvz7V3X5Tcxc/vxLruw03nTNqZ/Ga9TnqV/pOu/+6AOd80qsSXzFffS3zvfvf/zfOudRwzAd6odQok5vQiipPMjXVMZk8kv57Z985V93HWeflO/rsx07d80pp7E86//ernKrbfJ7bXddLfP23LUq6+Q6XWUhfrbrvn/R2a7McO7e9J26D92POzOiANP3fuCf3jt7H/H8rm/0bL727e93zhOzxyM4R0kcLi4OsxNP9Mjw3FlTKO0o8otEbCxF0e19rmmQOUp7M9kui71jFULJ33uiyC9bzhwlAIJqs0JJDUw1DpXl0bAHf66x4w6MCjjaR/squFqk6N8YbPSZ94vfq22yr37re13HKyh6e+561/7iP+jsp8CXfqbGqsa4O2BGoaTP1OjV/zUURPtF4aPzKRvl/XU9cR8FUV3XfZ/8zGzv52++/06EUg2hFHuWb7rl17ruVb+JG2H2xZet/YXZ38p22zt/s2uOQtrLnIpiX0O/e1TjzZ/nGnJpB0Gva1Q2Kvqie8OjxWu2H6277pWzn6eiEKFEnd6EUHJ5UB2eDlmWyEh9UvOD4j6qM10+YnmOnWMq787gxn1sVZld1wm6tly2SZa7tziyoChHE7ju1zHXverVc65B+6hTLZZlxTjX/fr/CAslZZGeLrcrW3J1yDDFDM8jRX5RhyqhtKrMCulct4QsjofI3d+gUHqq3Hdn2HZPue1wRij5M93jmopz1hFKOtcmhBIAQbWWUHKwVPBQT56Cpht96vWOwVJBV6ZgFwOXevri+XXOqkBeVyhJpA3SoIyNZ51fjW0LP92Pg7waCt5HDQrds49z4HVDQ9en56KGg7MMCKX6Qkk+ogaXh1pqm4V19EVlgdSgUW+zfc+/eR2hVDejJN/zcWmDrF95UVnQvfl6dJ0+h79bvdjaR6I7/Z5YzpyZ6pXtRChRpy9UKHnOneo1lYu0brZPqn5T2VCmxXWmhqLWFUqDZJTU6VDUGCKb3ps6zXR9Oq+zwspAuVyrflEnhOoRZWotnLxPLMuq81XX6LgRn6Mke6YUMl4YYV/mfBYvN9QQSs7qeAicFlo4V1xcSW+qQaG0NfkeLwQRlyGPQmmm6D0vquizz97wfE8hlAAIqgMJpdiL70Cr4JoGS2VZvJ97It1IriOU6g69i99ZZ3x6bDyrYe7skRoB2uagqP0UPKM4c+D10BTfv45VBiTX04lQ6i+U4jO2mHADyT4g4RCfrXqaozCqI5TqzlEadI6e95d/5PwyNhydjfKwwHSfxchMIpSo03sJJXVoxaFyVXV/zDJJjHg/+XIdoTTIHCV/56BCKXZ++P5ineAyqLpE9Y4Fn/eJZbLuyphDJJR2lsIktT3FxflJe8tt6zPn21F+FufprA7nyLGheH4elK7jyVKIrcpc0+bkuP3l9tU171XHHyouvuvoYPndZk+4rz0Vz8FW9NnHwwY1rPAkQgmAoDqQUIqByI3TXOM3jl9Xr78FRdNCScP90oxVXaEUG965+3NjVo3WOBRKy9PmhCKLOcxPKPVqWFX5Sup7TQql2FjMzbFL57Tl/DR3f+qx1/dbcMdheKlQanpeBEIJoVQllPqVGftkWr/G8zUtlLxoSjpH0KMI0nlLuc6y3P0pQyRxlA6B9fdU1TdDLJROlFmZlRSdxtlZijOhIYu7EUoABNXGhFLsjXPwVXBqWijJPJY89nja1ODUXCNnLapWvUvvT2LIw8A0PEOB1EMBezU0EEqLI5Q09yeeT0PSYm94k0JJvuuGVCpYJJDkK/IF+0odoSRRboGkDKuyklHkp0Jpsd7JhFBCKM1XKMWyoDJShHl8VeU5zRDXFUqqsx0j0qGnHrKq8ubP6gglLxChukTn0HWn9cEICiXblhH2+VM9bP8yXZMWgHiouDjH6VR41gglAITSwoWSh7XFVemUlbEIKZKhSsrezFcoacJ8UU6mjysueYWyIgwZrCuUfFy8Xzd0EUpLL5Rij7Z+Vy/g4f1SX/TqWFVCqd/QNu8nP7DIVqNMx/mcGn5UVyjpHP7bjbu4DaEEwy6U9MJl+67FiofExrmiXnlSYsqdWDmh1GuYsuYQubNCZc77qsy5wypm8usIJV1/EebUxm0jKpTistZrRtjnt/Sw9UNyjdvCs15HNQWAUFqwUFJDVkFLPecWHVqSNW0gavEDTar1nJOcUNLxOk/VUuPa7oCs71VmSXOk3JhWwPWqRnWFks/nuVbxmXgBAYTS0golZfjkJ/5dPTcsXYBBDSiZG1TxXix0dKyG4KRDeOLy9/4ei3rPYyuSIUF1hFLMUuke1Fiz8C7CAiEIJer0YRVK7uxS2bIvu06Pq49qf51T/3o/l2eVqyK87y6KltRU9xZhZbpYXlQW49LfdYSSy77iib7XC1cUmTlKIyKUAABglIVSvD4FRWd71CsZ5/z4cwsqB7s4Ybhf41G9mDGQxgAbVy2qK5Ri5sCNdF+zh/ghlOqbl1LXsLO4lLwsihV97iXX04aL359i/4qLQMinJF7cMPPn/o44Cd1+pnNZQFcNwZMfxCXi5WP6/dN3H8V7q7o/3YvFls6p+/H92ke9DH/TK23RSEMoxdcvxDKpf71Prsy4bpQo8ipxKjsqG7EcqA72vvpc59UQulie4wiAIlk+v2oFyrikt8q3VqNL34+U3lvu/iTS3BFTlMt+KzOmfRzDql5dQRkEACCoznnpXhQmfulgDFB+yaeHREWhpP08P0j/psMs1AjVmPH4ub8jLgShIXzaR43Kfi/e1Dk0rE/7K4jr/OlLYNOXkPa6P2W7dC6/uFCNau3jYYV+YWN8ySlC6dyiiHY33PQb93qxr8R4nRf/9nvJ8HxeOjzIuZpc8ptGGnX6YlraieQVPnstsNNv9U/V/xIuda9B+3uu30LvR987yHdTBgEACKqNNQCLHquFYQilhQoljEYadfryCiWMMggAQFBFKCGUEEr4FCCUEEqUQQAAgurCTcMjNG9Jtlgv6yOgTpZPaSidRHfVogsYjTTq9MU1lT2VwbiiKEYZBAAgqGIIJQyfAup0jDIIAEBQxQio+BQ+BdTpGGUQAICgihFQ8Sl8ahg4mNieGsfsyRy3us8xmzPHbKZOxyiDAAAIJYyAik/hU8PYSEuvbabGMTOZ49b2OWY6c8w0dTpGGQQAQChhBFR8Cp9CKCGUMMogAABCCSOg4lMYQgmhhFEGAQAQShgBFZ/CEEoIJYwyCACAUCKoElDxKWzkG2lrE1tT45g1meNW9DlmKnPMFHU6RhkEAEAoYQRUfAqfopFGnY5RBgEACKoYARWfwmikUadjlEEAAIIqRkDFpzAaadTpGGUQAICgSlAloOJTGI006nSMMggAAARVAio+hdFIo07HKIMAAEBQJaDiUxiNNOp0jDIIAADzCKrY2Bs+hY2qTwHlD6MMAgAsORcINBNhZ/EpbIR9Cih/GGUQAGDJ2U9gHXs737Z78ClshH0KKH8YZRAAAAAAAAAAAAAAAAAAAAAAAAAAAAAAAAAAAAAAAAAAAAAAAAAAAAAAAAAAAAAAAAAAAAAAAAAAAAAAAAAAAAAAAAAAAAAAAAAAAAAAAAAAAAAAAAAAAAAAAAAAAAAAAAAAAAAAAAAAAAAAAAAAAAAAAAAAAAAAAAAAAAAAAGCUWd22O3kMMIZ+vbdtT7TtybY91LYN4fPNbTtYYXuSc20qj58pz6fPVw1wLbeX17Kxx+dV13J7uc/O8u9bkmP3l9sjK9u2q21Hyms+1LYdbVtR495l68M1bU7OvafcvhoXA6jkzgHrCAAAGCLUkNretqNtu9C2Fo8Exsy/ny39+kzbTpf/v1CKHjFdbsvZTDjX3rBd5zpf/v90KSjqcLA8Zrri8709rmVvco5T5f2ZU0n5XdO2Z8L9PhfOdaTGvcu2hGtKr3mm3L4WNwOopFXWFYfK8gQAAEOOepNvKRtc5zKNI4BxYVvp0zHTsrtCLBzscZ4t5T5ni4uZHImUh8rtTzcslKZrnEO2r4dQOhLuyz3a64Ng2lrzuxFKAAsTStFUTu9v29U8GgCA4ULDfQ4U3T3LLYQSjDG3lT79bCkMVpYm4bNmAKFkcbI789nJ8rMbllgoqZf6QnExmxWF0tXl/58rLg6zMzeU978KoQSw5ELJprJ7rHi+M2cljwkAYHlQI+b+4uLwozoGMC5IJBwPvi1x8WTZOCkSoXSuFBvRvN9T5T4b5yF+5iOUzmSuZVNyjvuL7uGBUShZIB4J515d1ge21QMKpWfL77KdRSgBzFsoRVN5VyfmBh4XAMDi40UZjg8gjhBKMK54QYOZ4uK8ojjnx0LpdCIEZB6e5qzRuiUSSs9mrmVjco61pejT/3ckQml7+f9Dme+2HUQoAQyFUIr2VMECEAAAi9IYTBdlwLBRsL2LWC40BG1LaHS4nKiMnEuEUq+hd8fKfW4r/9b5PHTPYuX2BoVSnaF3EijrS/F3pjQLpY3l/58Jx3nFvaPzFErLNfRuL2UEm0BjAQgAgIaYLvKLMmDYpAslL7awO+lUOBtERR2htKvcR6JIw/n2lA2Z/UF0TS2DUBIPFvmMsLNg25Lj70EoYdhImTo81tHUAQBYWM+5Gm9PE1QwhNIsG0shI3u0/K4T5fc+kQilk8Xc9wjtD+LKS20/VZ4nLopyf83rscg5nvmu1UEU5D7fUyGUVgZRFIXSbeHej5SC6skiv2IeQgnDhs+Ol+VuiiYOAECzjcN9Rf/V7ZijBJPAtqQsWDikq97l7FQ4z+pSpJxPPj9X2q4BhFLO1vYRBTMVQkncUlF+txRz5yo+Vd7zihERSgCjzKDx93QZv9fz6AAAFh81lNSTfhahBBPO1WWjfqG9syvK81ho6f+a93PbEN/7VEP3DgDNC6ULoQ5ZwSMDAFh6NDzn9rIyPo9QAmgcZ5yqbDOPCAChFEwrSWr+5BoeEwDA8KAVu3YWF4fOIJQAEEoAsPhCScN0NcpjE48GAGD4yS0CAQAAAM0JJRZmAAAYcbwIBAAAACwcFmYAAAAAAAAAAAAAAAAAAAAAAAAAAAAAAAAAAAAAAAAAAAAAAAAAAAAAAAAAAAAAAAAAAAAAAAAAAAAAAAAAAAAAAAAAAAAAAAAAAAAAAAAAAAAAAAAAAAAAAAAAAAAAAAAAAAAAAAAAAAAAAAAAAAAAAAAAAAAAAAAAAAAAAIBB+f9eJZbvYpg/CgAAAABJRU5ErkJggg==)"
      ],
      "metadata": {
        "id": "oJJYR5sVIjvH"
      }
    },
    {
      "cell_type": "markdown",
      "source": [
        "Note: Untuk pelatihan Anda bisa menggunakan model keras.Sequential di sini. Untuk menghasilkan teks nanti, Anda harus mengelola status internal RNN. Akan lebih mudah untuk memasukkan opsi input dan output status di awal, daripada mengatur ulang arsitektur model nanti. untuk detailnya bisa dilihat Keras RNN guide."
      ],
      "metadata": {
        "id": "zlMGBkmoI4Mb"
      }
    },
    {
      "cell_type": "markdown",
      "source": [
        "## Uji Model\n",
        "\n",
        "Coba jalankan model dan cek apakah sidah sesuai dengan output\n",
        "pertama, cek bentuk dari output"
      ],
      "metadata": {
        "id": "UmZIOWyhLMxC"
      }
    },
    {
      "cell_type": "code",
      "source": [
        "for input_example_batch, target_example_batch in dataset.take(1):\n",
        "    example_batch_predictions = model(input_example_batch)\n",
        "    print(example_batch_predictions.shape, \"# (batch_size, sequence_length, vocab_size)\")"
      ],
      "metadata": {
        "id": "0oIhTVKxLMex",
        "outputId": "f490371c-8a35-42de-bed7-d609884bc3d5",
        "colab": {
          "base_uri": "https://localhost:8080/"
        }
      },
      "execution_count": 29,
      "outputs": [
        {
          "output_type": "stream",
          "name": "stdout",
          "text": [
            "(64, 100, 66) # (batch_size, sequence_length, vocab_size)\n"
          ]
        }
      ]
    },
    {
      "cell_type": "markdown",
      "source": [
        "Dalam contoh di atas, panjang urutan masukan adalah 100 tetapi model dapat dijalankan pada masukan dengan panjang berapa pun:"
      ],
      "metadata": {
        "id": "xq2vOqPjLU3E"
      }
    },
    {
      "cell_type": "code",
      "source": [
        "model.summary()"
      ],
      "metadata": {
        "id": "FEDJgtf6IkD6",
        "outputId": "062038e2-92ba-4179-dda9-cdbb0210d235",
        "colab": {
          "base_uri": "https://localhost:8080/"
        }
      },
      "execution_count": 30,
      "outputs": [
        {
          "output_type": "stream",
          "name": "stdout",
          "text": [
            "Model: \"my_model\"\n",
            "_________________________________________________________________\n",
            " Layer (type)                Output Shape              Param #   \n",
            "=================================================================\n",
            " embedding (Embedding)       multiple                  16896     \n",
            "                                                                 \n",
            " gru (GRU)                   multiple                  3938304   \n",
            "                                                                 \n",
            " dense (Dense)               multiple                  67650     \n",
            "                                                                 \n",
            "=================================================================\n",
            "Total params: 4022850 (15.35 MB)\n",
            "Trainable params: 4022850 (15.35 MB)\n",
            "Non-trainable params: 0 (0.00 Byte)\n",
            "_________________________________________________________________\n"
          ]
        }
      ]
    },
    {
      "cell_type": "markdown",
      "source": [
        "Untuk mendapatkan prediksi aktual dari model, Anda perlu mengambil sampel dari distribusi keluaran, untuk mendapatkan indeks karakter aktual. Distribusi ini ditentukan oleh logit pada kosakata karakter. Catatan: Penting untuk mengambil sampel dari distribusi ini karena mengambil argmax dari distribusi tersebut dapat dengan mudah membuat model terjebak dalam infinote loop. Cobalah untuk contoh pertama di batch:"
      ],
      "metadata": {
        "id": "eteoNxd4LWMz"
      }
    },
    {
      "cell_type": "code",
      "source": [
        "sampled_indices=tf.random.categorical(example_batch_predictions[0],num_samples=1)\n",
        "sampled_indices=tf.squeeze(sampled_indices,axis=-1).numpy()"
      ],
      "metadata": {
        "id": "BXiSie_3LZSx"
      },
      "execution_count": 31,
      "outputs": []
    },
    {
      "cell_type": "markdown",
      "source": [
        "Hal ini memberi kita, pada setiap langkah waktu, prediksi indeks karakter berikutnya:"
      ],
      "metadata": {
        "id": "8c0GKQevLdak"
      }
    },
    {
      "cell_type": "code",
      "source": [
        "sampled_indices"
      ],
      "metadata": {
        "id": "f09XQVaeLdqG",
        "outputId": "f5d8e66d-b1b2-4fc6-bc46-70351e77109e",
        "colab": {
          "base_uri": "https://localhost:8080/"
        }
      },
      "execution_count": 32,
      "outputs": [
        {
          "output_type": "execute_result",
          "data": {
            "text/plain": [
              "array([60, 23, 61, 62, 32, 52, 35, 20, 14, 65, 35, 63, 29, 31, 47, 60, 64,\n",
              "       17, 21, 58,  0,  3, 54, 57, 62,  0,  0, 42,  9, 48, 17, 13,  0, 28,\n",
              "       27, 47, 64, 55, 65, 53, 24,  6, 36, 29,  4, 49, 32, 15, 64, 56, 24,\n",
              "       19, 58, 35, 10,  9, 39, 21, 25, 13, 46, 64, 33, 38, 48,  0, 42, 32,\n",
              "       34, 52, 10, 39,  0,  8, 12, 53, 46, 26, 46, 11, 56, 23,  0, 59, 58,\n",
              "       18, 37, 28, 16, 43, 19,  0, 62, 36, 13, 60, 48, 42, 59, 13])"
            ]
          },
          "metadata": {},
          "execution_count": 32
        }
      ]
    },
    {
      "cell_type": "markdown",
      "source": [
        "Dekode kode berikut untuk melihat teks yang diprediksi oleh model tidak terlatih ini:"
      ],
      "metadata": {
        "id": "yDSbMC7VLfcs"
      }
    },
    {
      "cell_type": "code",
      "source": [
        "print(\"Input:\\n\",text_from_ids(input_example_batch[0]).numpy())\n",
        "print()\n",
        "print(\"Next Char Predictions:\\n\",text_from_ids(sampled_indices).numpy())"
      ],
      "metadata": {
        "id": "3YkWoPbkLfoK",
        "outputId": "83aa3c64-c48e-4618-ae55-c13909bbf6ee",
        "colab": {
          "base_uri": "https://localhost:8080/"
        }
      },
      "execution_count": 33,
      "outputs": [
        {
          "output_type": "stream",
          "name": "stdout",
          "text": [
            "Input:\n",
            " b'er saw her match since first the world begun.\\n\\nBENVOLIO:\\nTut, you saw her fair, none else being by,\\n'\n",
            "\n",
            "Next Char Predictions:\n",
            " b\"uJvwSmVGAzVxPRhuyDHs[UNK]!orw[UNK][UNK]c.iD?[UNK]ONhypznK'WP$jSByqKFsV3.ZHL?gyTYi[UNK]cSUm3Z[UNK]-;ngMg:qJ[UNK]tsEXOCdF[UNK]wW?uict?\"\n"
          ]
        }
      ]
    },
    {
      "cell_type": "markdown",
      "source": [
        "## Train Model\n",
        "\n",
        "Pada titik ini permasalahan dapat dianggap sebagai permasalahan klasifikasi standar. Permasalahan dapat disimpulkan dengan : Berdasarkan status RNN sebelumnya, dan masukan langkah kali ini, prediksi kelas karakter berikutnya.\n",
        "\n",
        "### Tambahan optimizer dan fungsi loss\n",
        "\n",
        "loss function tf.keras.losses.sparse_categorical_crossentropy standar berfungsi dalam kasus ini karena diterapkan di seluruh dimensi terakhir prediksi. Karena model Anda mengembalikan logits, Anda perlu mengatur flag from_logits."
      ],
      "metadata": {
        "id": "uH7pMsx8Ljss"
      }
    },
    {
      "cell_type": "code",
      "source": [
        "loss = tf.losses.SparseCategoricalCrossentropy(from_logits=True)"
      ],
      "metadata": {
        "id": "mlZPfhYjLka3"
      },
      "execution_count": 34,
      "outputs": []
    },
    {
      "cell_type": "code",
      "source": [
        "example_batch_mean_loss = loss(target_example_batch, example_batch_predictions)\n",
        "print(\"Prediction shape: \", example_batch_predictions.shape, \" # (batch_size, sequence_length, vocab_size)\")\n",
        "print(\"Mean loss:        \", example_batch_mean_loss)"
      ],
      "metadata": {
        "id": "qlwFsYChLsdO",
        "outputId": "d0ca1ad9-b1f2-4024-aec1-e3499756a1ba",
        "colab": {
          "base_uri": "https://localhost:8080/"
        }
      },
      "execution_count": 35,
      "outputs": [
        {
          "output_type": "stream",
          "name": "stdout",
          "text": [
            "Prediction shape:  (64, 100, 66)  # (batch_size, sequence_length, vocab_size)\n",
            "Mean loss:         tf.Tensor(4.1894555, shape=(), dtype=float32)\n"
          ]
        }
      ]
    },
    {
      "cell_type": "markdown",
      "source": [
        "Model yang baru diinisialisasi tidak boleh terlalu yakin dengan dirinya sendiri, semua log keluaran harus memiliki besaran yang sama. Untuk mengonfirmasi hal ini, Anda dapat memeriksa bahwa eksponensial dari loss rata-rata harus kira-kira sama dengan ukuran kosakata. Loss yang jauh lebih tinggi berarti model tersebut yakin akan jawaban yang salah, dan memiliki inisialisasi yang buruk:"
      ],
      "metadata": {
        "id": "_DLaPGYxLtvF"
      }
    },
    {
      "cell_type": "code",
      "source": [
        "tf.exp(example_batch_mean_loss).numpy()"
      ],
      "metadata": {
        "id": "nT-iluciLuD0",
        "outputId": "0d9914ee-f8ea-4d1c-fd2e-dd71c08a8638",
        "colab": {
          "base_uri": "https://localhost:8080/"
        }
      },
      "execution_count": 36,
      "outputs": [
        {
          "output_type": "execute_result",
          "data": {
            "text/plain": [
              "65.986855"
            ]
          },
          "metadata": {},
          "execution_count": 36
        }
      ]
    },
    {
      "cell_type": "markdown",
      "source": [
        "Konfigurasikan prosedur pelatihan menggunakan metode tf.keras.Model.compile. Gunakan tf.keras.optimizers.Adam dengan argumen default dan fungsi loss."
      ],
      "metadata": {
        "id": "R5cGaKMULv7O"
      }
    },
    {
      "cell_type": "code",
      "source": [
        "model.compile(optimizer='adam', loss=loss)"
      ],
      "metadata": {
        "id": "m8AGu8N9LwtW"
      },
      "execution_count": 37,
      "outputs": []
    },
    {
      "cell_type": "markdown",
      "source": [
        "### Konfigurasi Checkpoints\n",
        "\n",
        "Gunakan tf.keras.callbacks.ModelCheckpoint untuk memastikan bahwa checkpoint disimpan selama pelatihan:"
      ],
      "metadata": {
        "id": "GwtdS8f0Lyg-"
      }
    },
    {
      "cell_type": "code",
      "source": [
        "# Directory where the checkpoints will be saved\n",
        "checkpoint_dir = './training_checkpoints'\n",
        "# Name of the checkpoint files\n",
        "checkpoint_prefix = os.path.join(checkpoint_dir, \"ckpt_{epoch}\")\n",
        "\n",
        "checkpoint_callback = tf.keras.callbacks.ModelCheckpoint(\n",
        "    filepath=checkpoint_prefix,\n",
        "    save_weights_only=True)"
      ],
      "metadata": {
        "id": "zr30H-tFLzUC"
      },
      "execution_count": 38,
      "outputs": []
    },
    {
      "cell_type": "markdown",
      "source": [
        "### Lakukan Proses Training\n",
        "\n",
        "Agar waktu pelatihan tidak terlalu lama, gunakan 20 epoch untuk melatih model. Di Colab, setel runtime ke GPU untuk pelatihan yang lebih cepat."
      ],
      "metadata": {
        "id": "6vZUO2ODL4rH"
      }
    },
    {
      "cell_type": "code",
      "source": [
        "EPOCHS = 20"
      ],
      "metadata": {
        "id": "YjeP0AbFL5Z5"
      },
      "execution_count": 39,
      "outputs": []
    },
    {
      "cell_type": "code",
      "source": [
        "history = model.fit(dataset, epochs=EPOCHS, callbacks=[checkpoint_callback])"
      ],
      "metadata": {
        "id": "if8wyBaIL-R3",
        "outputId": "92cb0139-8e88-439e-9b33-c8aacae483ac",
        "colab": {
          "base_uri": "https://localhost:8080/"
        }
      },
      "execution_count": 40,
      "outputs": [
        {
          "output_type": "stream",
          "name": "stdout",
          "text": [
            "Epoch 1/20\n",
            "172/172 [==============================] - 17s 71ms/step - loss: 2.7143\n",
            "Epoch 2/20\n",
            "172/172 [==============================] - 13s 56ms/step - loss: 1.9887\n",
            "Epoch 3/20\n",
            "172/172 [==============================] - 11s 56ms/step - loss: 1.7066\n",
            "Epoch 4/20\n",
            "172/172 [==============================] - 11s 57ms/step - loss: 1.5456\n",
            "Epoch 5/20\n",
            "172/172 [==============================] - 12s 58ms/step - loss: 1.4461\n",
            "Epoch 6/20\n",
            "172/172 [==============================] - 13s 60ms/step - loss: 1.3781\n",
            "Epoch 7/20\n",
            "172/172 [==============================] - 13s 63ms/step - loss: 1.3256\n",
            "Epoch 8/20\n",
            "172/172 [==============================] - 12s 61ms/step - loss: 1.2807\n",
            "Epoch 9/20\n",
            "172/172 [==============================] - 14s 61ms/step - loss: 1.2398\n",
            "Epoch 10/20\n",
            "172/172 [==============================] - 13s 62ms/step - loss: 1.2000\n",
            "Epoch 11/20\n",
            "172/172 [==============================] - 12s 61ms/step - loss: 1.1604\n",
            "Epoch 12/20\n",
            "172/172 [==============================] - 12s 62ms/step - loss: 1.1189\n",
            "Epoch 13/20\n",
            "172/172 [==============================] - 13s 61ms/step - loss: 1.0755\n",
            "Epoch 14/20\n",
            "172/172 [==============================] - 14s 62ms/step - loss: 1.0294\n",
            "Epoch 15/20\n",
            "172/172 [==============================] - 12s 61ms/step - loss: 0.9806\n",
            "Epoch 16/20\n",
            "172/172 [==============================] - 12s 61ms/step - loss: 0.9302\n",
            "Epoch 17/20\n",
            "172/172 [==============================] - 14s 62ms/step - loss: 0.8779\n",
            "Epoch 18/20\n",
            "172/172 [==============================] - 14s 62ms/step - loss: 0.8259\n",
            "Epoch 19/20\n",
            "172/172 [==============================] - 12s 61ms/step - loss: 0.7756\n",
            "Epoch 20/20\n",
            "172/172 [==============================] - 12s 61ms/step - loss: 0.7278\n"
          ]
        }
      ]
    },
    {
      "cell_type": "markdown",
      "source": [
        "## Generate Teks\n",
        "\n",
        "Cara termudah untuk menghasilkan teks dengan model ini adalah dengan menjalankannya dalam loop, dan menyimpan status internal model saat Anda menjalankannya.\n",
        "\n",
        "![text_generation_sampling.png](data:image/png;base64,iVBORw0KGgoAAAANSUhEUgAAA2IAAAFKCAYAAAB/z+zgAABMMklEQVR42u29DZBU53nnO3xIIAkpyItlLAPCCtrgGEfYwhYoOMYmCbEkGNk4JjFeYRlbYJEs5RCDoHuYdkgsl9Aw+rCCE+LFMRIzKxKTBHuVLHur63Y3cBOSS7LkrvaWNkuqqFvcDXZILraxPZL6nv+Z8zTvnDkz0zP0x/n4/areGujp6Y+3f/2c93k/OzoAAAAAAAAAAAAAAAAAAAAAAAAAAAAAAAAAAAAAAAAAAAAAAAAAAAAAAAAAAAAAAAAAAAAAAAAAAAAAAAAAAAAAAAAAAAAAAAAAAAAAAAAAAAAAAAAAAAAAAAAAAAAAAAAAAAAAAAAAAAAAAAAAAAAAAAAAAAAAAAAAAAAAAAAAAAAAAAAAAAAAAAAAAAAAAAAAAAAAAAAAAAAAAAAAAAAAAAAAAAAAAAAAAAAAAAAAAAAAAAAAAAAAAAAAAAAAAAAAAABgOJ/56AtzNnce3vTomr7nNnX2HfTLmr49n1vdv5TagSTw2P0vzd78UN8KK6673v/nb1rTv/Wq2/29n33oxcXUGiTJ70fXHN4gd2see8WL2d2bHuxbWVhRnEotQfLbHf298vzR1YdnUUMAkHoGG6h9R7xSHaWU1QigtiDOeBfxvSFvj+liHnQqDES6vbpvBzUHceZTDx2cOarDQfEas6/ScQZJwIvLCzd19h8do91xZfPqw0/QwQAAaQ6Gyzet6b80RjC0co4eKoh1Ira6rxhy9mWvnB/LbRqvEFfUAeY5+kqdMVrlsleWUHMQV7zkam3gab1Olz+14uB0ag4A0hUMH+hfFBEMrzy65nCfpiQGjdihAbGz7yA1B7FNxEa+uA96PThidi5iJOE5ag9i6nR4tsI5jRJsWt230Z+SuKbvVITvp6k5iGW7o/PFVdEju/2Xgo60suI1MRoAUo2G+r3Ad2bYBd5LzoY0Ajr71oXuM8CoGMS4YyEqCTul6bd2v2CEYeiFvrP/KDUIccOfVhvyWWtqhjdu+3OhEbHTxGmIG/4U2zV9FyNi9B53xEuOBwnZkLZHlPsAAMm8wPsLvocFw8jpLLqou/fTtAJqEJLhdP+Zx375pRkRTp8b6nT/AWoQYte58FDfirDT4c4y4Xesre7vfGzNSwuoNYhvjPZHcKuh9sQTUfcNkrHQyFn/VmoRAFJBuLdp85rDx0e57/4h9+3sz1GDEMOL/HP1dC6o5zV8gfeSuG3UIMQuEYse5dVo7iE/8YroZACIcbsjvF73wmhrv8KdwCyNAIBUEEwPqA7bXU7bxUaU8M5G6tWiFiGGF/nT4dGwqPtpy/ph/j/Yt5IahFh63dl3drRd5RSfNUuBneUgzkTF3ZFGw2ruhzZfGq3DGAAgMQzulFj3bkVRWySTiEG8OhcGR7mu1OPpo519W8JOq3OCWoSYdjAsGWFdzbCt6zWVkRqDmHYorBuWiI3h67B17KzlBYA0EGwdO+FEbPOa/vXUIsSwsVrXKJfWg4Xu+wo1CHFmcIOZ/t46tvzWZkrLqTGIG5r+PZ4OsBE619g5EQDSmYiNNC0xqnCwM8TuIj+OUa6I3UIPUYOQiITsl1+aoRisKVqjHO58ipqC+CViwzfqGOP+D0S1U6hJAEg8Orx2WKOVwxIhwfibFwxd1H12pIZsxM6K7MQFyWvYrj48KxhluDyeBi5AO9jceXhT2NPRdvkMrw9TxwOdwACQCqKG/HXIYuTFXhf6wcXgT2iON9sjQywTseEbGhwaofE6bH0kU7kgdj4/2LcyOHz8mKbOav3XSJtxBFMWhzRYqUGIndNR08fX9O2pN2ljx0QASFtQPBRe6B0+LDFYXDsQCobrqD2IE+MZ5dLt4UYro8EQN6Km2mp9TDgZ8w98Ht4JUaYGIZZee+2McPzdtLpvo/1efgfuh6fdXt78UN98ahAA0tN4XfPSguFTWvov6cwwf/Rr+Kn27FgE8exU0OhB/YeTH6lni3uAdhLMWnglamdEJWTBeptDQcyu1jO7AaDtsTpi58SgXBxscwz3mQ3CACC1BJt2DNS5W2KZw0MhjkTsxjXiKFe4R1Y7KFKDEEuvVx9eqANvx7Wj7RjnMgG0PRkbPpV21F1ANU2RWgOANF/sl0f1vLoHhqr3lcNCIb4X9vAoV9/pEVyfNcxvZ1oMQNzQdCzNRKijwXqBUQNITLtjzeENY3YyrO4ramMxagsAstGYHZzetUcLYlUGp78c3sBBt5CARGyJDga1opGEqPvJZfd+KvgNSUDrd9Vp4I8mBDHaL17M1lREOsogafjrwdb0PRBsBOb7PHjGY//Wzz704mJqCAAAAAAAAAAAAAAAAAAAAAAAAAAAAAAAAAAAAAAAAAAAAAAARqZQYPctSBf7uk8uoBYApwFwGgAg1knYvq4yB4JCupzOl49TE4DTADgNABBbenaXVnrB8MqTheJsagNS5HSV3lbAaQCcBgCIbzDMVQ4oGPbmy93UBqTJ6Z58OUdtAE4D4DQAQOwIpgZcDBKxf/L+P51agbQ4vS9f+jtqBNLldPkMNQIpcfq7OA0AmaY2NaBWKhupFUiV00x7AZwGwGkAgNgFw2BqgJWefPkstQIpc5ppL4DTADgNABAfQtNdauXp3aVV1A6kxWk6FyDpTvfmK98ZEqe7yn9LzUCinc6V/znU9mB6IgBki+HTEmvlZWoHUuU0014ApwFwGgAgNsEwNDXAL7nyG/r5zK4Ti6ghSIXTTHsBnAbAaQCAuDDStMRaQPQCJbUESXN62BSuWin9N2oIkun0sClcwfTE0n+lhiCRbY9c5V+inWbKLQBkhFGmJVrhgGdIl9NMewGcBsBpAIC2B8MRpga4hQOeIU1OM+0FcBoApwEA2o6XZG1RohWUYpB4HXVu6+7JVzZRU5Aap3OV9dQS4DQATgMAxCkwdg9u1FHZQG0ATgPgNABOAwBkLBj2Forze3KVpftypU6NyAU9ZAe913d8n997VjmkqQ2avuD9XNe768RiLf7lU4QEOv2ynNa/cRqI04DT7fP5qVxleU+utFYjdvu6ynuG+mzF87qrtFf30f2fLxRn8CkCQGKDoXdhnq6FuwpsXuB7Zaw1a6NtLOK9h7LfGPAu+HyigNOA0zgNOB3Fs4XiHC+p2ug99xGvXL4Gp1VOe9+LJ5SY8YkCQOyDod+Tmq9s8p7vWGQAzFXOeT9P+QEyV3pOPap6XWoIeK9zheaP+3/fVd6j+3i/Pzv8MUqverfv8J5rJp8uTuM04DROQ3adDo6BWKGEKdrFyjl1EozosxXf6/IO7z77/QQsXx4IPw5OA0DsgmFwbsiGIHCFe5NO+RuD5CpLJ/r4mh7w9O7SKgVQ7/HOO499ye99JSjidAKd7t1VegCngTgNOD0xdARP0BlwKeSz/t+n532qUJx1Dd8Zf7S4t6vUi9MAELtgqCDkPe42r1xwAtRFzbNWz9K1BMDR0MW+J18+Gg6KzOfGaZwGnMZpSLfTOossGLW64vh1RkmZphA2a72i39EwOIo8xGklbHzaANCyYKj510EPkdsLdUoLu1u5YNt7P0uCRba1aQPM48ZpnAacxmlIn9MasQ2Se5syOOB3KLR4TaI/DXKI06VXr2U0GQAIhvU9TqE4MzisccA5nFHng6xo8/tbEaxn8AOzFp2zgxdO4zTgNE5D8p1+aufJhcEOh1c3hukq9WqtYwycPmNOB6NjOA0AjQ+G2qJ4cDpLEARzlYPP7DqxKC7vMVis2+00Ps4oePPp4zROA07jNCTPafnib55xdQriRT1ms6bTTvQ1apMQx+lTmjrJpw8ADQmG6nEKzkOynqiX290LNUZDZKmzBfMlpsDgNE4DTuM0JMtp35Gro02a/vdcnDfHkMPBbqN6vRdwGgCuKRj6vTyDC7wv13qicpX1SXi/WgwenB/i9wrrEEcswGmcBpzGaYi30/6OsoNrGwdHmLyEPSlJjV67s0HNZZwGgAkFQ39LWGeLY01vidNUgLrf92Awtx7irZiA0zgNOI3TEE+n/bVgV0eVBrQLYtJ2JBw8JsI/wsHWjW3BBACCYd3BULsP1bY51uGFu0srk/zedWGvXeS9oI4NOJ0SpwdwGqdxGtLitBx2RnZPt3onxEYTrG2zzXJ2YAMAwXDMYKhtjZ1AWEzLYYWaHuAspKXHNcNOJ3HEAKdxmjgNqXY6X9nofPZ9aTmXS9OEcRoA6gqGQ3pvcpUDaduC1b3IJ2UNBeA0TuN0hNMDOA1pcNrZcTC1s1ZwGgBGDYb+dsK5ysHa2S4pHkLXXO3a+2QRLU7jNOA0TkPbnHY2thho1KHPccRZIoHTAATDUIC4uqj0sqa8pL0unFGSAW2Pix04jdOA0zgNLXY6XzlkO31mYat3z+mc7RDK1vYABMMgEF7tpclSYHAaNRe08xiG4HTi6+PqznM4jdPEaYi107Xb8+XLSd+UY6Jx+tlCcQ6GAGQ4GAYLvm2twbos1Yc/zSdfLvtztr2faVtngdM4jdM4jdMQR6eDDSwGt3bfVXoga0577/t48P5P4TRARoNhcGL95Sxvq6reKO/9Xxqsl9JzWILTOA04jdPQPKc1olvrWMhXNmWxToLz/y7ahjtYApCxYKjtu6+eP1Pan+V6CXqbq+M5cBJwGqcBp3Eaxuf0kASkq7Q3y/Xy9O7SqquHmFc2YgpAhoKhM+++yLB4aBF898kF2ILTOA04jdPQWKc1+hN8hsepmY4OJaO2eUeW1skBZD0YPh5MCxh4ZteJRdSMP2d7ulcfZ5izjdM4DTiN09B4p71EI2dOk0jXnNZ6sdOB02dwGiAbF/gzzLUfzlM7Ty7M+loMnMZpwGmchqY4na/8V6YkRtRPoTjfnNbB1tQIQOqDoV8ueV/+mdTKUPzpQLWdnJgmgNM4DTiN09BApy/i9HC0Gypn5gFkKBh6/95CjYxwkc+X+5gmgNM4DTiN04DTLUzGDgSj4eeeLxRnUCMAaQ6GheJ8aiQaBUAFwmCawB5qBKdxGnA6jk6XXsVpnE6T0z358lmmJAOkNRjWTnOv/Au1MTrB2T3+TkYsKsZpnAacxmnA6WajjXlqG5rkKkuoEUg7C72y3isbslB+/eGv/KWC4eZP9P5jVt5zUB7wyriH+b2LxqHgIv8yTuM0TreFBVnyGadxOo1lx+YXfKd/6/N/9j8z9L47vTJnQh0MV7e0Z2dQSCWSeuuUKVPOeT+rWSoL7nh3ddXPPVJ921vuqmbtvU+ePOUH3s9twedfF88WinP8nlbt8pSrrIu/09f9I07jdEqcXumVM1n7TLPu9KRJk7+P0+krH3jfx6tb/t2z1aWLV2fuvV9//bT/M0jK6h9BLBRn1g69zlc20WyHNDHbK6ftC/KWN7+t+nP33V/96IOPVD/xsS2UFJYHV62vzrn9zlpQnDZt+n8eT6+rM7f9fEwXz86eNGnSX+N0dp2eOnXqyylzeqtXBvTebrn5VnzOoNOTJk35Nk5Tklo6P/xw9a47F1Wvv26a03E2+YXxOK0EzHZOfapQnEXzHdKARH7FGqvd2/dXv9X33ygZKfq8b7rxZj8gXnfddX31SuMfIHp1k4O4ne8xy0vC/jtO43RwkU+D06uC0b431Dj/o4N/zWedUae9cihtTquBjtPZKd/8xpnqr3xks5uQjcfpqbZxh3ZTpAkPaeCovgjqdfuPX/tLgkQGy1d7vuVe5OveQtc53yNuC8JxGqfT5LSmo72q96LGC58vTuM0JQ3l+Sf/dGJO7y6trJ2/xsYdkHC0gUH1+uunv3ag988JDBnvcR2c+jL5f41HoN58uRzs+nQoTk5Pmzb9dZzG6eACfyHhTi/X+3jzrLe+rp5kPlucTovTt826/Q2cxumJOO35fCxIxoo05SHJqAei+p6fWf4GAYHirEVYWHcwzFWW1M5B2XVicVycvufu5XymlLQ4vUPv4YPLV/OZUnCakrpy++w7Xhu3090nF9hmNL27Sg/QnIek0i35N37yCwQDir8wPAiG68fV25qrHIxRzxROU1Lp9KMP7+QzpeA0BactGesqPzG4g2L5LNvZQ6ITsc9/7ksEA4q/q1EQDDeMR6InC8XZXjC8rID49O7SKpym4DROU3AapynNdDrYzv5CsFZsA016IBGjZDIYip58ORf0tp5pc88UTlNwmoLTOE3JgNP78pWNdkSDdgmlWQ8kYpRMBsMh2yTnSp04TUmT0z250lqcphCncZoSO6enqmMhSMa20qwHEjFKJoPhYG9r7aDFMzhNwWmcpuA0TlOa7bQ26wicvsCoGJCIUTIbDP3e1tp87bb1tuI0BacpOI3TlIw4PThFkVExIBGjEAwVDLe2ubcVpyk4TcFpnKZkyGnn4HJGxYBEjJLdYBjsYnSpjb2tOE3BaQpO4zQlQ077a8VypVcZFQMSsTrLU7/VV33Lm9/ml1Uf/Fjt9sO/f6J2+0//1HvqeqyvP1/07/9z990/5LYnur5e+/94Hq9Z7/WjDz4yofeSpGDoX+Tz5e429ra2zemdn3+65q7q0m5//sk/rd1e7+ca5cyB3j+v9v7OS233xH2v9ZwDNB7/cTpeTuvzNXf//aN7arf/1s7fr91e7+ca5Yx8ltft9sR9r3qdjfQfp+PltPwyd7u376/dLr/t9no/1yhnfif3H/x2TLs9cd+rvluN9D+uTjvrHxkVAxKxsYqSpOCLV73pxptrt+/49z212xUU6nmsrz173L//u376fbWG7/TpNw5pDCclEQu/lyQGw6cKxVl24n0belvb5rSe09y9Y+5dtds/9au/Ubu93s/Vvh8//4GP1C7uU6ZMqb2vJCVi4feC08lx2qm/6j13L6/d3vnhh2u31/u52vfD4rL+L6etwyxJiVj4veB0cpyWr+buh39+Xe32pUtW1m6v93O1z8Lex7/7+Fb//7qOJy0RC7+XJDrtrn/szZe30MQHErE6GmdKwvTTAoUCoy7Ot9x8ay0R+49f+0v//l/t+Vbt75/98jdrF3A3efnmN874Qc8aCLqfPZ89hz3eof0l/29/c8uTQ0bPrOj3SgwVTK2HS0XPofvrb9Ug1t/bY9vfuI8X9fp1Pz2u6t4NkmlIxPze1q5Sb9AzVcxaInbrzFn+T33Gul0NWLvNPlf9zhxyE3ZzwU1e5M8vd37W/79+yiNz0Py2x9N9NcKg12KjZ+FEX37mt32l+kcH/3qYo/ad0N+rQ8P+Ro67jxf1+u2x3b9NSyKWVaet/uSvOrf+9IWz/u1zbr+zFrvtc9Xnbw65n7056iYvuo81iBWv9bfhOGmPJ9f1GPp7N4Za0W3yU6Mbum/YUT2ufNTfm6/2HXEfL+r122OruPdNQyKWVafNOzn91tnz/NvktXw2p+1z1WduDrnXfnPBTV7kj2K9/q84KI/CcdIeT/9+svCC75UbQ932jR5THXD2nQt/J3St0N+br2HHo16/+9h6je5905CICc/lbUHnwqttPisPIBmJmPVCadTARq4W3nV3bYrASA05NWh1Wzh5sX+HRyDcETb3ua+/blrtvurltcff/EjeTwjtd7qfgp77fHqd7t8/uGp9LZCrWM9u+PVrWo/7dyofXL46VYnYk4XibC8YDgQn3i/JUiKmUSr9lC+6iKoBa7fZ5xrVkBvJeXf02G4Le2KP97P3/uIQb92eWCVx7u/kqlx0n0+PZ/fRT3WMuK7a4400uuG+zpH8x+nkJWLmryUqbuy2zzWqITeS8+7osd0W9iT83OakGpDWeHZHN1Rmvekttc4Me47F71o2JI5bZ589no2AhV//xk9+Ychjq+i6kKZELItOmzPmlWKpnHGdts/V7hvu9I1y3h09ttvCnoSf2xxUUqbfq3PMkjkr6vQIJ37ufRTHtbwj6vHCr19tFPexR/M/sZ0L7V//CJCsRExfQAUSN4lSg3GiidhII2JRiZgu2gpw6knSBVoNZusxUoBSb5kCtIKa/la3qSfVnk+vW/fVSIEFNjVsNUqmx9OoXtTr1/SFu+5c5D+3RtoUaKPeS5KDoR8Qc5WDQW/rkSwlYpbEu0nUls8UJpyIRY2IjZSIaUqk/FNPqjtFUqMF1nkgZ/V76wGWg/Z8en49ti7O1nCV3/ob/f/OOxZGvn51Yuix9dxqqOtx1eOcpkQsi05b/Zm/+r86GMzziSZiUSNiIyViSqTkqP29TZG01/S+96zwvxNyVt87xXUlaXZ/xVr9vSVW8lJxXKPC9vdRr1+NZT23vn96fHusNCViWXTavDN/tDbMpo9b22EiiVjUiNhIiZg6XpV02VRGmyJpcV6JlRy112jeuYmY/t4SK8V5PZ+9ft0efv26v1xXZ53aSXaNUPKZpkTMdzpY/+j9LNPMBxKxOhIxG5myoOMuBB9vIhZ+bLdBEH48C1bWCLbH+5WPbK4FaHf9gI3c2fNZAAs/fvjxol6/TWlUALZRND1umhKxfd0nFwS9rQP6d1YSMf1UUqIGodWpNeQmkoiFHzvKefu9jSyHnbQLsi6+7voBazSEvxNRHrqPF/X61XDQd0aNCBtFS1siljWnrf70GSqBkdf6HJXwqANroolY+LGjPLHf20wEJVPu41mj150yqEZmRzDV3Z5PjV338UeafRD1+vUelXDqb8byH6eTlYjps5XHlnDrOhxuO4wnEXPvb1P+RkrE7PGsg8sezzpl3WnjSsJ0m9oM4eezx1ebJeo7FH4+mwKv9oySsrH8T6rTwUivv/6xJ1dZSlMfSMTGSMQsAVPDVYFRQWisREw989eaiIUbwfZ41svk7qjkBtRwMB5vIma9YAq6ei6NvOn/6sVNUyImevLlo37PVFepN0uJmPVsygMbGRorEXPXRU40EQs3gu3xbMqNjRCHL7zh78R4EzF1KFjPrUbH9F7SmIhlzWk3WVKD1UaclJCN1ShVr3sjEjG3Eek+nnXGuet33YZn+DsRfvyxEjFrqGqTJ/f7nLZELGtOu8mSPFasUseRYuRYiZg6mxqRiNlOoeHvkNtuCHc6K3bb81mHWvjxR0vE9H3U+9V3WImntXPSmIj5o2LB+ke5TVMfSMTGSMRstMCmTo00OmA7xNnC2mYlYurVD4+YWU+rpr9cayKmoG+NcxW95zROTfSD4a4Ti4NpL1c0dzsriZhGdc1p89b9XG16lxp4tllGlKONSsRslFfTs+w7pAamjR5cSyJma4Zs+oyKbe6QxkQsS067yZB1mJm34ThoHUy6n9vb36xEzBqZNmImp9W5pYamRg+uJRGz6eaK+25SmdZELEtOu8mSJdjmbTgOWgeTdcradNaxEjFLtEZKxCxRC3+HbD2jrfHSdUGJoto7cjD8nRhPImbTzW3tbniWRuoSsUJxfhtGegGSmYhZw81tmLqJmIKRLq4qSo6UuIyWiCmI2Qibzb0eTyKmgGdTBBQYrUdKDVd31GqiiZitN1NAtCkvaZyaWJv6ki+/HFzkt2UlEdOorm0IYA1T93O1i6CSFY0gaY6/nB4pEbNjHeSl2wiuNxFTsqTvmF6TevptuoslideSiOm96n2o6LXZSEJaR8Sy5LTb8HM7zNTREI6D1vkgz+S0RvrV6TRSImbrcuSiOgjGm4jp9cg5Oa2EyWK2XUOuJRFTIme796oTw64BuqakMRHLktNuMuR2mNkOg+7nap0PcllO23V9pETMEje1UdRBMN5ETM8v72yDJ/nmXkOuJRGzDUnsnEubVWTH+qQtEfOTsWD9YwtHegGSEwwV9BQk1MNka7DczTWUpLjnyahHSsFNwUNBSaNWFmw0NUX/tvUxSpa0TkXB0w1Ibk+Q+9z2fG5DUY+p2/R8KroY27xtez53DZn7+OHHs+ez+6u3VQmeGg4K7uqpsvcefi+pCIa7Sg8Eu3Kda8F2sm1zWh0A+uysN1PO2A6H5oj7ueo1yi15LQf0u7Cj5ozcU9Iup9XQDHsSfu4oJ/U61FBQ0qfGr/7WtkYOfyeiPHQfz57P7q8GjRqremzbFc/ee/i94HRynNbnq8/O1mHJH/1fPkbFQfkiB+SCpk/Jl7Cj5ow6B5S0Kw4q/oc9CT931HdI63z0vdBjqEFpDdao70T48cOO2/PZ/dWQtmuOXp9do/Tew+8Fp5PjtLUd9Pnrs9S/rcM2HAcVH+Ww/JKrunZHOeo6ZnFQ/oQ9cZ97pLaEEiZ1LCjWq53gnmsX/k6EHz/suD2f3V/rHe2ao9cnl/Te9T7D7yUNTj+z68SioHPh0vOF4gya/EAiRol1aVYw1EXdC4Tn/Z4p72KP0xScxmkKTuM0pZlOByO9pwbXilU20eQHEjFKZoNhT768I+iZehmnKTiN0xScxmlK0xOxXGVDsGnHWZr8QCJGyWwwdA8OfWrnyYU4TcFpnKbgNJ8ppZlOFwrF6XbAM1vZA4kYJbPBMJgicKQFC2dxmoLTFJzGaQpOB6NipeeCkd4+mv1AIkbJbDDs2V1a2YKFszhNwWkKTuM0Bad9nE07rmjUl6Y/kIhRMhkM/Z6prvIrTV44i9MUnKbgNE5TcNod6Q027SjvoOkPJGKULAfDbUHP1CmcpuA0TlNwmoLTTXc62LRDxzPQ9IfYJWI6W4JgQNF5Kc0Ohk8VirM0PUABUdMFcJqC0zhNwWkKTjfTaXfTjt58eQXNf4gLWyX/e951378SDCg6PDIIhuubKd2+fOXQYM9U6blmOX3vPR8c4DOlpMTpnN6DDvLmM6W0yuneXOUgTlNaUebP+6nXA6c7mxqna5t2VA7R/Ie4sETyT5s2/UeH9pcICBkuf3Twr6s33XjzG0EwXNBM6bSFrC0GVy9VM5yePv3GAZzG6RtvmPF6Cpxeqfcw5/a3/+hPXzjLZ5txp2+44abX0uL0vDk/+TpOZ7t8tedb1rEw4JWmbqThbtrRWyjOJAWAuFDWl+Ad/3bxwDe/cYbAkNHS+eGHLRieaYV0OlzRnyKQq6xvltM//VPveQOncToFTqsRfEHv5dGHd/LZZrg8uGp9W5z2krJ1zXJ64ye/wGeb0XL490+og8k6gFsySnV1046mbUQDMG7mW0C8685F1ScLLxAgMlSUqPzKRzZXJ0+e8kbQI7WiFdL15stbgp6pIk5TGu20pjxNmjT59RQ5reSuet111/9YyRijCDidFqevv376a0rGcDpbRddlJwl7xSstGaGqbdqRL5+m+Q9xYqFXzgVfCL/x+uGfX+cvpNWuRpT0FTXmtED2tlm3WyBU2doq4XQ+jRcIL/sBsfvkApymNMrpN8966+spdbrX3tfts+94bdUHP4bPGXF61ptmD6TdaTXKcTobPut67Ph8ptlTEl2GbNqx68Rimv8QJ2YGQfGS8wWhZKO86pUHWi1cbYODrvKeZjo9adKkf+EzxumUOL3BRnspOI3TlAQXfebaPXN6y50ONu3o7Sr10vSHODLDK6s6Bnc16s5CmTy544uz3nFDOSvv1yk62HC5V6a2Q7Se3aWVLTrXI5NOz77n5n/A6VQ6rYbLyiz5jNM4jdOp8nlFOxIw46lcZXkwPfF8oVCc2gEA7WXZ9nkrl26fe+W9X5g/m9poHQqACoSc69E0p6vLHp+zgNrAaZwGnMZpuIo6FvxNO3aXVlIbAG1m6fZ5BxQMl26f001ttJaertLeYKe5g9RGM5yem6M2cBqnAadxGpxErKu8hzPFAGLAikLHVC8IXvR7pbbP+acVhfnTqZXWocWywRSBy004qybzTnvl76gRnE6T0/dun3eGGsHplDj9XZzGaYBMY1MDrHjJ2EZqpbU0+UwxnGbaC07jNOA0TsMQPJ/P4DRAm3GmBlg5S620/AK/I+iZOk5tNMVppr3gNE4DTuM0DHU6Fzj9MrUB0AZCU7iu9kztmLuK2mkdzxaKc4JgOPBkociGKQ12+t7t8/6emsHpRDu9Y+53QnGaKbc4nWinl22f+8+hOM30xBbTWyjON6efKhRnUSMALSY8NcAp9I60GPWyBgFxK7XReKeZ9oLTOA04jdMQSsby5XKwaQfLUgBaTcTUgOq9X5j7hn7e95tzF1FDrbzAVzYGF/hT1EZjnWbaC07jNDTSaTVeqQ2cTknnwtYgThepDYAWMtK0xKtl3gFqqXU8XyjO8ALhFT8gdp+kV3CiTg+fwmXTXv47NYTTCY3T3x0hTrOeF6cT6fSy7XMvjeA0U25bjKYkamqinNb0W2oEoEWMMi3RCgc8txgvEPb5Byzmy/QKNsFppr3gNE4DTuM0DHOaKbcArWaUqQFO4YDnVtK7q/SAHwy7yq9QG01xmoYTTuM04DROg+t0rrKeKbcALebeHXO3KNHyy445xcEzxOYerd3mlWU75m2iplpHoVCc6gXDi35A3HViMTXScKc5KwWncRpwGqfBwZ1yy/REgDYwGPz8dWEbqI32si9Xei7obd1DbeA0TgNO4zROQ9OdzpePMD0RgGCYeZ7KVZb7wTBXepXawGmcBpzGaZyGZtOTK61leiIAwRA6/J6p80x7wWmcBpzGaZyGVsD0RACCIQT05CoHmPaC0zgNOI3TOA0tczpfPjq4I2iF/QEACIYZDoa7SysHp71UzlEbOI3TgNNxdprpiTidDuzAcm1nT20AEAwzi7srl9YiUCM4jdOA0ziN09BMnMOdB/RvagSAYJhZbNpLb1epl9rAaZwGnMZpnIZmo806BkfFKhupDQCCYXYv8DbtJV8+T23gNE4DTuM0TkOz0fb1g+vEykepDQCCYWZxp73sy1WWUCM4jdM4jdM4jdPQ1ESs++SCoHPhinZSpEYACIaZhV25cBqnAadxGqehpclYvnzGHxXLldZSGwAEw+xe4NmVC6dxGnAap3EaWpmIdZX3BOvEDlEbAATDzOJOe+HQUJzGaZzGaZzGaWg28jiYnnhRflMjAATDzGLTXnry5Ry1gdM4jdM4jdM4Dc1GG9BwNAMAwTDz9O4qPRD0TJ2hNnAap3Eap2OYiF3dPRGncTodcbqr1Ot3LnSV9lIbAATDzFIoFKd7wfCyf5HvPrmAGsFpnMZpagOncRpa0rnA2kcAgmHW0YJZpr3gNE7jNE7jNE5DizoXrh7NQOcCAMEw0xf4XKnTXwieL5epDZzGaZymNnAap6GFnQs7qA0AgmFmcae9PFsozqFGcBqncRpwGqehmegcsWDtY5HaACAYZjsg5stHg3M9NlIbOI3TOA04jdPQTJ4vFGd4Pg+o9BaKM6kRAIJhZunNVdYHPVPHqQ2cxmmcBpzGaWg2ctmfnpirrKM2AAiGmeWpQnGW9Uypl4oawWmcxmnAaZyGJidi24JR3kPUBmQBDf2u8MqGVpZ3fHzWUQXDn/ylNx1o9XN7Zb1XlniF09vHDoh+z5R6XRP0sqd7RQdCrsNpSIHTMwKfW+0UTuN0qmI0Tiekc2HnyYXBKO9FagPSioLghqlTp572flbbUW6ZN60652dvqd5023XVdr2GKVOmXJ48efLvef+ejRIjXuC3JqhnavGNN9/wx1OnTvlhVp2ePGXy/+f93I/TqXBaHWTFSZMmvZblOI3TqXJ6sVcOTZo86ftZdtp7//+K02M4nSu9GkxPXEptQNpY4QWB/8cCwvXTrqu+856F1V/4yAeqaz/9YHX9r30s1eWhh++vLl91b/X2ebPdC/2PvZ9slRqBduIKeqYua4eumL7MGbfcessLntev22d658L51Q/cf19mnfbq4kc4nVinNUvhmNNhlKkYjdOpdFqjuvvdToUsxegRnZ406Yc4PWIi9lxwNEM3tQFpYqsbBHPPfL76J397qPqfXunPZPnK0S/7F4Jag2fqlG8GFwwY2tt6xu+Z2l1aGcOXN3vGLTf939apoIv6N4q/i9NXL/R/hNOJcnqWV17RZ3fLzJvf2LRzQ/WP/+brmfU5ymmvHMHpRDmtUZ/TxGicHg9P7y6tCjoXTlEbkBY2We/qI9s+UT329y9mOhC65UsH89Wbbr7JGq5/3sH87SGoR8oPiLnS/rj1ss645cZ/0Oc2987bq7/37X34HOF0cJGHZDh93DrKst5YHcPpl4nTiXBaycUZYjRxerwEZ+RdkdPakIYagaQzPxgCr2797U0EwIiiC8Sts2ZaQDyAMs4FfteJxUHP1Pk4va6bf2LGUbvAH/mrr+FxhNPORZ7pL/F3ulOfleLQi+Wv4jBxOg1OHyJGE6cnCtvYQ5pQT0v1Q2veT+Abpez/s73+1IkgIK5CmyEB8fxgb2tlSUxeknbc8i9gf/AXT+PvKD2uHVfXIrAwPN5On9Vn9RtPfA53x4jT111/3RvE6dg77cfoG2fc8Doxur447ZUrxOkhPm8LdgM9SG1AktHUgCuakkgv69jlsa5PW0BkXrIbEIOFs/u6ynvi8HpuuOmG/12fkxZB4+3oxVmLsBeTY+v0fOtYYNo4cTolTr9MjCZOXwvONvYXqA1IMmv15X73sncR7Ooo2rzk5p+YYbvvLUSfQbQAPAiIZ2LwcmZph0SNXmZ9I4N6F4YHPp/H5Ng6rak3/q5qOFtfnL5xxg0/Ik7H1mmt6RmYOnXKa8Ro4vS1dS5UzvmjYrtOLKY2IKls05dbOxUR7Oory1a+1wJiJ/oMUigUp2prZD8gForz49Bovef9d+NrncXZMnkJNsfS6RyjB+Mr7/3Au68Qp2PrtN8BfPeyRT/E1frLbW+d9UPidKhzIVc54K8Ty5dZPweJRWcwVLUNMoGuvqLzPoJguAF9nJ6pfOVQ0Nu6lc6FZBWNtAROr8XkWDpNnCZOp8lpYvQEytIPLvkBcTqciJXWBj4XqQ1IdCLGAvD6i3qlucAPpzdXWR8ExOM0Wmm04jRxmjiN08Ro4nRTfS4UZ3ouD2gr++cLRc5aAxIxLvDZRUEwCIgDCo44jdM4jdM4jdP4jNPNRIc6q3NBhzxTG0AiRjDMekA8Hmwnux6ncRqncRqncRqfcbqZOIeVP0dtAIkYwTDrAXFLMO2lD6dxGqdxGqdxGp9xupn05CpLg2MZXqE2gESMYJjtC3yhOD+4wF/WDl04jdM4jdM4jdP4jNPNItgN9FJMdrgFICASDNuLzqjxt5PdXVqJ0ziN0ziN0ziNzzjdZJ+PDE5PrFA3QCJGMMx4QOwq72nzfG2cxmmcxmmcjq/T+IzTDaUnX9kUgynkAAREgmEMLvC5ypIgIJ7HaZzGaZzGaZzGZ5xuqs/dJxcEPl+kNoBEjGBIUPQu7v587V0nFuM0TuM0TuM0TuMzTje5c+FcMD1xCbUBJGIEw4wHxNJ+/wKfL3fjNE7jNE7jNE7jM063wueefHkHtQEkYgTDTKMF4ME0gTM4jdM4jdM4jdP4jNNN9TlXWhv4fJzaABIxgmGmKRSK07U1soLis4XiHJzGaZzGaZzGaXzG6WbRWyjODBKxK3KbGgESMYJhptHuRUFQ3IrTOI3TOI3TOI3PON1kn0/J56d3l1ZRG0AiRjDMdu9UrrK+TdMEcBqncRqncTq+TuMzTjcnEbNjGbrKT1AbkKlE7C1ve3OtbP3tTUN+d/+v/ELtd++8Z2FDAtLaTz/oP96mnRvq/hvdV3/zgfvvIxi2gOcLxRleQBxQ0ZSBJDm9r3/PEKf3HNg55PfLVr639rtr9cmKHkePl3vm8+P+HugnTuP0aEVeuU7v/7O9Q36/8O67ar+7Vp+sKN7r8fR9amZsx+nEOd2Qdodd0630nzxQ+92f/O2h6u3zZjfcaXu8bxR/t6mxHacn2LGQL69o41pegI6OpdvnrF+6fW5u2eNzFrQyIAbBwS9qpLq/u3XWzNrvFIwaEQx/4SMf8B9PgWm8Qexn3vfTBMNW9U7ly8f9XblylfVJcvrLf7h7iNMPPXx/7Xd//Ddfr06ZMqX2u2v1yYoeZ7yv274H+onTOD1a0d+6Tj+y7RO13/3et/cN+d21+uQ2WvV4+j41M7bjdOKcbki7w/mM/fL4vq0jxvBGOW2Pd/C/PNfU2I7TE8Nd9/hkoTi7hTEaoCZPtydPVeXe7fPO1CFSQxOx66ddV73hxunVY3//on/7V45+2b/dGq4kYtnCOe3+SJKctou4fNbPuXfeXvtd4as7hjhNIobTSXDaEjHFZ/285/131373a4XPDHGaRAynm+x0QxMxc3rVxz5U+92vfu6jJGLZ7Vh42d/GPldZ1wifvfJ3JGUwUXmqdQTGhiZiFnBsKoqmDuj/mvYSlYjtfaEwbJpXeMqMphsowOr3ahB/ZvsnIy/W6tVdvupe/36akqApke5UBRKx1qOduIIL/OWJ7mLUDqctETMv9e8Xy1/1f6fRMdfpsE9K1NTIdT0MT2PRRdxcveOuudUvPPlrkRfrZ458qfZYcv/jn+30R+RIxHB6oomYpguq4aqi6Vv6nVx0nQ77pL+1aYbyUN8BN7Zap5u5eteiO/3vQVQi9qWD+dpjyX25Zx13JGKZcbqhiZi8C7cvzOU7F84f5rR8e6zr07XpuOahG1ttivq7l72rtqxC/49KxDQSZ48l9/XYJGJtTcS2BSO8B1vYloZWc98X3rZ46fZ5G+JWlm2fezRKnlFEamgiZoHi4a3r/NstQKoBGQ6Uu7/ym7Ue2Ftuvbl608031Xq3LJFTwLRAqtEJBTQbdXMv1gqKdpsaCmoA27+tsdHIROym266r/uQvvelAHB2IW/lS/tj/UFB8dOfjzyTFaTcRs4ahPZ4u2q7Trk+6ANt3QVNyzUn9+w/+4mn/Pkf+6mvVWbPf5N8u53WB1/fA7mvPoyTMRuT0HbC/cZ+vkYkYTrfX6Xu/MPeNZjptiZj8sbhsCZI8lINaRxP2yTxXkYPuKLElY278letqlOrx7L72PErOLObrPjZt/UNr3t+URAyn4+n0LfOmPdPIxETOyEf9W3FWMVaeyeuoGKkO3w5nuYQ5qVhs7QV1CJu/8l4x2P7vJmLuaLJ1ctj1oRmJ2M1zpuH0GGXd47+a86cm5v/Ld1vYloa4jDwlrdz9mdn/MP3WqQ1LxKwBq8CjJEpBSQHKpnNZIqZgZxdh9a7qvioaHbOGpzsNTAFQI1428mUB0S7WupDr/7Zxgh5LPVm6TYGy0YnYnJ+9pZqGz78V5ZGdv66e1uqv7fytxDjtJmLWgNWFXKNi1th0G7b6G/3OvLT1N2oQWM+srZ20ZE2dDzbK5q5nsNdtF2+7oKu31pJAfS8anYjhdHydnn3Pzf/QyERMfurfmr6lhN8SI7dha43RjtD6GyVf1ujVaK+brKkDzEYV3DVplohZB5nFZD2WXQc0otboRAyn4+v0O9a9ufrY7zzcsERMLppb6uS1mBuOkW6bwrxUUmUdXdaJbG0KNzlz16Tpb3S7dSDrOe2x9Nhq91hHRSMTsZ+8/034Wkf5Uu5bvs+/sP3e1jznjrnHSchanYg9PmfFYDIWs7JjTrEOYb7jZfwHlm2ft3Ly1I4vNnJETIFJQUhFO83ZBd5t2LoNTwUrC3Iq6s1yA91IyZMFNrtY2xQYNQj02Cqr16/yb9O0m0YnYrfMm1Z9x8dnHY2lAzErqx//xWeC3qnvL9tx5xeT4LTrqzy05EuNUUv4w4mY/U4JlvtYmoplrquDwBoG7iiA20i11229tJrea05bT65tHtLIRAynY+b09rkXa05PvnanXV9tipVisyVlip3hRMx+p+lWUY+lxqv+b51e7iiAdcRZIqbpuW5SZ05bLLddEhuZiOF0PJ2e/e6b/3DS5MaOiFn81fXerv1yKhwjw+0CK0rAXNfDnQbWceC2T9ypiuazinWY2S6JjUzEbr3rBpyuo+R2Hfw7+bxlZ/e3m9WWXrZ97iWL0SsKHVPJjGCskbrvjiBMQ6cmukHHRgIsOXITMQuadiF3L972WFo/ZutxwkEzfLHucBblhos1lFkj1j568uWz/uLZ3aWVSXA67Ksl+ua0Ls7hRMwareEjGiyRU1Fj1Nx1d2IMX6zdv4kq1qhgjVjKnHY6FBrttOurO1tBDU/dro6zcCJm/w/vhOuO4EZ1jEVt1mEbN41U7G9ZI5YJpxu6RsydraARKhuxlXPhGDlSzLTvRzjmh1+jm4iFd2YMl/DsBtaItXCdWK6yIVj3eKyhbekd8/512Y65XyP5grrkqTNbb3giFt5S1nqJ3CBn02FU3EXf4dtH6pG1xoNdrK33yj2nw10ATiLW5qAYHLLYk6scuEan/7kVTod9tYu3FU2PDSdics8aAq57drsavnauXlTngkbS3Ndt0xz1nRjJaRKx5Ds9SodCQ50O+2rrxGy0VlMKw4mYNkbqCO0a6t6unn/9/30r3uP/X6MNUcc86PtkDWXrkBjLaRKxVDvd8ERM/7cEzOJwVIy0zl2N4obPr3Nvt7Xpcj2qU03/dtsrrsdhp0nEWo+2rnc2oJl6LT57idflZTvm/WEbkq+9XjnnlL6I+/SF7rM34j7nQmUrhjSRe3fM3TLOodKGJ2JuL5Eak5p6GG7YKlBZ8qSLuIKa1iPYiINtrewGOjsoWj/DvajWuNVohNbl6DmVrKlxa39HItY+enedWBwExYtJcDrsq7veRVMUoxq28s7WC2iXTzU8NXXFPLf1NJaYqZGqUQh9F2xajPu6raGs6Yi6j23yoee3A6ZJxHB6oomYdXJ1BCO9UQ1bxWVLprSeTE5rqq2t67K1kLbuUf4rZiv+WkzucNaI2ZQtJWxyWgmZOij0PWvGGjGcjq3TTUnEXOdsFDccIzXTxu6jmQ2Kq1o3Ft4syRIzuaklE+pYsDXslojJYfsu2NoyeazvjJJC29CDRKw92AivDnluQYxuBgc7ho6yFiPuUwzdJ2qnyPBobTd2xIuGJ2K2Tsy96IcbthYQLfi5RQHMNjFQUaM2fB/rrbKLte5vi23dXRXdnb1IxNrc25orvaqg+FSusjzuTod9dXtCbUOYcMPWkiz3sGfXV3drZFtT445IWG+uvW51TFhip5/mtDoYbF0liRhOTzQRc9e32NqucMPWjiCJclodBdbzbx1f7u8twXITMTfm206N4dEJErFMON2URMyWPHRErDkcaSdQt1hsD29K43bCWUy2JCu8+7P9210DTCLWpkSsq7TX71joKu9J6FsgESMRG1+AcC+c6mnS/63n3jbesOBoRQmUelp1UdfImHpY1UMVfnyNaun3CpS6mOvCrsdzz6dR4LTHUtG/3WmP9jcEwzZd4INpL71dpd64Ox3lq9zUbfLPej6jfFLvqXpT1biUsxotcDeksRFhPZ7uowu2RhF0Qdfj2ciAvQ57LDmtv3ETOvsb27ELp3F6pBL2VQ5a3LazGy1Ghn3S32oUSw1KTanVuXfh6VfyUqMCclUjE/oe6Ln0eO6ZS5rWK6f1WBph0PfDfSxzejyHQON04pxuSLsj7Kuu9+a0TX8dKUbqb9XJKw/VroiKoXo8JW26j6Y06jF1TdDjue0UxW85b07r+xHuBAnHdpxuPk/vLq0KRnhPkYiRiKU+EctSIRhODGfay3mcxmmcxmmcjmEilqssaYHT+IzTTUeHk3seX/E7FgrFmQl8C53Bd8VK1Oe+IXSfzhG+b25ZgR0kYgTDrF7kvYt7Uqa94DTgNE7jND7jdKJdPh5sQLOO2gASMYIhIwhdpd6kTHvBacBpnMZpfMbp5NKTL+/wXc5VDlIbQCJGMMw86mH1p73kKudwGqdxGqdxOs5Ol17FZ5xOMs/sOrGoRdPHAQiIBMNkwLQXnMZpnMbpTDuNzzjdSpcv+C7vPLmQ2gASMYJh5rEtZZn2gtM4jdM4nUmn8RmnW4amJQajYtuoDSARIxgSFK/uNHdhIife4zRO4zQFpxPtND7jdOs6FXKVdYHLx6kNIBEjGELH1UNDe3aXVuI0TuM0TuN0ppzGZ5xuXadCoTjT83hAW9k/XyjOoEaARIxgSGDMl7uDLWUP4DRO4zRO43SmnMZnnG61y2V/qu2u0gPUBpCIEQzpae0+uSCYKnBJhy7iNE7jNE7jdGacxmecbik9+XIu2Al0P7UBJGIEQ+jwdzI6EwTGTpzGaZzGaZzOjNP4jNOt9ThXWdKCY0YACIgEw0Rd4LcFva19OI3TOI3TOJ0Zp/EZp9vhsr+Nvc4WozaARIxgmHmeLRTnBBf4Ri+gxWmcxmmcxun4Oo3PON1ytNbRX/OYL++gNiB2idhjXZ8m0NVZ1n76QYJh43qoioMX+cpGnMZpnMZpnM6E0/g8gfLQhvt/iNPXkoiV1vobduTLZWoD4oR6Bqof/2wnga7O8oH777ML/Dr0uTZ6c5X1QW/rKZzGaZweveGqHnF8ra+8/5eWDuB0bJ32Y/TaT6/+Ea7WX5Z+aMm/4vTE0YiuRna1lf1TheIsagTiwnp9sZetfC+Brs5y58I73giC4XL0uTa0E5d25NJF/qmdJxfidHvKHf927gBOx9pp9YBXP7Tm/fhaZ5nz9tu/j9MNdfpyA532Y/S773vXJVytv9w+7y3/gtPXhufwy8GmHYwqQmyYoy/2DTdOr/7J3x4i2I1RvlH8XRs5uOyV6ejTgMCYK+335213lfbiNE7jdCSL9Rm95W1vxlmcToPTfoyeet3UHxGjcbq1iVhlY7BO7Ci1AXFC82WZrz2+dQeH0KYx9OQqS4NpLxcKheLURjzmpCmTTuA0TqfK6cmT/pc+p2eOfAlvxygffeTB13E69k777Y7P5R95HWfHtT4Mp68Bd/OZJpz3CDBhdNJ49dZZM6svlr9K0Buh/N6396kHTxf4gaCHGhp1kc+Xzzb4rBqcrtfpqVNew+lEOO2vE3vfivfg7hhOT5kyZQCnY++0H6NvuOmG7xGjcbqVaK1jk857BLgmXlZQfOc9C6vH/v5Fgl+oHPmrr1Vvv2P2a0GPFCezNz4w2lk1x3C6dU6/9Y63/BinE+P07I7BaUnVx/dtxeERnJ4957YrOJ0Yp/0Yfdeit3+PGD2y07e9ddb3cLqhHQo5f3pirnKA2oA4oYv8OWu40kN1tfzBXzxdvX3ebNvM4LRXZqBLY9EORtrJSOXJQnF2o5yeNGnSP+J0tNNOEobTyXHa37Tj+unXv1b46g5cDjntJGE4nQyna+2Ouxbd+X1i9HCnb7v9zd/H6QZ7vPPkwqBD4WKjpo4DNIqFFhRn/ptbXtf6miwvpP3jv/m6v130DTdOtyTsTHDhgOb0th4Jzvjobo7TP/EGTg86Pf2GaT/G6cQ63avPbtLkSa+v+eQvDajHPMuNVd/pLR97fdr0aT/C6UQ6XYvRN9184w+0ZizrG3jI6U9sWTtw/fTrf4jTTfI4V3rVHxXbXVpJbUDc0Jf95eDL7/e8ahtwncmkRuxvPPG5VJdNOzf4mxe8+753/ThYO+NuZEBvVDN7qXKV5c5i8OnNctprsL3eLqd/84lfb5vTi5ct+hFOp8bpPR2D60X8tSOLl73re+2K0e10+u57F/0gWDuD08l2ekiMvu7663783p979w+y6PTPvO+d38fpFiRiXeU9TE+EuKOFtGUnGGSxDAQXB87saF1v65kmnvHRVqfvevs91XsW/SJO43SjWBx8lgM4jdPtcFoHPaet3YHTGelQYHoiJAid96Fgu6NjcNeuVpUvBgG5uw1lW8fgyfWcvN5idGEPguOZNDk9+7a3731i+3++vHrlY0dxGqcbzKzgs21pjMZpnG6i021pd+B0NjsUmJ4IEI2+GFp4zbzoDKGpLpryEqxBWJGS9zTVez/HmzjSBwlxWtO6cBpwGqeh/bB7IsDo6IuhIfovUhUZDY4pOflei9qD3mMu8DiN09CRJgdwGpLKvu6TC5zpiRzuDOCg+boXg0Tsn73CFyRDaFtknXqvLZJ7C8X5iW6A7y6tDLZ75gKP0zgNOI3TEKdkLF8+PTgqVlqb1Peg9W5Jfv0QT1Z2DF24upEqyRaaKuBPT+wq9Sa8oXKhdnHnAo/TOA0pojdXOZgGp3vzlf8XpzPqcL68pcGHlLc+Jucq53AWGs2BUCL2f1El2eKZXScWBT2UV54tFOck7fUPWW/ABR5CTjfwgGecBpzGaZggwSHlVxp4SHnLeL5QnNHbVf4/cBYajTst0S2rqJpsUett9X4m7rW76w24wANOA07jNMQSO6TcK9sS+rpxFhrKyo7oczVepmoyFhwHF9IO+MX7d1Jet9Yb9ObKr3GBB5wGnI6v0/vylddxGnp3lR4INp45m5jvXVf5CZyFZnGgY+RDDhdRPRkLkAnrbR1cb1D+p8iLO8ESkup0rvIdnIY0Oe0lYd/FaRDBFNULwVb2S2OfhOUrG3EWmoWmJX5nlESMsx4yhrszV9x7WyPWG7xOsISUOf0GTkMYreNNsNMkYqARpj3B598X59c5bIdPnIUGs3KUJEyFA54ziHbkSsJ5Nf4FPlfq3JevHPJe72Uu8JAqp3PlH+M04DSkkaCDzJ9iG9cNwrRNPW0LaDYHxkjEVLqppkwGyCv+1Jd8eUUSXvOXuyrv9C72rwXrar5HsIQkO61Rjp7BRsqPPIfPDGkM4DTgNKQAjYb5n39X+YlYfr+0TT2juNBktgSJlkoxSLyOOrepbKKaMhkgtwXB5lyhUIz1Ad/+wt8gYKqXWK/XemA5dBGS5rS2SPZe5yn3vCicBpyGtKH1YUFiczFO/rq+kohBK+kOEjHkApvXf9qf+tJV2hvLBKxQnGmL1oNS1BklfHqQVKf9Xtiu8itBL/Er+Aw4DSnvTBj0N1/ZFKPvld9J0JuvvLAvV/4BiRiQiEF7Ep1dJxbXtknOVZbE6bUFPVang6B4KU5BHHD6mp32GqxJPLAXcBqnYVyJmD8q6l/HL8RxVNd7TTP3dZXODyZfzhpHEjEgEYOWBMmrZ2ecUe9rTALj1N58uWwX97gu9AWcnqjTNFgBpyEz/nreBv5ujeFr0zq2S3L4t3/7f3sb02mBRAxafTGdbtNKvItqdwxez1TndPsLvYXifD4lwGnAaZyGhCZiMR0V06iXzbqhIwFIxKBtPJWrLLdzNHpzlfVxubhra1k+HcBpAJyGhCdjV0fFtsXh9QRn9V1iGiKQiEEs0BqsIEgO6ILf6udXb1Rtmot3cdduS3wqgNMAkU5fiYPT7XgNkEx0BIONPrV7uUFo18QjfDpAIgbxuMh3lfbaBVZnwrTqeZ/eXVrlP+fgc5+nhxVwGgCnIV04I6ltS36CEd1j7PIJJGIQ70DZgsXXmiuuM2ecLWOPM08bcBpgzIYkTkPiGDodsNTZ1u8O02qBRAziSGjIvmnTqfzFu1dPtR+Iy7xxSL3T53EacBqnoT0402vPt3I0KvjOHCcJAxIxiD3+AZ1XA9ZAb768pVGPHZyJ87LTu3pat1HrgNMAOA3px1lneLwVxzEE35VTJGFAIgaJwR/Cv3p2TVXnalzLdBQt1O3Jl486F3b/kOa4nIkDOI3TgNM4DS3rRLgQTFF8rpnPpdFijb4Fz/UqSRiQiEGiCM7/uGw7dXn/31/vAnHdz7uo55xta1Uua70BC2QBpwFwGrLqbGWJ42xTDnrWKLEd+eCVImsbgUQMkhkwBy/UR52A5vcsBYtet/mHIgYl2NHrWK0H6mq5qINIewvFmdQo4DQATkO20Xl45p6cbNTI6zO7Tixypj829LEBSMSgrRd6TSNwerHGKhd7cpUDPbtLKwmCgNMAOA0QkYz5nQfqSLiWTgD/nLvBHT4Hakc8tGF3RgASMWg6fo+TAqh3wfd+HrTiT3HRNJkWnm8DgNMAOA3JRAeDq0Pg6rrE8g4dm1B350OuskRe+9NybfMaLyFjZBdIxAAAAAAARkumNJI7dKdOJWZ9mkqrDTa8pGq+tqDXqJc24FAHg0ZyQ9NrB7RhDTt8QlxZESRjCAoAAAAAsUI7dzpbzddXcpVzWgemZI0aBAAAAAAAmCCDm89UNvkb0GjTmcGDxS8HI2VK1Po0xVbTb6ktAAAAAAAAAAAAAAAAAAAAAAAAAAAAAAAAAAAAAAAAAAAAAAAAAAAAAAAAAAAAAAAAAAAAAAAAAAAAAAAAAAAAAAAAAAAAAAAAAAAAAAAAAAAAAAAAAAAAAAAAAAAAAAAAAAAAAABwmO+VFQ0o86lKAAAAAACA+tjvlWoDyiaqEgAAAAAAoD7ONCgRW0xVAgAAAAAAjM10rww0IAm74pWpVCcAAAAAAMDYzPJK9wjlVETC1TvCfbdQlQAAAAAAANfO8VASdpkqAQAAAAAAaC6XQolYkSqBpPLo6sMLN63u73x0zeENm9f0r9+0pm9JYUWR6bSQCj770IuL5bX89lxfjtuQND7z0RfmPLqm7wHfYa9s6uxbJ69xGQCyyMKO4dMS91ItkCQ+teLg9E1r+rd6Sdc5r1QjyoXNnYfZ7RNij+fq/pC7h9RAlb/ev8+H3fYatK+q84GagzjjOPzKCDFa5aLnc7fiOTUGAFlhfUQitpZqgaTw2JqXFmzq7Ds7ysXdKf291BjEOxHrP+M6u3n14Se8n+Ux3D7/qYcOzqT2IJYx+pdfmrF5zeHj9cVov5RJxgAgK/RGJGLzqRZIxAX+/pdma7Qrqmc16Hm9Ev6dpnVRcxBHBkd2+wbGGDF4NfJ3q/s2UoMQy86Fzr6DIV/l+CnP2aL383SU8+qAoOYAIAuEd0y8SJVAYi7wgxdy9wJ+WesNag3bhw7O9G47FrrPK9QcxJHPre5fOtKIl9Y92v2CtY+M9kLs0XqwkKtXtB7MvY8/q2HYqG//JdaMAUDaUZC7EkrEjlEtkIgkzEu4hvWidr64Kny/IBm7PGRdDWtqII5OD65zDCdh5zTyO/y+jCBA/PG8XBse1Y1KsAaTsf5erSNTh4SmM1J7AJB2FncMn5bYTbVAMhqt/pQWZ8rh4eOj3LccarSyDhLi6PShYQnWQ30rRuhcCHVCsBkNJCIRq/ozGVb3d7IODACyzpaIROwBqgXiTrA2bOjucZ19Ix42Hl6joC2TqUWIYSIW3lHuVOT9HuxbGTFytoQahLgRTE0cad3jlU2d/Uc11ZYRMADIIgciErFZVAvEvsG6ur9zHDtwVYdv+U0iBvEiapRr0+q+HVH39fzdFm7QMroAcUVb0texo+0lTa8lIQOALHE2lISdo0ogCQTn0VxDItbHyC/Eq3MhYpRLa2Ui77um70jovqepQYh3MnZ4Q9Q5eFFb15OMAUAWmNExfDTsCNUCiWi0ru7bEbFb4sF6i6bLUIsQr86F/lx4lGukXePCDdpH1/Q9Rw1C3PEPdR5cM3Zs1GMaOvv2UlsAkHaWRyRi26gWSESjdfj23YzmQrI7Fzr7j9YzyvXo6sOzmGoLScf3eHXfxvAB5hwxAgBZYVtEIraCaoEkoHNohjVGvQt7ZAN3dX+nbYmsdTjUHsQyERs2bSv6XDBNqx22Y+ID/YuoQYgTmx/qm6/jRIIjGfZrndgo7pfpWAOArHEkIhFjXjYkqeF6buiW9P0HhjVaVx9eHj5DjK3rIW5EHHpb1ajvCN7vCU/LpQYhhvE5fBTDQNRRDJquOJ6jSAAA0sK5UBJ2liqBRF3o/Wktw6a0HPNHDB7sW6kduMJJmHpeqTmIn8vDdwEdaZQrWF+D0xBrglkL4XVglxWXNVKmpCzYwONUxOHkdJYBQKqZ1TF8NOwA1QJJw7uQ941jt8RXdP4YtQaxS8SGjXL1Xxr5vv2X2NgAkuG1Py1xvEeL9FFzAJB2HohIxLZQLZA0NK1FO8bVcYE/RhIGcUVTseqZmvXYmpcWMHoAiUrGBmcuXK4jRg9oXeRIO4UCAKSJVV45GCoLqRZIKsE0mP2bOvvOBiMGl/1/d/Yd1Doxaghi3Vj1GqDu8QojrQ/zPecoBkgYgzt99m/VzqCPrul71RnV1QY1p/zpimw4AwAAAAAAAAAAAAAAAAAAAAAAAAAAAAAAAAAAAAAAAAAAAAAAAAAAAAAAAAAAAAAAAAAAAAAAAAAAAAAAAAAAAAAAAAAAAAAAAAAAAAAAAAAAAAAAAAAAAAAAAAAAAAAAAAAAAAAAAAAAAAAAAAAAAAAAAAAAAAAAAAAAAAAAAAAAAAAAAAAAAAAAAAAAAAAAAAAAAAAAAAAAAAAAAAAAAAAAAAAAAAAAAAAAAAAAAAAAAAAAAAAAAAAAAAAAAAAAAAAAAAAAAAAAAAAAAAAAAAAAAAAAAAAAMCL/P7eL0IbM9FUcAAAAAElFTkSuQmCC)\n",
        "\n",
        "Setiap kali Anda memanggil model, Anda memasukkan beberapa teks dan state internal. Model mengembalikan prediksi untuk karakter berikutnya dan state barunya. Masukkan kembali prediksi dan state ke model untuk terus menghasilkan teks.\n",
        "\n"
      ],
      "metadata": {
        "id": "lHsFFgEBMAy3"
      }
    },
    {
      "cell_type": "markdown",
      "source": [
        "Berikut ini membuat prediksi satu langkah:"
      ],
      "metadata": {
        "id": "uq4EGb8AMShB"
      }
    },
    {
      "cell_type": "code",
      "source": [
        "class OneStep(tf.keras.Model):\n",
        "  def __init__(self, model, chars_from_ids, ids_from_chars, temperature=1.0):\n",
        "    super().__init__()\n",
        "    self.temperature = temperature\n",
        "    self.model = model\n",
        "    self.chars_from_ids = chars_from_ids\n",
        "    self.ids_from_chars = ids_from_chars\n",
        "\n",
        "    # Create a mask to prevent \"[UNK]\" from being generated.\n",
        "    skip_ids = self.ids_from_chars(['[UNK]'])[:, None]\n",
        "    sparse_mask = tf.SparseTensor(\n",
        "        # Put a -inf at each bad index.\n",
        "        values=[-float('inf')]*len(skip_ids),\n",
        "        indices=skip_ids,\n",
        "        # Match the shape to the vocabulary\n",
        "        dense_shape=[len(ids_from_chars.get_vocabulary())])\n",
        "    self.prediction_mask = tf.sparse.to_dense(sparse_mask)\n",
        "\n",
        "  @tf.function\n",
        "  def generate_one_step(self, inputs, states=None):\n",
        "    # Convert strings to token IDs.\n",
        "    input_chars = tf.strings.unicode_split(inputs, 'UTF-8')\n",
        "    input_ids = self.ids_from_chars(input_chars).to_tensor()\n",
        "\n",
        "    # Run the model.\n",
        "    # predicted_logits.shape is [batch, char, next_char_logits]\n",
        "    predicted_logits, states = self.model(inputs=input_ids, states=states,\n",
        "                                          return_state=True)\n",
        "    # Only use the last prediction.\n",
        "    predicted_logits = predicted_logits[:, -1, :]\n",
        "    predicted_logits = predicted_logits/self.temperature\n",
        "    # Apply the prediction mask: prevent \"[UNK]\" from being generated.\n",
        "    predicted_logits = predicted_logits + self.prediction_mask\n",
        "\n",
        "    # Sample the output logits to generate token IDs.\n",
        "    predicted_ids = tf.random.categorical(predicted_logits, num_samples=1)\n",
        "    predicted_ids = tf.squeeze(predicted_ids, axis=-1)\n",
        "\n",
        "    # Convert from token ids to characters\n",
        "    predicted_chars = self.chars_from_ids(predicted_ids)\n",
        "\n",
        "    # Return the characters and model state.\n",
        "    return predicted_chars, states"
      ],
      "metadata": {
        "id": "A9g_vaTxMCFC"
      },
      "execution_count": 41,
      "outputs": []
    },
    {
      "cell_type": "code",
      "source": [
        "one_step_model = OneStep(model, chars_from_ids, ids_from_chars)"
      ],
      "metadata": {
        "id": "hCy3YpVqMVaL"
      },
      "execution_count": 42,
      "outputs": []
    },
    {
      "cell_type": "markdown",
      "source": [
        "Jalankan secara berulang untuk menghasilkan beberapa teks. Melihat teks yang dihasilkan, Anda akan melihat model mengetahui kapan harus menggunakan huruf besar, membuat paragraf, dan meniru kosakata menulis seperti Shakespeare. Karena sedikitnya jumlah epoch pelatihan, model belum belajar membentuk kalimat runtut."
      ],
      "metadata": {
        "id": "ypWjjKbkMXia"
      }
    },
    {
      "cell_type": "code",
      "source": [
        "start = time.time()\n",
        "states = None\n",
        "next_char = tf.constant(['ROMEO:'])\n",
        "result = [next_char]\n",
        "\n",
        "for n in range(1000):\n",
        "  next_char, states = one_step_model.generate_one_step(next_char, states=states)\n",
        "  result.append(next_char)\n",
        "\n",
        "result = tf.strings.join(result)\n",
        "end = time.time()\n",
        "print(result[0].numpy().decode('utf-8'), '\\n\\n' + '_'*80)\n",
        "print('\\nRun time:', end - start)"
      ],
      "metadata": {
        "id": "7orWfbPqMXxc",
        "outputId": "8d2333d5-c98d-455e-b70b-229e1cbe7380",
        "colab": {
          "base_uri": "https://localhost:8080/"
        }
      },
      "execution_count": 43,
      "outputs": [
        {
          "output_type": "stream",
          "name": "stdout",
          "text": [
            "ROMEO:\n",
            "And thou, provost! so we do not so, Fellow, give;\n",
            "'Siciar, becomes some other fix'd,\n",
            "A bank of wood, the more importice:\n",
            "Engeam in Rosaline's braw into\n",
            "an agres, and tell him and refugged no more of\n",
            "treacherous.\n",
            "\n",
            "Clown:\n",
            "Then he gives strange.\n",
            "\n",
            "ANGELO:\n",
            "I was born more poison, but hold the difty,\n",
            "Who slew to-day thy life:--absence did so stand,\n",
            "I'll awe until Tybalt, hies you for your turn.\n",
            "Sweet Claudio, Expedition be thy wiving\n",
            "A brand to the easy mighty strong togate\n",
            "Than doth it under having hearts have stay;\n",
            "The condition of thy pityous swords,\n",
            "For the enemies of the king.\n",
            "\n",
            "YORK:\n",
            "'Tyou like on Rome, son, thou dost slumpet:\n",
            "Do not much less on Thunting Labbast:\n",
            "Plead the side they too, the wind success fools,\n",
            "Hourt into the trust of victory.\n",
            "Nay, you shall Dinneloo well enough.\n",
            "\n",
            "CAMILLO:\n",
            "Sir, my master had mercy;\n",
            "I must believe it.\n",
            "\n",
            "MERCUTIO:\n",
            "I am thus: this is he unto?\n",
            "O Christlay of Exeter, he's suit and he.\n",
            "Thinking on without disducking, and I roy:\n",
            "Put you have heard the nuptial \n",
            "\n",
            "________________________________________________________________________________\n",
            "\n",
            "Run time: 4.00800085067749\n"
          ]
        }
      ]
    },
    {
      "cell_type": "markdown",
      "source": [
        "Hal termudah yang dapat Anda lakukan untuk meningkatkan hasil adalah dengan melatihnya lebih lama (coba EPOCHS = 30). Anda juga dapat bereksperimen dengan string awal yang berbeda, mencoba menambahkan lapisan RNN lain untuk meningkatkan akurasi model, atau menyesuaikan parameter suhu untuk menghasilkan prediksi yang kurang lebih acak."
      ],
      "metadata": {
        "id": "Oyqkh81iMaNM"
      }
    },
    {
      "cell_type": "markdown",
      "source": [
        "Jika Anda ingin model menghasilkan teks lebih cepat, hal termudah yang dapat Anda lakukan adalah membuat teks secara batch. Pada contoh di bawah, model menghasilkan 5 keluaran dalam waktu yang hampir sama dengan waktu yang dibutuhkan untuk menghasilkan 1 keluaran di atas."
      ],
      "metadata": {
        "id": "nSCYEOzkMbRC"
      }
    },
    {
      "cell_type": "code",
      "source": [
        "start = time.time()\n",
        "states = None\n",
        "next_char = tf.constant(['ROMEO:', 'ROMEO:', 'ROMEO:', 'ROMEO:', 'ROMEO:'])\n",
        "result = [next_char]\n",
        "\n",
        "for n in range(1000):\n",
        "  next_char, states = one_step_model.generate_one_step(next_char, states=states)\n",
        "  result.append(next_char)\n",
        "\n",
        "result = tf.strings.join(result)\n",
        "end = time.time()\n",
        "print(result, '\\n\\n' + '_'*80)\n",
        "print('\\nRun time:', end - start)"
      ],
      "metadata": {
        "id": "gE8lgTZZMaZn",
        "outputId": "9fc531b0-98c5-48b1-c2f0-c5e98a6ece65",
        "colab": {
          "base_uri": "https://localhost:8080/"
        }
      },
      "execution_count": 44,
      "outputs": [
        {
          "output_type": "stream",
          "name": "stdout",
          "text": [
            "tf.Tensor(\n",
            "[b\"ROMEO:\\nSignior Baptista, it doth she hast too much;\\nFor doth return true and leave te deliver\\nThe tongues on Warwick, that he withstood\\nKathaling, though they west, ere I with you\\nAs make you froward; with themselves?\\nAlbot, till soon my death proved to read\\nAttentive that valour in his regard?\\nThat ever I was born to our remember\\nShould know it and fearing in his sovereign's skulls;\\nAnd by his son and may not something hither\\nTo vall in substance of her bed, 'Hexate;\\nForswear thy mother and her father 'Twould be more,\\nMake way rulethenh hallow five; and that have done\\nBold and Richard; thou shalt live?\\n\\nGRUMIO:\\nWhy let me heark to know it, yet I beg one be\\nking of those that ever well addempt.\\nWhat cares this island?\\n\\nPOLIXENES:\\nSpeak this fair children, I beseech you\\nin your commission, and the business reign and charge\\nThan they have heard in many.\\n\\nPOMPEY:\\nAnd you, my gracious sis!\\n\\nShepherd:\\nAnd masters do it hinded then 'tis back:'?\\n\\nA Player:\\nA mighty feeling arms, madam Juliet?\\n\\nJULI\"\n",
            " b\"ROMEO:\\nBut when go take it not, lords,\\nNo quakes of grief; process of ten.\\nShow months, smagh service by the hand into his brother\\nEncame thither to accompany, in herbing\\nBy all cockinal, in a true-chile,\\nCame down till his along with you:\\nwho not the bruttle fire; for I\\nknow thy gold, what you that your son o' God's daughter.\\n\\nGREMIO:\\nHark, what's that, none; but yet may jest with money?\\n\\nANGELO:\\nHark, ho! Liet every one another.\\n\\nLUCIO:\\nI would you give leave, or oren! cousin; I will take her heart.\\n\\nESCALUS:\\nAlas, this is the time between us,\\nWhich in a their duke's treason with this world-confess,\\nA most dislike and gold and person;\\nOne worthily, is thus replied, and leave us stand\\nFor at the less fount him so far free us?\\n\\nGLOUCESTER:\\nWelcome, good Camusion: thou shalt rest condemn'd\\nYet I will make it pleased with ligs: such as I have\\nThou and the sudden wall, and therein good fellow,\\nBroud my oldness prove broke, we should have his daughters'\\nHere in Yorkshire brought you here prolixe\"\n",
            " b\"ROMEO:\\nWhat is't, mad? home, prince, as thou mayst talk is no odder,\\nAnd I can change thy tongue, old fashids in a doubt.\\nBut let her shade the time to think what no man speak\\nAgainst thy letter is ennothing which God Norfolk face;\\nRistal seat with rageance of thy poverty,\\nand that took and court have found wanton'd all to death.\\n3 KING HENRY VI\\n\\nGLOUCESTER:\\nThis is a baspard, then; thou vow'd like his depatt.\\n\\nPOLIXENES:\\nMark her,\\nEven so offer'd a thought,--\\n\\nSEBASTIAN:\\nLet become him.\\n\\nTRANIO:\\nGive me that mad: boots, help to ope be but\\nUnto the soldier? What sinsmen will to\\nMarcus; ne'el sits sworn it oft, and will in tail;\\nAnd many a bottle with us, dispatch Tybal.\\n\\nKING RICHARD II:\\nWe bid them forth to put armour on.\\nNay, go not from her tear; madly account\\nOu, full as lies he's here. Grace thy virtue,\\nWhether you have pleased themselves.\\nHark, heaven is thus!\\nHow often has we have show'd too much,\\nThat rends him fearful droams that gives a wedding death\\nTo grace upon, and the Loss of \"\n",
            " b\"ROMEO:\\nWas ever womanishes?\\nPurcisust thee then, my lord, and Wastening so,\\nI sue shortly, with old report.\\n\\nESCALUS:\\nBy a divine instrument. They shall be ta'en,\\nNear understand that he needs butches ere?\\n\\nRoman:\\nThe son of my import humours, when afflict\\nAnd dance you fearful; nor a halvant's fount\\nAnd that 'I'll lack saint 'em his that hast for you\\nTo help him holding: something rogue!\\nFarewell, ere Romeo tellus for York,\\nEntonious as the last wicked fool,\\nAnd thou my kneller manners.\\n\\nCAMILLO:\\nAy, 'twere's her, she sure, the third upon you.\\n\\nLUCENTIO:\\nAnd, in my elderes, I will with foreign pour of piteous\\nWarses have accused them about;\\nWere vantage to the fights,\\nMore villain in secrets. Romeo,\\nOr let me prison; and cuble it\\ngroom villain,--O, tell me, master man? am such two days?\\nWere he, my lord, to hear him join, behold\\nThe bloody of the king.\\n\\nSICINIUS:\\nLet it be corrupted wit:\\nAnother else? a man at learn's meet I could light\\nTo me, I'll virginius.\\n\\nBUCKINGHAM:\\nWho hopest touches\"\n",
            " b\"ROMEO:\\nHow? we'll to gies.\\n\\nCOMINIUS:\\nYou bright Northumberland, I fear not and\\ntouch'd that I have show'd them with this gentleman,\\nThe rather tend the sanctuary were he\\nTo quicken your.\\n\\nShepherd:\\nTybalt, that you might have spoken law,\\nGreat Lord of Exeter, take, counsel in what I have\\nshaked mine enemy; hark, though created us;\\nAnd, if you lose my wanton citizens\\nGod with the business. Here is thy drift;\\nFor now had quarrel it in boot with such a love,\\nWhen such unnaturate-hearts of woes,\\nWith treacherous jound as Pount too.\\n\\nGREMIO:\\nHark, what shall we do?\\nI do not pubject, here's the doging,\\nIn her poisent of my heart me business.\\n\\nFirst Musician:\\nNay, there's the compassion of holy manage is\\nthe cap; and to the man, which briefly\\ndistraccled on the short is pardon to thy life,\\nPladued a party touch the envious 'shall,\\nShe speaks my say schall, that he shall store him;\\nBut some, take purpose with such maids; let it choose,\\nMy tears great memest he was ever ready\\nTo flatter your incless\"], shape=(5,), dtype=string) \n",
            "\n",
            "________________________________________________________________________________\n",
            "\n",
            "Run time: 4.631447076797485\n"
          ]
        }
      ]
    },
    {
      "cell_type": "markdown",
      "source": [
        "## Ekspor Model Generator\n",
        "Model satu langkah ini dapat dengan mudah disimpan dan digunakan kembali, memungkinkan Anda menggunakannya di mana pun tf.saved_model diterima."
      ],
      "metadata": {
        "id": "5L4K2-4EMdba"
      }
    },
    {
      "cell_type": "code",
      "source": [
        "tf.saved_model.save(one_step_model, 'one_step')\n",
        "one_step_reloaded = tf.saved_model.load('one_step')"
      ],
      "metadata": {
        "id": "R2Y0Vkn8Md6G",
        "outputId": "90a6c473-2b33-4781-865c-09c7ebdb41c9",
        "colab": {
          "base_uri": "https://localhost:8080/"
        }
      },
      "execution_count": 45,
      "outputs": [
        {
          "output_type": "stream",
          "name": "stderr",
          "text": [
            "WARNING:tensorflow:Skipping full serialization of Keras layer <__main__.OneStep object at 0x7daaa0b65f90>, because it is not built.\n",
            "WARNING:tensorflow:Model's `__init__()` arguments contain non-serializable objects. Please implement a `get_config()` method in the subclassed Model for proper saving and loading. Defaulting to empty config.\n",
            "WARNING:tensorflow:Model's `__init__()` arguments contain non-serializable objects. Please implement a `get_config()` method in the subclassed Model for proper saving and loading. Defaulting to empty config.\n"
          ]
        }
      ]
    },
    {
      "cell_type": "code",
      "source": [
        "states = None\n",
        "next_char = tf.constant(['ROMEO:'])\n",
        "result = [next_char]\n",
        "\n",
        "for n in range(100):\n",
        "  next_char, states = one_step_reloaded.generate_one_step(next_char, states=states)\n",
        "  result.append(next_char)\n",
        "\n",
        "print(tf.strings.join(result)[0].numpy().decode(\"utf-8\"))"
      ],
      "metadata": {
        "id": "tCh7d_KvMhVL",
        "outputId": "66927888-9cf2-4a8d-de6a-b6e98471d3cd",
        "colab": {
          "base_uri": "https://localhost:8080/"
        }
      },
      "execution_count": 46,
      "outputs": [
        {
          "output_type": "stream",
          "name": "stdout",
          "text": [
            "ROMEO:\n",
            "Let me slough to break an of my life; and so,\n",
            "Thou poesting earl to rine and called fors'?\n",
            "\n",
            "PETRUCH\n"
          ]
        }
      ]
    },
    {
      "cell_type": "markdown",
      "source": [
        "## **Tugas**\n",
        "\n",
        "Prosedur pelatihan pada praktikum 2 merupakan prosedur sederhana, yang tidak memberi Anda banyak kendali. Model ini menggunakan \"teacher-forcing\" yang mencegah prediksi buruk diumpankan kembali ke model, sehingga model tidak pernah belajar untuk pulih dari kesalahan. Jadi, setelah Anda melihat cara menjalankan model secara manual, selanjutnya Anda akan mengimplementasikan custom loop pelatihan. Hal ini memberikan titik awal jika, misalnya, Anda ingin menerapkan pembelajaran kurikulum untuk membantu menstabilkan keluaran open-loop model. Bagian terpenting dari loop pelatihan khusus adalah fungsi langkah pelatihan.\n",
        "\n",
        "\n",
        "Gunakan tf.GradientTape untuk men track nilai gradient. Anda dapat mempelajari lebih lanjut tentang pendekatan ini dengan membaca eager execution guide.\n",
        "Prosedurnya adalah:\n",
        "\n",
        "\n",
        "1. Jalankan Model dan hitung loss dengan tf.GradientTape.\n",
        "2. Hitung update dan terapkan pada model dengan optimizer"
      ],
      "metadata": {
        "id": "8udO-9NpSs5W"
      }
    },
    {
      "cell_type": "code",
      "source": [
        "class CustomTraining(MyModel):\n",
        "  @tf.function\n",
        "  def train_step(self, inputs):\n",
        "    inputs, labels = inputs\n",
        "    with tf.GradientTape() as tape:\n",
        "      predictions = self(inputs, training=True)\n",
        "      loss = self.loss(labels, predictions)\n",
        "      grads = tape.gradient(loss, model.trainable_variables)\n",
        "      self.optimizer.apply_gradients(zip(grads, model.trainable_variables))\n",
        "\n",
        "      return {'loss': loss}\n",
        "\n",
        "model = CustomTraining(\n",
        "    vocab_size=len(ids_from_chars.get_vocabulary()),\n",
        "    embedding_dim=embedding_dim,\n",
        "    rnn_units=rnn_units)\n",
        "\n",
        "model.compile(optimizer = tf.keras.optimizers.Adam(), loss=tf.keras.losses.SparseCategoricalCrossentropy(from_logits=True))\n",
        "\n",
        "model.fit(dataset, epochs=1)\n",
        "\n",
        "EPOCHS = 10\n",
        "\n",
        "mean = tf.metrics.Mean()\n",
        "\n",
        "for epoch in range(EPOCHS):\n",
        "  start = time.time()\n",
        "\n",
        "  mean.reset_states()\n",
        "  for (batch_n, (inp, target)) in enumerate(dataset):\n",
        "    logs = model.train_step([inp, target])\n",
        "    mean.update_state(logs['loss'])\n",
        "\n",
        "    if batch_n % 50 == 0:\n",
        "      template = f\"Epoch {epoch+1} Batch {batch_n} Loss {logs['loss']:.4f}\"\n",
        "      print(template)\n",
        "\n",
        "  # saving (checkpoint) the model every 5 epochs\n",
        "  if (epoch + 1) % 5 == 0:\n",
        "    model.save_weights(checkpoint_prefix.format(epoch=epoch))\n",
        "\n",
        "  print()\n",
        "  print(f'Epoch {epoch+1} Loss: {mean.result().numpy():.4f}')\n",
        "  print(f'Time taken for 1 epoch {time.time() - start:.2f} sec')\n",
        "  print(\"_\"*80)\n",
        "\n",
        "model.save_weights(checkpoint_prefix.format(epoch=epoch))"
      ],
      "metadata": {
        "id": "B9TM3keJNp_g",
        "outputId": "10302c3d-7b47-48e4-8b09-c9dd786434d1",
        "colab": {
          "base_uri": "https://localhost:8080/"
        }
      },
      "execution_count": 47,
      "outputs": [
        {
          "output_type": "stream",
          "name": "stdout",
          "text": [
            "172/172 [==============================] - 19s 66ms/step - loss: 2.7227\n",
            "Epoch 1 Batch 0 Loss 2.1886\n",
            "Epoch 1 Batch 50 Loss 2.0591\n",
            "Epoch 1 Batch 100 Loss 1.9981\n",
            "Epoch 1 Batch 150 Loss 1.8497\n",
            "\n",
            "Epoch 1 Loss: 1.9934\n",
            "Time taken for 1 epoch 15.77 sec\n",
            "________________________________________________________________________________\n",
            "Epoch 2 Batch 0 Loss 1.8175\n",
            "Epoch 2 Batch 50 Loss 1.7274\n",
            "Epoch 2 Batch 100 Loss 1.7059\n",
            "Epoch 2 Batch 150 Loss 1.6561\n",
            "\n",
            "Epoch 2 Loss: 1.7115\n",
            "Time taken for 1 epoch 13.60 sec\n",
            "________________________________________________________________________________\n",
            "Epoch 3 Batch 0 Loss 1.5976\n",
            "Epoch 3 Batch 50 Loss 1.5499\n",
            "Epoch 3 Batch 100 Loss 1.5360\n",
            "Epoch 3 Batch 150 Loss 1.4757\n",
            "\n",
            "Epoch 3 Loss: 1.5484\n",
            "Time taken for 1 epoch 12.42 sec\n",
            "________________________________________________________________________________\n",
            "Epoch 4 Batch 0 Loss 1.5035\n",
            "Epoch 4 Batch 50 Loss 1.4352\n",
            "Epoch 4 Batch 100 Loss 1.4459\n",
            "Epoch 4 Batch 150 Loss 1.4385\n",
            "\n",
            "Epoch 4 Loss: 1.4491\n",
            "Time taken for 1 epoch 20.47 sec\n",
            "________________________________________________________________________________\n",
            "Epoch 5 Batch 0 Loss 1.4381\n",
            "Epoch 5 Batch 50 Loss 1.3038\n",
            "Epoch 5 Batch 100 Loss 1.3753\n",
            "Epoch 5 Batch 150 Loss 1.3468\n",
            "\n",
            "Epoch 5 Loss: 1.3798\n",
            "Time taken for 1 epoch 12.17 sec\n",
            "________________________________________________________________________________\n",
            "Epoch 6 Batch 0 Loss 1.2828\n",
            "Epoch 6 Batch 50 Loss 1.3544\n",
            "Epoch 6 Batch 100 Loss 1.3356\n",
            "Epoch 6 Batch 150 Loss 1.3202\n",
            "\n",
            "Epoch 6 Loss: 1.3277\n",
            "Time taken for 1 epoch 12.09 sec\n",
            "________________________________________________________________________________\n",
            "Epoch 7 Batch 0 Loss 1.2754\n",
            "Epoch 7 Batch 50 Loss 1.3388\n",
            "Epoch 7 Batch 100 Loss 1.2893\n",
            "Epoch 7 Batch 150 Loss 1.2618\n",
            "\n",
            "Epoch 7 Loss: 1.2821\n",
            "Time taken for 1 epoch 12.47 sec\n",
            "________________________________________________________________________________\n",
            "Epoch 8 Batch 0 Loss 1.2229\n",
            "Epoch 8 Batch 50 Loss 1.2580\n",
            "Epoch 8 Batch 100 Loss 1.2630\n",
            "Epoch 8 Batch 150 Loss 1.2341\n",
            "\n",
            "Epoch 8 Loss: 1.2412\n",
            "Time taken for 1 epoch 13.39 sec\n",
            "________________________________________________________________________________\n",
            "Epoch 9 Batch 0 Loss 1.1989\n",
            "Epoch 9 Batch 50 Loss 1.1812\n",
            "Epoch 9 Batch 100 Loss 1.2160\n",
            "Epoch 9 Batch 150 Loss 1.2244\n",
            "\n",
            "Epoch 9 Loss: 1.1997\n",
            "Time taken for 1 epoch 12.91 sec\n",
            "________________________________________________________________________________\n",
            "Epoch 10 Batch 0 Loss 1.0843\n",
            "Epoch 10 Batch 50 Loss 1.1783\n",
            "Epoch 10 Batch 100 Loss 1.1671\n",
            "Epoch 10 Batch 150 Loss 1.1673\n",
            "\n",
            "Epoch 10 Loss: 1.1597\n",
            "Time taken for 1 epoch 12.26 sec\n",
            "________________________________________________________________________________\n"
          ]
        }
      ]
    },
    {
      "cell_type": "markdown",
      "source": [
        "### **Kesimpulan Jawaban Tugas**\n",
        "\n",
        "Perbedaan antara kode tugas dan praktikum 2 terletak pada strategi pelatihan yang digunakan. Pada praktikum 2, kita memanfaatkan pendekatan pelatihan umum dengan menggunakan model.fit. Sebaliknya, dalam kode tugas, kita menghadirkan pendekatan yang lebih spesifik dan kompleks. Pada pendekatan ini, kita mendefinisikan metode train_step di dalam model turunan, yang mengendalikan pelatihan pada tingkat batch.\n",
        "\n",
        "Secara eksplisit, kita menghitung loss, gradien, dan menerapkan pembaruan bobot model dengan apply_gradients. Selain itu, kita menggunakan objek tf.metrics.Mean untuk menghitung rata-rata loss selama pelatihan. Pendekatan ini memberikan tingkat kontrol dan fleksibilitas yang lebih tinggi dalam mengatur proses pelatihan model."
      ],
      "metadata": {
        "id": "D0Q96OmTSno-"
      }
    }
  ]
}